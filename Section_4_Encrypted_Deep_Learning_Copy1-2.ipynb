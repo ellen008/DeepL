{
  "nbformat": 4,
  "nbformat_minor": 0,
  "metadata": {
    "kernelspec": {
      "name": "python3",
      "display_name": "Python 3"
    },
    "language_info": {
      "codemirror_mode": {
        "name": "ipython",
        "version": 3
      },
      "file_extension": ".py",
      "mimetype": "text/x-python",
      "name": "python",
      "nbconvert_exporter": "python",
      "pygments_lexer": "ipython3",
      "version": "3.7.3"
    },
    "colab": {
      "name": "Section 4 - Encrypted Deep Learning-Copy1.ipynb",
      "version": "0.3.2",
      "provenance": [],
      "collapsed_sections": [
        "OJBDcfqBGEen",
        "Hy47x4DLGEe0",
        "e7Yf5sNmGEe2"
      ],
      "toc_visible": true
    }
  },
  "cells": [
    {
      "cell_type": "markdown",
      "metadata": {
        "id": "wKDi7TbwGEcv",
        "colab_type": "text"
      },
      "source": [
        "# Section: Encrypted Deep Learning\n",
        "\n",
        "- Lesson: Reviewing Additive Secret Sharing\n",
        "- Lesson: Encrypted Subtraction and Public/Scalar Multiplication\n",
        "- Lesson: Encrypted Computation in PySyft\n",
        "- Project: Build an Encrypted Database\n",
        "- Lesson: Encrypted Deep Learning in PyTorch\n",
        "- Lesson: Encrypted Deep Learning in Keras\n",
        "- Final Project"
      ]
    },
    {
      "cell_type": "markdown",
      "metadata": {
        "id": "u2W5ELoMGEcx",
        "colab_type": "text"
      },
      "source": [
        "# Lesson: Reviewing Additive Secret Sharing\n",
        "\n",
        "_For more great information about SMPC protocols like this one, visit https://mortendahl.github.io. With permission, Morten's work directly inspired this first teaching segment._"
      ]
    },
    {
      "cell_type": "code",
      "metadata": {
        "id": "16vukkG-GEcz",
        "colab_type": "code",
        "colab": {}
      },
      "source": [
        "import random\n",
        "import numpy as np\n",
        "\n",
        "BASE = 10\n",
        "\n",
        "PRECISION_INTEGRAL = 8\n",
        "PRECISION_FRACTIONAL = 8\n",
        "Q = 293973345475167247070445277780365744413\n",
        "\n",
        "PRECISION = PRECISION_INTEGRAL + PRECISION_FRACTIONAL\n",
        "\n",
        "assert(Q > BASE**PRECISION)\n",
        "\n",
        "def encode(rational):\n",
        "    upscaled = int(rational * BASE**PRECISION_FRACTIONAL)\n",
        "    field_element = upscaled % Q\n",
        "    return field_element\n",
        "\n",
        "def decode(field_element):\n",
        "    upscaled = field_element if field_element <= Q/2 else field_element - Q\n",
        "    rational = upscaled / BASE**PRECISION_FRACTIONAL\n",
        "    return rational\n",
        "\n",
        "def encrypt(secret):\n",
        "    first  = random.randrange(Q)\n",
        "    second = random.randrange(Q)\n",
        "    third  = (secret - first - second) % Q\n",
        "    return [first, second, third]\n",
        "\n",
        "def decrypt(sharing):\n",
        "    return sum(sharing) % Q\n",
        "\n",
        "def add(a, b):\n",
        "    c = list()\n",
        "    for i in range(len(a)):\n",
        "        c.append((a[i] + b[i]) % Q)\n",
        "    return tuple(c)"
      ],
      "execution_count": 0,
      "outputs": []
    },
    {
      "cell_type": "code",
      "metadata": {
        "id": "h5mn1bPsGEc9",
        "colab_type": "code",
        "outputId": "95dbb8ec-6802-4e3c-dc3a-c8edb93ad400",
        "colab": {
          "base_uri": "https://localhost:8080/",
          "height": 68
        }
      },
      "source": [
        "x = encrypt(encode(5.5))\n",
        "x"
      ],
      "execution_count": 0,
      "outputs": [
        {
          "output_type": "execute_result",
          "data": {
            "text/plain": [
              "[34503008860121728558220447094759759050,\n",
              " 110977317295877189596451182397309101322,\n",
              " 148493019319168328915773648288846884041]"
            ]
          },
          "metadata": {
            "tags": []
          },
          "execution_count": 2
        }
      ]
    },
    {
      "cell_type": "code",
      "metadata": {
        "id": "a8XZ296vGEdC",
        "colab_type": "code",
        "outputId": "0ae1b1da-b0d4-4ae0-8055-bf7842613a3a",
        "colab": {
          "base_uri": "https://localhost:8080/",
          "height": 68
        }
      },
      "source": [
        "y = encrypt(encode(2.3))\n",
        "y"
      ],
      "execution_count": 0,
      "outputs": [
        {
          "output_type": "execute_result",
          "data": {
            "text/plain": [
              "[95518102768283605434749794987837409592,\n",
              " 161161446605525569251759860964605016629,\n",
              " 37293796101358072383935621828153318191]"
            ]
          },
          "metadata": {
            "tags": []
          },
          "execution_count": 3
        }
      ]
    },
    {
      "cell_type": "code",
      "metadata": {
        "id": "9POJZ8hRGEdG",
        "colab_type": "code",
        "outputId": "213c8f14-c537-45df-9e8b-eb6f7f25357b",
        "colab": {
          "base_uri": "https://localhost:8080/",
          "height": 68
        }
      },
      "source": [
        "z = add(x,y)\n",
        "z"
      ],
      "execution_count": 0,
      "outputs": [
        {
          "output_type": "execute_result",
          "data": {
            "text/plain": [
              "(175625278757526625526046707543410525919,\n",
              " 21497124117666852391520974989661764542,\n",
              " 96850942599973769152877595248073453951)"
            ]
          },
          "metadata": {
            "tags": []
          },
          "execution_count": 4
        }
      ]
    },
    {
      "cell_type": "code",
      "metadata": {
        "id": "Yw_ZjODPGEdL",
        "colab_type": "code",
        "outputId": "f5a97f42-c218-47a2-f50b-8db057e1bd8e",
        "colab": {
          "base_uri": "https://localhost:8080/",
          "height": 34
        }
      },
      "source": [
        "decode(decrypt(z))"
      ],
      "execution_count": 0,
      "outputs": [
        {
          "output_type": "execute_result",
          "data": {
            "text/plain": [
              "7.79999999"
            ]
          },
          "metadata": {
            "tags": []
          },
          "execution_count": 5
        }
      ]
    },
    {
      "cell_type": "markdown",
      "metadata": {
        "id": "EVdDF1SPGEdQ",
        "colab_type": "text"
      },
      "source": [
        "# Lesson: Encrypted Subtraction and Public/Scalar Multiplication"
      ]
    },
    {
      "cell_type": "code",
      "metadata": {
        "id": "YzcBFHYaGEdR",
        "colab_type": "code",
        "colab": {}
      },
      "source": [
        ""
      ],
      "execution_count": 0,
      "outputs": []
    },
    {
      "cell_type": "code",
      "metadata": {
        "id": "3NBRbB1PGEdT",
        "colab_type": "code",
        "colab": {}
      },
      "source": [
        "field = 23740629843760239486723"
      ],
      "execution_count": 0,
      "outputs": []
    },
    {
      "cell_type": "code",
      "metadata": {
        "id": "gAGKJXJeGEdV",
        "colab_type": "code",
        "colab": {}
      },
      "source": [
        "x = 5\n",
        "\n",
        "bob_x_share = 2372385723 # random number\n",
        "alices_x_share = field - bob_x_share + x"
      ],
      "execution_count": 0,
      "outputs": []
    },
    {
      "cell_type": "code",
      "metadata": {
        "id": "3a1cPgfSGEdW",
        "colab_type": "code",
        "outputId": "bcf23426-8a08-4b2a-a16b-ce299a4e6de0",
        "colab": {
          "base_uri": "https://localhost:8080/",
          "height": 34
        }
      },
      "source": [
        "(bob_x_share + alices_x_share) % field"
      ],
      "execution_count": 0,
      "outputs": [
        {
          "output_type": "execute_result",
          "data": {
            "text/plain": [
              "5"
            ]
          },
          "metadata": {
            "tags": []
          },
          "execution_count": 8
        }
      ]
    },
    {
      "cell_type": "code",
      "metadata": {
        "id": "A3Hekc9qGEdZ",
        "colab_type": "code",
        "colab": {}
      },
      "source": [
        "field = 10\n",
        "\n",
        "x = 5\n",
        "\n",
        "bob_x_share = 8\n",
        "alice_x_share = field - bob_x_share + x\n",
        "\n",
        "y = 1\n",
        "\n",
        "bob_y_share = 9\n",
        "alice_y_share = field - bob_y_share + y"
      ],
      "execution_count": 0,
      "outputs": []
    },
    {
      "cell_type": "code",
      "metadata": {
        "id": "p0EqF2YoGEdc",
        "colab_type": "code",
        "outputId": "932b6cee-7fba-40cd-9739-c0175fffe65e",
        "colab": {
          "base_uri": "https://localhost:8080/",
          "height": 34
        }
      },
      "source": [
        "((bob_x_share + alice_x_share) - (bob_y_share + alice_y_share)) % field"
      ],
      "execution_count": 0,
      "outputs": [
        {
          "output_type": "execute_result",
          "data": {
            "text/plain": [
              "4"
            ]
          },
          "metadata": {
            "tags": []
          },
          "execution_count": 10
        }
      ]
    },
    {
      "cell_type": "code",
      "metadata": {
        "id": "x0lxUPMzGEdh",
        "colab_type": "code",
        "outputId": "809feeef-6d21-41ff-ab0a-171585fd2a86",
        "colab": {
          "base_uri": "https://localhost:8080/",
          "height": 34
        }
      },
      "source": [
        "((bob_x_share - bob_y_share) + (alice_x_share - alice_y_share)) % field"
      ],
      "execution_count": 0,
      "outputs": [
        {
          "output_type": "execute_result",
          "data": {
            "text/plain": [
              "4"
            ]
          },
          "metadata": {
            "tags": []
          },
          "execution_count": 11
        }
      ]
    },
    {
      "cell_type": "code",
      "metadata": {
        "id": "qtrYCJB8GEdj",
        "colab_type": "code",
        "outputId": "44d93897-0240-4bef-dea7-4582257d9588",
        "colab": {
          "base_uri": "https://localhost:8080/",
          "height": 34
        }
      },
      "source": [
        "bob_x_share + alice_x_share + bob_y_share + alice_y_share"
      ],
      "execution_count": 0,
      "outputs": [
        {
          "output_type": "execute_result",
          "data": {
            "text/plain": [
              "26"
            ]
          },
          "metadata": {
            "tags": []
          },
          "execution_count": 12
        }
      ]
    },
    {
      "cell_type": "code",
      "metadata": {
        "id": "QtMsvmGfGEdl",
        "colab_type": "code",
        "colab": {}
      },
      "source": [
        "bob_z_share = (bob_x_share - bob_y_share)\n",
        "alice_z_share = (alice_x_share - alice_y_share)"
      ],
      "execution_count": 0,
      "outputs": []
    },
    {
      "cell_type": "code",
      "metadata": {
        "id": "-TttzDHUGEdm",
        "colab_type": "code",
        "outputId": "9ff52c44-57ef-4ee7-926b-31f86051b59d",
        "colab": {
          "base_uri": "https://localhost:8080/",
          "height": 34
        }
      },
      "source": [
        "(bob_z_share + alice_z_share) % field"
      ],
      "execution_count": 0,
      "outputs": [
        {
          "output_type": "execute_result",
          "data": {
            "text/plain": [
              "4"
            ]
          },
          "metadata": {
            "tags": []
          },
          "execution_count": 14
        }
      ]
    },
    {
      "cell_type": "code",
      "metadata": {
        "id": "lRY5IaHCGEdn",
        "colab_type": "code",
        "colab": {}
      },
      "source": [
        "def sub(a, b):\n",
        "    c = list()\n",
        "    for i in range(len(a)):\n",
        "        c.append((a[i] - b[i]) % Q)\n",
        "    return tuple(c)"
      ],
      "execution_count": 0,
      "outputs": []
    },
    {
      "cell_type": "code",
      "metadata": {
        "id": "eiz_nI0_GEdp",
        "colab_type": "code",
        "colab": {}
      },
      "source": [
        "field = 10\n",
        "\n",
        "x = 5\n",
        "\n",
        "bob_x_share = 8\n",
        "alice_x_share = field - bob_x_share + x\n",
        "\n",
        "y = 1\n",
        "\n",
        "bob_y_share = 9\n",
        "alice_y_share = field - bob_y_share + y"
      ],
      "execution_count": 0,
      "outputs": []
    },
    {
      "cell_type": "code",
      "metadata": {
        "id": "NcGg0UtWGEdt",
        "colab_type": "code",
        "outputId": "54f6ed43-0bfe-49af-a3e5-441dcfdf43b6",
        "colab": {
          "base_uri": "https://localhost:8080/",
          "height": 34
        }
      },
      "source": [
        "bob_x_share + alice_x_share"
      ],
      "execution_count": 0,
      "outputs": [
        {
          "output_type": "execute_result",
          "data": {
            "text/plain": [
              "15"
            ]
          },
          "metadata": {
            "tags": []
          },
          "execution_count": 17
        }
      ]
    },
    {
      "cell_type": "code",
      "metadata": {
        "id": "lSLmWn6PGEdv",
        "colab_type": "code",
        "outputId": "7dd008ce-2e22-436e-ec15-85b6241a0def",
        "colab": {
          "base_uri": "https://localhost:8080/",
          "height": 34
        }
      },
      "source": [
        "bob_y_share + alice_y_share"
      ],
      "execution_count": 0,
      "outputs": [
        {
          "output_type": "execute_result",
          "data": {
            "text/plain": [
              "11"
            ]
          },
          "metadata": {
            "tags": []
          },
          "execution_count": 18
        }
      ]
    },
    {
      "cell_type": "code",
      "metadata": {
        "id": "thvEI7bHGEdx",
        "colab_type": "code",
        "outputId": "38654acc-d72a-45ca-859f-62d8d55ad9f5",
        "colab": {
          "base_uri": "https://localhost:8080/",
          "height": 34
        }
      },
      "source": [
        "((bob_y_share * 3) + (alice_y_share * 3)) % field"
      ],
      "execution_count": 0,
      "outputs": [
        {
          "output_type": "execute_result",
          "data": {
            "text/plain": [
              "3"
            ]
          },
          "metadata": {
            "tags": []
          },
          "execution_count": 19
        }
      ]
    },
    {
      "cell_type": "code",
      "metadata": {
        "id": "vDYvAyNvGEdz",
        "colab_type": "code",
        "colab": {}
      },
      "source": [
        "def imul(a, scalar):\n",
        "    \n",
        "    # logic here which can multiply by a public scalar\n",
        "    \n",
        "    c = list()\n",
        "    \n",
        "    for i in range(len(a)):\n",
        "        c.append((a[i] * scalar) % Q)\n",
        "        \n",
        "    return tuple(c)"
      ],
      "execution_count": 0,
      "outputs": []
    },
    {
      "cell_type": "code",
      "metadata": {
        "id": "ermogalvGEd1",
        "colab_type": "code",
        "outputId": "99d2c1af-8ccb-444e-9ac4-9b2eafdb39aa",
        "colab": {
          "base_uri": "https://localhost:8080/",
          "height": 68
        }
      },
      "source": [
        "x = encrypt(encode(5.5))\n",
        "x"
      ],
      "execution_count": 0,
      "outputs": [
        {
          "output_type": "execute_result",
          "data": {
            "text/plain": [
              "[14377519562688087180292531072798533660,\n",
              " 5072973488825539420145495081428746042,\n",
              " 274522852423653620470007251626688464711]"
            ]
          },
          "metadata": {
            "tags": []
          },
          "execution_count": 21
        }
      ]
    },
    {
      "cell_type": "code",
      "metadata": {
        "id": "8PbnxH5HGEd2",
        "colab_type": "code",
        "colab": {}
      },
      "source": [
        "z = imul(x, 3)"
      ],
      "execution_count": 0,
      "outputs": []
    },
    {
      "cell_type": "code",
      "metadata": {
        "id": "Bn6BUMyAGEd3",
        "colab_type": "code",
        "outputId": "7b5e3131-90bd-4a61-8d82-c75c4a19e4c2",
        "colab": {
          "base_uri": "https://localhost:8080/",
          "height": 34
        }
      },
      "source": [
        "decode(decrypt(z))"
      ],
      "execution_count": 0,
      "outputs": [
        {
          "output_type": "execute_result",
          "data": {
            "text/plain": [
              "16.5"
            ]
          },
          "metadata": {
            "tags": []
          },
          "execution_count": 23
        }
      ]
    },
    {
      "cell_type": "markdown",
      "metadata": {
        "id": "LDG2XpP-GEd5",
        "colab_type": "text"
      },
      "source": [
        "# Lesson: Encrypted Computation in PySyft"
      ]
    },
    {
      "cell_type": "code",
      "metadata": {
        "id": "EQWUA-BbKx2e",
        "colab_type": "code",
        "outputId": "4ee7788e-3c58-458d-e443-2d4299997c18",
        "colab": {
          "base_uri": "https://localhost:8080/",
          "height": 1000
        }
      },
      "source": [
        "!pip install syft"
      ],
      "execution_count": 2,
      "outputs": [
        {
          "output_type": "stream",
          "text": [
            "Collecting syft\n",
            "\u001b[?25l  Downloading https://files.pythonhosted.org/packages/38/97/ed6d24eb3453d03ca59a2e5f271d44b664513c625b3f194b8ea98969b4d9/syft-0.1.25a1-py3-none-any.whl (287kB)\n",
            "\u001b[K     |████████████████████████████████| 296kB 2.6MB/s \n",
            "\u001b[?25hCollecting msgpack>=0.6.1 (from syft)\n",
            "\u001b[?25l  Downloading https://files.pythonhosted.org/packages/92/7e/ae9e91c1bb8d846efafd1f353476e3fd7309778b582d2fb4cea4cc15b9a2/msgpack-0.6.1-cp36-cp36m-manylinux1_x86_64.whl (248kB)\n",
            "\u001b[K     |████████████████████████████████| 256kB 40.9MB/s \n",
            "\u001b[?25hCollecting flask-socketio>=3.3.2 (from syft)\n",
            "  Downloading https://files.pythonhosted.org/packages/66/44/edc4715af85671b943c18ac8345d0207972284a0cd630126ff5251faa08b/Flask_SocketIO-4.2.1-py2.py3-none-any.whl\n",
            "Requirement already satisfied: scikit-learn>=0.21.0 in /usr/local/lib/python3.6/dist-packages (from syft) (0.21.3)\n",
            "Requirement already satisfied: torch==1.1 in /usr/local/lib/python3.6/dist-packages (from syft) (1.1.0)\n",
            "Requirement already satisfied: tblib>=1.4.0 in /usr/local/lib/python3.6/dist-packages (from syft) (1.4.0)\n",
            "Collecting lz4>=2.1.6 (from syft)\n",
            "\u001b[?25l  Downloading https://files.pythonhosted.org/packages/0a/c6/96bbb3525a63ebc53ea700cc7d37ab9045542d33b4d262d0f0408ad9bbf2/lz4-2.1.10-cp36-cp36m-manylinux1_x86_64.whl (385kB)\n",
            "\u001b[K     |████████████████████████████████| 389kB 35.7MB/s \n",
            "\u001b[?25hCollecting websocket-client>=0.56.0 (from syft)\n",
            "\u001b[?25l  Downloading https://files.pythonhosted.org/packages/29/19/44753eab1fdb50770ac69605527e8859468f3c0fd7dc5a76dd9c4dbd7906/websocket_client-0.56.0-py2.py3-none-any.whl (200kB)\n",
            "\u001b[K     |████████████████████████████████| 204kB 42.9MB/s \n",
            "\u001b[?25hCollecting websockets>=7.0 (from syft)\n",
            "\u001b[?25l  Downloading https://files.pythonhosted.org/packages/f0/4b/ad228451b1c071c5c52616b7d4298ebcfcac5ae8515ede959db19e4cd56d/websockets-8.0.2-cp36-cp36m-manylinux1_x86_64.whl (72kB)\n",
            "\u001b[K     |████████████████████████████████| 81kB 34.3MB/s \n",
            "\u001b[?25hRequirement already satisfied: numpy>=1.14.0 in /usr/local/lib/python3.6/dist-packages (from syft) (1.16.4)\n",
            "Collecting zstd>=1.4.0.0 (from syft)\n",
            "\u001b[?25l  Downloading https://files.pythonhosted.org/packages/22/37/6a7ba746ebddbd6cd06de84367515d6bc239acd94fb3e0b1c85788176ca2/zstd-1.4.1.0.tar.gz (454kB)\n",
            "\u001b[K     |████████████████████████████████| 460kB 42.7MB/s \n",
            "\u001b[?25hRequirement already satisfied: Flask>=1.0.2 in /usr/local/lib/python3.6/dist-packages (from syft) (1.1.1)\n",
            "Collecting tf-encrypted!=0.5.7,>=0.5.4 (from syft)\n",
            "\u001b[?25l  Downloading https://files.pythonhosted.org/packages/1f/82/cf15aeac92525da2f794956712e7ebf418819390dec783430ee242b52d0b/tf_encrypted-0.5.8-py3-none-manylinux1_x86_64.whl (2.1MB)\n",
            "\u001b[K     |████████████████████████████████| 2.1MB 35.1MB/s \n",
            "\u001b[?25hRequirement already satisfied: torchvision==0.3.0 in /usr/local/lib/python3.6/dist-packages (from syft) (0.3.0)\n",
            "Collecting python-socketio>=4.3.0 (from flask-socketio>=3.3.2->syft)\n",
            "\u001b[?25l  Downloading https://files.pythonhosted.org/packages/35/b0/22c3f785f23fec5c7a815f47c55d7e7946a67ae2129ff604148e939d3bdb/python_socketio-4.3.1-py2.py3-none-any.whl (49kB)\n",
            "\u001b[K     |████████████████████████████████| 51kB 26.6MB/s \n",
            "\u001b[?25hRequirement already satisfied: joblib>=0.11 in /usr/local/lib/python3.6/dist-packages (from scikit-learn>=0.21.0->syft) (0.13.2)\n",
            "Requirement already satisfied: scipy>=0.17.0 in /usr/local/lib/python3.6/dist-packages (from scikit-learn>=0.21.0->syft) (1.3.1)\n",
            "Requirement already satisfied: six in /usr/local/lib/python3.6/dist-packages (from websocket-client>=0.56.0->syft) (1.12.0)\n",
            "Requirement already satisfied: Werkzeug>=0.15 in /usr/local/lib/python3.6/dist-packages (from Flask>=1.0.2->syft) (0.15.5)\n",
            "Requirement already satisfied: Jinja2>=2.10.1 in /usr/local/lib/python3.6/dist-packages (from Flask>=1.0.2->syft) (2.10.1)\n",
            "Requirement already satisfied: click>=5.1 in /usr/local/lib/python3.6/dist-packages (from Flask>=1.0.2->syft) (7.0)\n",
            "Requirement already satisfied: itsdangerous>=0.24 in /usr/local/lib/python3.6/dist-packages (from Flask>=1.0.2->syft) (1.1.0)\n",
            "Collecting pyyaml>=5.1 (from tf-encrypted!=0.5.7,>=0.5.4->syft)\n",
            "\u001b[?25l  Downloading https://files.pythonhosted.org/packages/e3/e8/b3212641ee2718d556df0f23f78de8303f068fe29cdaa7a91018849582fe/PyYAML-5.1.2.tar.gz (265kB)\n",
            "\u001b[K     |████████████████████████████████| 266kB 47.3MB/s \n",
            "\u001b[?25hRequirement already satisfied: tensorflow<2,>=1.12.0 in /usr/local/lib/python3.6/dist-packages (from tf-encrypted!=0.5.7,>=0.5.4->syft) (1.14.0)\n",
            "Requirement already satisfied: pillow>=4.1.1 in /usr/local/lib/python3.6/dist-packages (from torchvision==0.3.0->syft) (4.3.0)\n",
            "Collecting python-engineio>=3.9.0 (from python-socketio>=4.3.0->flask-socketio>=3.3.2->syft)\n",
            "\u001b[?25l  Downloading https://files.pythonhosted.org/packages/2b/20/8e3ba16102ae2e245d70d9cb9fa48b076253fdb036dc43eea142294c2897/python_engineio-3.9.3-py2.py3-none-any.whl (119kB)\n",
            "\u001b[K     |████████████████████████████████| 122kB 54.8MB/s \n",
            "\u001b[?25hRequirement already satisfied: MarkupSafe>=0.23 in /usr/local/lib/python3.6/dist-packages (from Jinja2>=2.10.1->Flask>=1.0.2->syft) (1.1.1)\n",
            "Requirement already satisfied: gast>=0.2.0 in /usr/local/lib/python3.6/dist-packages (from tensorflow<2,>=1.12.0->tf-encrypted!=0.5.7,>=0.5.4->syft) (0.2.2)\n",
            "Requirement already satisfied: termcolor>=1.1.0 in /usr/local/lib/python3.6/dist-packages (from tensorflow<2,>=1.12.0->tf-encrypted!=0.5.7,>=0.5.4->syft) (1.1.0)\n",
            "Requirement already satisfied: tensorflow-estimator<1.15.0rc0,>=1.14.0rc0 in /usr/local/lib/python3.6/dist-packages (from tensorflow<2,>=1.12.0->tf-encrypted!=0.5.7,>=0.5.4->syft) (1.14.0)\n",
            "Requirement already satisfied: grpcio>=1.8.6 in /usr/local/lib/python3.6/dist-packages (from tensorflow<2,>=1.12.0->tf-encrypted!=0.5.7,>=0.5.4->syft) (1.15.0)\n",
            "Requirement already satisfied: wheel>=0.26 in /usr/local/lib/python3.6/dist-packages (from tensorflow<2,>=1.12.0->tf-encrypted!=0.5.7,>=0.5.4->syft) (0.33.4)\n",
            "Requirement already satisfied: keras-preprocessing>=1.0.5 in /usr/local/lib/python3.6/dist-packages (from tensorflow<2,>=1.12.0->tf-encrypted!=0.5.7,>=0.5.4->syft) (1.1.0)\n",
            "Requirement already satisfied: tensorboard<1.15.0,>=1.14.0 in /usr/local/lib/python3.6/dist-packages (from tensorflow<2,>=1.12.0->tf-encrypted!=0.5.7,>=0.5.4->syft) (1.14.0)\n",
            "Requirement already satisfied: absl-py>=0.7.0 in /usr/local/lib/python3.6/dist-packages (from tensorflow<2,>=1.12.0->tf-encrypted!=0.5.7,>=0.5.4->syft) (0.7.1)\n",
            "Requirement already satisfied: astor>=0.6.0 in /usr/local/lib/python3.6/dist-packages (from tensorflow<2,>=1.12.0->tf-encrypted!=0.5.7,>=0.5.4->syft) (0.8.0)\n",
            "Requirement already satisfied: wrapt>=1.11.1 in /usr/local/lib/python3.6/dist-packages (from tensorflow<2,>=1.12.0->tf-encrypted!=0.5.7,>=0.5.4->syft) (1.11.2)\n",
            "Requirement already satisfied: keras-applications>=1.0.6 in /usr/local/lib/python3.6/dist-packages (from tensorflow<2,>=1.12.0->tf-encrypted!=0.5.7,>=0.5.4->syft) (1.0.8)\n",
            "Requirement already satisfied: protobuf>=3.6.1 in /usr/local/lib/python3.6/dist-packages (from tensorflow<2,>=1.12.0->tf-encrypted!=0.5.7,>=0.5.4->syft) (3.7.1)\n",
            "Requirement already satisfied: google-pasta>=0.1.6 in /usr/local/lib/python3.6/dist-packages (from tensorflow<2,>=1.12.0->tf-encrypted!=0.5.7,>=0.5.4->syft) (0.1.7)\n",
            "Requirement already satisfied: olefile in /usr/local/lib/python3.6/dist-packages (from pillow>=4.1.1->torchvision==0.3.0->syft) (0.46)\n",
            "Requirement already satisfied: setuptools>=41.0.0 in /usr/local/lib/python3.6/dist-packages (from tensorboard<1.15.0,>=1.14.0->tensorflow<2,>=1.12.0->tf-encrypted!=0.5.7,>=0.5.4->syft) (41.2.0)\n",
            "Requirement already satisfied: markdown>=2.6.8 in /usr/local/lib/python3.6/dist-packages (from tensorboard<1.15.0,>=1.14.0->tensorflow<2,>=1.12.0->tf-encrypted!=0.5.7,>=0.5.4->syft) (3.1.1)\n",
            "Requirement already satisfied: h5py in /usr/local/lib/python3.6/dist-packages (from keras-applications>=1.0.6->tensorflow<2,>=1.12.0->tf-encrypted!=0.5.7,>=0.5.4->syft) (2.8.0)\n",
            "Building wheels for collected packages: zstd, pyyaml\n",
            "  Building wheel for zstd (setup.py) ... \u001b[?25l\u001b[?25hdone\n",
            "  Created wheel for zstd: filename=zstd-1.4.1.0-cp36-cp36m-linux_x86_64.whl size=1067074 sha256=48f2d5794f3a511f58faec3e4991d7610d216e2f993a28c6e568f6f1b92b7960\n",
            "  Stored in directory: /root/.cache/pip/wheels/66/3f/ee/ac08c81af7c1b24a80c746df669ea3cb37542d27877d66ccf4\n",
            "  Building wheel for pyyaml (setup.py) ... \u001b[?25l\u001b[?25hdone\n",
            "  Created wheel for pyyaml: filename=PyYAML-5.1.2-cp36-cp36m-linux_x86_64.whl size=44105 sha256=ffe99195bcd76e4623f1b1d349a22744383954e67146e6201186295612a1f3f6\n",
            "  Stored in directory: /root/.cache/pip/wheels/d9/45/dd/65f0b38450c47cf7e5312883deb97d065e030c5cca0a365030\n",
            "Successfully built zstd pyyaml\n",
            "Installing collected packages: msgpack, python-engineio, python-socketio, flask-socketio, lz4, websocket-client, websockets, zstd, pyyaml, tf-encrypted, syft\n",
            "  Found existing installation: msgpack 0.5.6\n",
            "    Uninstalling msgpack-0.5.6:\n",
            "      Successfully uninstalled msgpack-0.5.6\n",
            "  Found existing installation: PyYAML 3.13\n",
            "    Uninstalling PyYAML-3.13:\n",
            "      Successfully uninstalled PyYAML-3.13\n",
            "Successfully installed flask-socketio-4.2.1 lz4-2.1.10 msgpack-0.6.1 python-engineio-3.9.3 python-socketio-4.3.1 pyyaml-5.1.2 syft-0.1.25a1 tf-encrypted-0.5.8 websocket-client-0.56.0 websockets-8.0.2 zstd-1.4.1.0\n"
          ],
          "name": "stdout"
        }
      ]
    },
    {
      "cell_type": "code",
      "metadata": {
        "id": "KINgfrdIGEd5",
        "colab_type": "code",
        "outputId": "e8cc65cb-4856-4c12-a827-54f940a900d4",
        "colab": {
          "base_uri": "https://localhost:8080/",
          "height": 105
        }
      },
      "source": [
        "import syft as sy\n",
        "import torch as th\n",
        "hook = sy.TorchHook(th)\n",
        "from torch import nn, optim"
      ],
      "execution_count": 3,
      "outputs": [
        {
          "output_type": "stream",
          "text": [
            "WARNING: Logging before flag parsing goes to stderr.\n",
            "W0828 05:31:44.960270 140098535327616 secure_random.py:26] Falling back to insecure randomness since the required custom op could not be found for the installed version of TensorFlow. Fix this by compiling custom ops. Missing file was '/usr/local/lib/python3.6/dist-packages/tf_encrypted/operations/secure_random/secure_random_module_tf_1.14.0.so'\n",
            "W0828 05:31:44.980916 140098535327616 deprecation_wrapper.py:119] From /usr/local/lib/python3.6/dist-packages/tf_encrypted/session.py:26: The name tf.Session is deprecated. Please use tf.compat.v1.Session instead.\n",
            "\n"
          ],
          "name": "stderr"
        }
      ]
    },
    {
      "cell_type": "code",
      "metadata": {
        "id": "X_a7uPMGGEd7",
        "colab_type": "code",
        "colab": {}
      },
      "source": [
        "bob = sy.VirtualWorker(hook, id=\"bob\")#.add_worker(sy.local_worker)\n",
        "alice = sy.VirtualWorker(hook, id=\"alice\")#.add_worker(sy.local_worker)\n",
        "secure_worker = sy.VirtualWorker(hook, id=\"secure_worker\")#.add_worker(sy.local_worker)"
      ],
      "execution_count": 0,
      "outputs": []
    },
    {
      "cell_type": "code",
      "metadata": {
        "id": "5CGT7vo-ta-S",
        "colab_type": "code",
        "colab": {}
      },
      "source": [
        ""
      ],
      "execution_count": 0,
      "outputs": []
    },
    {
      "cell_type": "code",
      "metadata": {
        "id": "iHrb55UcBLrk",
        "colab_type": "code",
        "outputId": "606f143f-b9bf-46be-9d13-461d738b6ad6",
        "colab": {
          "base_uri": "https://localhost:8080/",
          "height": 34
        }
      },
      "source": [
        "bob._objects"
      ],
      "execution_count": 0,
      "outputs": [
        {
          "output_type": "execute_result",
          "data": {
            "text/plain": [
              "{}"
            ]
          },
          "metadata": {
            "tags": []
          },
          "execution_count": 198
        }
      ]
    },
    {
      "cell_type": "code",
      "metadata": {
        "id": "RXb3QHUYBWmQ",
        "colab_type": "code",
        "outputId": "cf1897ca-24f4-42ff-e4ff-128825c27751",
        "colab": {
          "base_uri": "https://localhost:8080/",
          "height": 34
        }
      },
      "source": [
        "alice._objects"
      ],
      "execution_count": 0,
      "outputs": [
        {
          "output_type": "execute_result",
          "data": {
            "text/plain": [
              "{}"
            ]
          },
          "metadata": {
            "tags": []
          },
          "execution_count": 199
        }
      ]
    },
    {
      "cell_type": "code",
      "metadata": {
        "id": "LFfsRaa3Ba_h",
        "colab_type": "code",
        "outputId": "fff6cca6-caef-4f02-bd43-de2c6549fb91",
        "colab": {
          "base_uri": "https://localhost:8080/",
          "height": 34
        }
      },
      "source": [
        "secure_worker._objects"
      ],
      "execution_count": 0,
      "outputs": [
        {
          "output_type": "execute_result",
          "data": {
            "text/plain": [
              "{}"
            ]
          },
          "metadata": {
            "tags": []
          },
          "execution_count": 200
        }
      ]
    },
    {
      "cell_type": "code",
      "metadata": {
        "id": "Pv1o-D4bBh0n",
        "colab_type": "code",
        "outputId": "a197d1bd-52aa-48f3-8b7d-9ef0f832628e",
        "colab": {
          "base_uri": "https://localhost:8080/",
          "height": 34
        }
      },
      "source": [
        "hook.local_worker"
      ],
      "execution_count": 0,
      "outputs": [
        {
          "output_type": "execute_result",
          "data": {
            "text/plain": [
              "<VirtualWorker id:me #objects:0>"
            ]
          },
          "metadata": {
            "tags": []
          },
          "execution_count": 201
        }
      ]
    },
    {
      "cell_type": "code",
      "metadata": {
        "id": "lWZhBgLLCs3K",
        "colab_type": "code",
        "outputId": "a4be54e8-646c-49c6-889e-d20edf9af8d4",
        "colab": {
          "base_uri": "https://localhost:8080/",
          "height": 34
        }
      },
      "source": [
        "hook.local_worker._objects"
      ],
      "execution_count": 0,
      "outputs": [
        {
          "output_type": "execute_result",
          "data": {
            "text/plain": [
              "{}"
            ]
          },
          "metadata": {
            "tags": []
          },
          "execution_count": 202
        }
      ]
    },
    {
      "cell_type": "code",
      "metadata": {
        "id": "CoYZXq-bB9Rk",
        "colab_type": "code",
        "outputId": "4c6e7adb-cf1e-4dd7-eeab-af1c775f1900",
        "colab": {
          "base_uri": "https://localhost:8080/"
        }
      },
      "source": [
        "me._objects"
      ],
      "execution_count": 0,
      "outputs": [
        {
          "output_type": "execute_result",
          "data": {
            "text/plain": [
              "{}"
            ]
          },
          "metadata": {
            "tags": []
          },
          "execution_count": 203
        }
      ]
    },
    {
      "cell_type": "code",
      "metadata": {
        "id": "Um0R6V3FGEd8",
        "colab_type": "code",
        "colab": {}
      },
      "source": [
        "x = th.tensor([1,2,3,4])\n",
        "y = th.tensor([2,-1,1,0])"
      ],
      "execution_count": 0,
      "outputs": []
    },
    {
      "cell_type": "code",
      "metadata": {
        "id": "Z1acEr60GEd9",
        "colab_type": "code",
        "colab": {}
      },
      "source": [
        "x = x.share(bob, alice, crypto_provider=secure_worker)"
      ],
      "execution_count": 0,
      "outputs": []
    },
    {
      "cell_type": "code",
      "metadata": {
        "id": "4c7mkJC3GEd_",
        "colab_type": "code",
        "colab": {}
      },
      "source": [
        "y = y.share(bob, alice, crypto_provider=secure_worker)"
      ],
      "execution_count": 0,
      "outputs": []
    },
    {
      "cell_type": "code",
      "metadata": {
        "id": "YTTeb0_-GEeA",
        "colab_type": "code",
        "outputId": "d11cc2f3-2275-480d-dab9-2d465cd995f2",
        "colab": {}
      },
      "source": [
        "z = x + y\n",
        "z.get()"
      ],
      "execution_count": 0,
      "outputs": [
        {
          "output_type": "execute_result",
          "data": {
            "text/plain": [
              "tensor([3, 1, 4, 4])"
            ]
          },
          "metadata": {
            "tags": []
          },
          "execution_count": 29
        }
      ]
    },
    {
      "cell_type": "code",
      "metadata": {
        "id": "L2-oHa-mGEeD",
        "colab_type": "code",
        "outputId": "90ec6d23-e18c-4ab9-eadc-3b9d8d4f47eb",
        "colab": {}
      },
      "source": [
        "z = x - y\n",
        "z.get()"
      ],
      "execution_count": 0,
      "outputs": [
        {
          "output_type": "execute_result",
          "data": {
            "text/plain": [
              "tensor([-1,  3,  2,  4])"
            ]
          },
          "metadata": {
            "tags": []
          },
          "execution_count": 30
        }
      ]
    },
    {
      "cell_type": "code",
      "metadata": {
        "id": "xVnRMB6_GEeF",
        "colab_type": "code",
        "outputId": "493ef4ab-32ba-4db4-9c12-0ed24e2af334",
        "colab": {}
      },
      "source": [
        "z = x * y\n",
        "z.get()"
      ],
      "execution_count": 0,
      "outputs": [
        {
          "output_type": "execute_result",
          "data": {
            "text/plain": [
              "tensor([ 2, -2,  3,  0])"
            ]
          },
          "metadata": {
            "tags": []
          },
          "execution_count": 31
        }
      ]
    },
    {
      "cell_type": "code",
      "metadata": {
        "id": "KGDAkWNSGEeH",
        "colab_type": "code",
        "outputId": "924fc39b-440d-4a63-b561-dff574361a3c",
        "colab": {}
      },
      "source": [
        "z = x > y\n",
        "z.get()"
      ],
      "execution_count": 0,
      "outputs": [
        {
          "output_type": "execute_result",
          "data": {
            "text/plain": [
              "tensor([0, 1, 1, 1])"
            ]
          },
          "metadata": {
            "tags": []
          },
          "execution_count": 32
        }
      ]
    },
    {
      "cell_type": "code",
      "metadata": {
        "id": "eE1_-4gkGEeI",
        "colab_type": "code",
        "outputId": "8f7a8a8a-4f34-4a00-a3d0-2deda1a8b5fa",
        "colab": {}
      },
      "source": [
        "z = x < y\n",
        "z.get()"
      ],
      "execution_count": 0,
      "outputs": [
        {
          "output_type": "execute_result",
          "data": {
            "text/plain": [
              "tensor([1, 0, 0, 0])"
            ]
          },
          "metadata": {
            "tags": []
          },
          "execution_count": 33
        }
      ]
    },
    {
      "cell_type": "code",
      "metadata": {
        "id": "9QtkAh7DGEeJ",
        "colab_type": "code",
        "outputId": "3456414b-cbe7-4599-b105-dad55962654f",
        "colab": {}
      },
      "source": [
        "z = x == y\n",
        "z.get()"
      ],
      "execution_count": 0,
      "outputs": [
        {
          "output_type": "execute_result",
          "data": {
            "text/plain": [
              "tensor([0, 0, 0, 0])"
            ]
          },
          "metadata": {
            "tags": []
          },
          "execution_count": 34
        }
      ]
    },
    {
      "cell_type": "code",
      "metadata": {
        "id": "-ImSLChJGEeK",
        "colab_type": "code",
        "colab": {}
      },
      "source": [
        ""
      ],
      "execution_count": 0,
      "outputs": []
    },
    {
      "cell_type": "code",
      "metadata": {
        "id": "ApINPzeUGEeN",
        "colab_type": "code",
        "colab": {}
      },
      "source": [
        "x = th.tensor([1,2,3,4])\n",
        "y = th.tensor([2,-1,1,0])\n",
        "\n",
        "x = x.fix_precision().share(bob, alice, crypto_provider=secure_worker)\n",
        "y = y.fix_precision().share(bob, alice, crypto_provider=secure_worker)"
      ],
      "execution_count": 0,
      "outputs": []
    },
    {
      "cell_type": "code",
      "metadata": {
        "id": "BXSsGdVVGEeN",
        "colab_type": "code",
        "outputId": "ea975fea-5927-4173-874c-8b82cb1d3b4c",
        "colab": {
          "base_uri": "https://localhost:8080/",
          "height": 34
        }
      },
      "source": [
        "z = x + y\n",
        "z.get().float_precision()"
      ],
      "execution_count": 0,
      "outputs": [
        {
          "output_type": "execute_result",
          "data": {
            "text/plain": [
              "tensor([3., 1., 4., 4.])"
            ]
          },
          "metadata": {
            "tags": []
          },
          "execution_count": 14
        }
      ]
    },
    {
      "cell_type": "code",
      "metadata": {
        "id": "C_UyIP00GEeO",
        "colab_type": "code",
        "outputId": "ecc143d2-f049-4dcd-ec65-a72e866cabd3",
        "colab": {}
      },
      "source": [
        "z = x - y\n",
        "z.get().float_precision()"
      ],
      "execution_count": 0,
      "outputs": [
        {
          "output_type": "execute_result",
          "data": {
            "text/plain": [
              "tensor([-1.,  3.,  2.,  4.])"
            ]
          },
          "metadata": {
            "tags": []
          },
          "execution_count": 37
        }
      ]
    },
    {
      "cell_type": "code",
      "metadata": {
        "id": "vA7Ddk3lGEeQ",
        "colab_type": "code",
        "outputId": "b689b393-8a6f-4f9f-adf0-b366a82539f0",
        "colab": {}
      },
      "source": [
        "z = x * y\n",
        "z.get().float_precision()"
      ],
      "execution_count": 0,
      "outputs": [
        {
          "output_type": "execute_result",
          "data": {
            "text/plain": [
              "tensor([ 2., -2.,  3.,  0.])"
            ]
          },
          "metadata": {
            "tags": []
          },
          "execution_count": 38
        }
      ]
    },
    {
      "cell_type": "code",
      "metadata": {
        "id": "6E_q7OAGGEeS",
        "colab_type": "code",
        "outputId": "14423f1b-a6b4-4ef0-a492-798e8fdee307",
        "colab": {}
      },
      "source": [
        "z = x > y\n",
        "z.get().float_precision()"
      ],
      "execution_count": 0,
      "outputs": [
        {
          "output_type": "execute_result",
          "data": {
            "text/plain": [
              "tensor([0., 1., 1., 1.])"
            ]
          },
          "metadata": {
            "tags": []
          },
          "execution_count": 39
        }
      ]
    },
    {
      "cell_type": "code",
      "metadata": {
        "id": "Yj28wvTiGEeT",
        "colab_type": "code",
        "outputId": "389db320-9e64-4c0d-8768-b842d5c6eaf6",
        "colab": {}
      },
      "source": [
        "z = x < y\n",
        "z.get().float_precision()"
      ],
      "execution_count": 0,
      "outputs": [
        {
          "output_type": "execute_result",
          "data": {
            "text/plain": [
              "tensor([1., 0., 0., 0.])"
            ]
          },
          "metadata": {
            "tags": []
          },
          "execution_count": 40
        }
      ]
    },
    {
      "cell_type": "code",
      "metadata": {
        "id": "vWrqHtUIGEeU",
        "colab_type": "code",
        "outputId": "cafddf2a-741f-445d-97f9-3921de72bcbf",
        "colab": {}
      },
      "source": [
        "z = x == y\n",
        "z.get().float_precision()"
      ],
      "execution_count": 0,
      "outputs": [
        {
          "output_type": "execute_result",
          "data": {
            "text/plain": [
              "tensor([0., 0., 0., 0.])"
            ]
          },
          "metadata": {
            "tags": []
          },
          "execution_count": 41
        }
      ]
    },
    {
      "cell_type": "markdown",
      "metadata": {
        "id": "4P8CVwAnGEeV",
        "colab_type": "text"
      },
      "source": [
        "# Project: Build an Encrypted Database"
      ]
    },
    {
      "cell_type": "code",
      "metadata": {
        "id": "XnAjYpfSGEeV",
        "colab_type": "code",
        "colab": {}
      },
      "source": [
        "# try this project here!\n",
        "import string"
      ],
      "execution_count": 0,
      "outputs": []
    },
    {
      "cell_type": "code",
      "metadata": {
        "id": "DjO7LKflGEeW",
        "colab_type": "code",
        "colab": {}
      },
      "source": [
        "char2int = {}\n",
        "int2char = {}"
      ],
      "execution_count": 0,
      "outputs": []
    },
    {
      "cell_type": "code",
      "metadata": {
        "id": "yvBYW4yfGEeb",
        "colab_type": "code",
        "colab": {}
      },
      "source": [
        "for i,char in enumerate(' ' + string.ascii_lowercase + '0123456789' + string.punctuation):\n",
        "  char2int[char] = i\n",
        "  int2char [i] = char"
      ],
      "execution_count": 0,
      "outputs": []
    },
    {
      "cell_type": "code",
      "metadata": {
        "id": "OKGvWh-hLwI_",
        "colab_type": "code",
        "colab": {}
      },
      "source": [
        "char2int"
      ],
      "execution_count": 0,
      "outputs": []
    },
    {
      "cell_type": "code",
      "metadata": {
        "id": "NE6xpaEnL0yQ",
        "colab_type": "code",
        "colab": {}
      },
      "source": [
        "int2char"
      ],
      "execution_count": 0,
      "outputs": []
    },
    {
      "cell_type": "code",
      "metadata": {
        "id": "TzQZXUYtSVyV",
        "colab_type": "code",
        "colab": {}
      },
      "source": [
        "max_len = 8\n",
        "str_input = \"Hello\""
      ],
      "execution_count": 0,
      "outputs": []
    },
    {
      "cell_type": "code",
      "metadata": {
        "id": "vBwVddUOGEed",
        "colab_type": "code",
        "colab": {}
      },
      "source": [
        "def string2values (str_input, max_len = 8):\n",
        "  \n",
        "    str_input = str_input[:max_len].lower()\n",
        "    \n",
        "    #pad strings shorte than max len\n",
        "    if (len(str_input)<max_len):\n",
        "        str_input = str_input + \".\"*(max_len -len(str_input))\n",
        "        \n",
        "    values= list()\n",
        "    for char in str_input :\n",
        "        values.append(char2int[char])\n",
        "        \n",
        "    return th.tensor(values).long()\n",
        "  \n",
        "  \n",
        "def values2string(input_value):\n",
        "    \n",
        "    s = \"\"\n",
        "    \n",
        "    for value in input_value:\n",
        "      s += int2char[int(value)]\n",
        "    return s\n",
        "        \n",
        "    "
      ],
      "execution_count": 0,
      "outputs": []
    },
    {
      "cell_type": "code",
      "metadata": {
        "id": "U7eva6JTGEed",
        "colab_type": "code",
        "colab": {}
      },
      "source": [
        "def one_hot(index,length):\n",
        "    vect =  th.zeros(length).long()\n",
        "    vect[index] = 1\n",
        "    return vect"
      ],
      "execution_count": 0,
      "outputs": []
    },
    {
      "cell_type": "code",
      "metadata": {
        "id": "4nBdQzotGEee",
        "colab_type": "code",
        "colab": {}
      },
      "source": [
        "def string2one_hot_matrix(str_input,max_len = 8):\n",
        "    \n",
        "    str_input = str_input[:max_len].lower()\n",
        "    \n",
        "    #pad strings shorte than max len\n",
        "    if (len(str_input)<max_len):\n",
        "        str_input = str_input + \".\"*(max_len -len(str_input))\n",
        "    \n",
        "    char_vectors = list()\n",
        "    for char in str_input:\n",
        "        char_v = one_hot(char2int[char], len(int2char)).unsqueeze(0)\n",
        "        char_vectors.append(char_v)\n",
        "        \n",
        "    return th.cat(char_vectors,dim =0)"
      ],
      "execution_count": 0,
      "outputs": []
    },
    {
      "cell_type": "code",
      "metadata": {
        "id": "s6BEPLTDACoV",
        "colab_type": "code",
        "colab": {}
      },
      "source": [
        "matrix = string2one_hot_matrix(\"Hello\")\n"
      ],
      "execution_count": 0,
      "outputs": []
    },
    {
      "cell_type": "code",
      "metadata": {
        "id": "UdVcDc23ACal",
        "colab_type": "code",
        "outputId": "ebda845f-1c33-468e-f857-8b3b1f390aba",
        "colab": {
          "base_uri": "https://localhost:8080/",
          "height": 34
        }
      },
      "source": [
        "matrix.shape"
      ],
      "execution_count": 0,
      "outputs": [
        {
          "output_type": "execute_result",
          "data": {
            "text/plain": [
              "torch.Size([8, 69])"
            ]
          },
          "metadata": {
            "tags": []
          },
          "execution_count": 28
        }
      ]
    },
    {
      "cell_type": "code",
      "metadata": {
        "id": "rRop6Ky3MSRk",
        "colab_type": "code",
        "colab": {}
      },
      "source": [
        "char2index = char2int\n",
        "index2char = int2char"
      ],
      "execution_count": 0,
      "outputs": []
    },
    {
      "cell_type": "code",
      "metadata": {
        "id": "pFjYLALTGEee",
        "colab_type": "code",
        "outputId": "7251f1a0-a460-468d-96f0-b3b23c8bb485",
        "colab": {
          "base_uri": "https://localhost:8080/",
          "height": 68
        }
      },
      "source": [
        "one_hot(char2index['p'],len(index2char))"
      ],
      "execution_count": 0,
      "outputs": [
        {
          "output_type": "execute_result",
          "data": {
            "text/plain": [
              "tensor([0, 0, 0, 0, 0, 0, 0, 0, 0, 0, 0, 0, 0, 0, 0, 0, 1, 0, 0, 0, 0, 0, 0, 0,\n",
              "        0, 0, 0, 0, 0, 0, 0, 0, 0, 0, 0, 0, 0, 0, 0, 0, 0, 0, 0, 0, 0, 0, 0, 0,\n",
              "        0, 0, 0, 0, 0, 0, 0, 0, 0, 0, 0, 0, 0, 0, 0, 0, 0, 0, 0, 0, 0])"
            ]
          },
          "metadata": {
            "tags": []
          },
          "execution_count": 32
        }
      ]
    },
    {
      "cell_type": "code",
      "metadata": {
        "id": "8lpG5ywlCgJu",
        "colab_type": "code",
        "colab": {}
      },
      "source": [
        "matrix"
      ],
      "execution_count": 0,
      "outputs": []
    },
    {
      "cell_type": "code",
      "metadata": {
        "id": "-rZ62qeiCi_N",
        "colab_type": "code",
        "colab": {}
      },
      "source": [
        "#keys are str_a,str_b\n",
        "str_a = string2one_hot_matrix(\"abcdf\")\n",
        "str_b = string2one_hot_matrix(\"Hello\")"
      ],
      "execution_count": 0,
      "outputs": []
    },
    {
      "cell_type": "code",
      "metadata": {
        "id": "HG75DJk8NWUE",
        "colab_type": "code",
        "colab": {}
      },
      "source": [
        "str_a"
      ],
      "execution_count": 0,
      "outputs": []
    },
    {
      "cell_type": "code",
      "metadata": {
        "id": "91dGKN7-Nczy",
        "colab_type": "code",
        "colab": {}
      },
      "source": [
        "str_b"
      ],
      "execution_count": 0,
      "outputs": []
    },
    {
      "cell_type": "code",
      "metadata": {
        "id": "1LJR3t6iMwhX",
        "colab_type": "code",
        "colab": {}
      },
      "source": [
        "str_a * str_b"
      ],
      "execution_count": 0,
      "outputs": []
    },
    {
      "cell_type": "code",
      "metadata": {
        "id": "5ElvBkskCi4M",
        "colab_type": "code",
        "outputId": "98a835de-1f82-4399-e7a2-aef6e987c50a",
        "colab": {
          "base_uri": "https://localhost:8080/",
          "height": 34
        }
      },
      "source": [
        "(str_a * str_b).sum()"
      ],
      "execution_count": 0,
      "outputs": [
        {
          "output_type": "execute_result",
          "data": {
            "text/plain": [
              "tensor(3)"
            ]
          },
          "metadata": {
            "tags": []
          },
          "execution_count": 52
        }
      ]
    },
    {
      "cell_type": "code",
      "metadata": {
        "id": "mWvSHWJZCitf",
        "colab_type": "code",
        "outputId": "8b0e900e-ea17-491f-a640-2864374c7160",
        "colab": {
          "base_uri": "https://localhost:8080/",
          "height": 68
        }
      },
      "source": [
        "#key matching along dim=0 how  many char are overlapping\n",
        "(str_a * str_b).sum(dim=0)"
      ],
      "execution_count": 0,
      "outputs": [
        {
          "output_type": "execute_result",
          "data": {
            "text/plain": [
              "tensor([0, 0, 0, 0, 0, 0, 0, 0, 0, 0, 0, 0, 0, 0, 0, 0, 0, 0, 0, 0, 0, 0, 0, 0,\n",
              "        0, 0, 0, 0, 0, 0, 0, 0, 0, 0, 0, 0, 0, 0, 0, 0, 0, 0, 0, 0, 0, 0, 0, 0,\n",
              "        0, 0, 3, 0, 0, 0, 0, 0, 0, 0, 0, 0, 0, 0, 0, 0, 0, 0, 0, 0, 0])"
            ]
          },
          "metadata": {
            "tags": []
          },
          "execution_count": 53
        }
      ]
    },
    {
      "cell_type": "code",
      "metadata": {
        "id": "c4l8-mvZCiaS",
        "colab_type": "code",
        "outputId": "2744144b-288a-4e87-90af-e611901e2ca0",
        "colab": {
          "base_uri": "https://localhost:8080/",
          "height": 34
        }
      },
      "source": [
        "#key matching along dim=1 how  many char are overlapping in particular index\n",
        "vect = (str_a * str_b).sum(dim=1)\n",
        "vect"
      ],
      "execution_count": 0,
      "outputs": [
        {
          "output_type": "execute_result",
          "data": {
            "text/plain": [
              "tensor([0, 0, 0, 0, 0, 1, 1, 1])"
            ]
          },
          "metadata": {
            "tags": []
          },
          "execution_count": 54
        }
      ]
    },
    {
      "cell_type": "code",
      "metadata": {
        "id": "vqVDm0HXEbxZ",
        "colab_type": "code",
        "outputId": "68e2ce1e-9d95-4b28-ac5a-b389eb92cf10",
        "colab": {
          "base_uri": "https://localhost:8080/",
          "height": 34
        }
      },
      "source": [
        "#when all positions in keys match completely\n",
        "vect = (str_a * str_b).sum(dim=1)\n",
        "x = vect[0]\n",
        "\n",
        "for i in range(vect.shape[0] - 1):\n",
        "    x= x*vect[i+1]\n",
        "    \n",
        "key_match = x\n",
        "key_match"
      ],
      "execution_count": 0,
      "outputs": [
        {
          "output_type": "execute_result",
          "data": {
            "text/plain": [
              "tensor(0)"
            ]
          },
          "metadata": {
            "tags": []
          },
          "execution_count": 55
        }
      ]
    },
    {
      "cell_type": "code",
      "metadata": {
        "id": "-hZ64-LJG-D1",
        "colab_type": "code",
        "colab": {}
      },
      "source": [
        "def strings_equal(str_a, str_b):\n",
        "    vect = (str_a * str_b).sum(dim=1)\n",
        "    x = vect[0]\n",
        "\n",
        "    for i in range(vect.shape[0] - 1):\n",
        "        x= x*vect[i+1]\n",
        "\n",
        "    str_match = x\n",
        "    \n",
        "    return str_match"
      ],
      "execution_count": 0,
      "outputs": []
    },
    {
      "cell_type": "code",
      "metadata": {
        "id": "KgfSaV97Ebr2",
        "colab_type": "code",
        "colab": {}
      },
      "source": [
        "#start building DB\n",
        "\n",
        "keys = list()\n",
        "values = list()\n",
        "\n",
        "keys.append(string2one_hot_matrix(\"key1\"))\n",
        "values.append(string2values(\"value1\"))\n",
        "\n",
        "keys.append(string2one_hot_matrix(\"key2\"))\n",
        "values.append(string2values(\"value2\"))"
      ],
      "execution_count": 0,
      "outputs": []
    },
    {
      "cell_type": "code",
      "metadata": {
        "id": "6yQv14OqEbiy",
        "colab_type": "code",
        "colab": {}
      },
      "source": [
        "query_str= \"key1\"\n",
        "query_matrix = string2one_hot_matrix(query_str)"
      ],
      "execution_count": 0,
      "outputs": []
    },
    {
      "cell_type": "code",
      "metadata": {
        "id": "KutTDLPxd9dt",
        "colab_type": "code",
        "colab": {
          "base_uri": "https://localhost:8080/",
          "height": 34
        },
        "outputId": "0d4cbe8a-3894-40f1-fd05-9e3a5e4adb17"
      },
      "source": [
        "query_matrix.shape"
      ],
      "execution_count": 46,
      "outputs": [
        {
          "output_type": "execute_result",
          "data": {
            "text/plain": [
              "torch.Size([8, 69])"
            ]
          },
          "metadata": {
            "tags": []
          },
          "execution_count": 46
        }
      ]
    },
    {
      "cell_type": "code",
      "metadata": {
        "id": "1xv3xpx7Eawz",
        "colab_type": "code",
        "colab": {}
      },
      "source": [
        "key_matches = list()\n",
        "for key in keys:\n",
        "    key_match = strings_equal(key, query_matrix)\n",
        "    key_matches.append(key_match)"
      ],
      "execution_count": 0,
      "outputs": []
    },
    {
      "cell_type": "code",
      "metadata": {
        "id": "6pvstnn1G09i",
        "colab_type": "code",
        "outputId": "c0577772-cb4c-4da9-bdeb-c34974317251",
        "colab": {
          "base_uri": "https://localhost:8080/",
          "height": 34
        }
      },
      "source": [
        "key_matches"
      ],
      "execution_count": 0,
      "outputs": [
        {
          "output_type": "execute_result",
          "data": {
            "text/plain": [
              "[tensor(1), tensor(0)]"
            ]
          },
          "metadata": {
            "tags": []
          },
          "execution_count": 83
        }
      ]
    },
    {
      "cell_type": "code",
      "metadata": {
        "id": "FKDM48W2G0xE",
        "colab_type": "code",
        "outputId": "a46bcda6-497f-4547-d666-fa72c2eccf15",
        "colab": {
          "base_uri": "https://localhost:8080/",
          "height": 51
        }
      },
      "source": [
        "values"
      ],
      "execution_count": 0,
      "outputs": [
        {
          "output_type": "execute_result",
          "data": {
            "text/plain": [
              "[tensor([22,  1, 12, 21,  5, 28, 50, 50]),\n",
              " tensor([22,  1, 12, 21,  5, 29, 50, 50])]"
            ]
          },
          "metadata": {
            "tags": []
          },
          "execution_count": 84
        }
      ]
    },
    {
      "cell_type": "code",
      "metadata": {
        "id": "8A7mLoFlIwfe",
        "colab_type": "code",
        "outputId": "41bbae34-020d-4117-9a75-d5371c57a411",
        "colab": {
          "base_uri": "https://localhost:8080/",
          "height": 34
        }
      },
      "source": [
        "value_match = values[0] * key_matches[0]\n",
        "value_match"
      ],
      "execution_count": 0,
      "outputs": [
        {
          "output_type": "execute_result",
          "data": {
            "text/plain": [
              "tensor([22,  1, 12, 21,  5, 28, 50, 50])"
            ]
          },
          "metadata": {
            "tags": []
          },
          "execution_count": 85
        }
      ]
    },
    {
      "cell_type": "code",
      "metadata": {
        "id": "ukY7EiqfI8dd",
        "colab_type": "code",
        "outputId": "1e9928a2-2658-4048-a0dd-d41414fe5c6b",
        "colab": {
          "base_uri": "https://localhost:8080/",
          "height": 34
        }
      },
      "source": [
        "values[1] * key_matches[1]"
      ],
      "execution_count": 0,
      "outputs": [
        {
          "output_type": "execute_result",
          "data": {
            "text/plain": [
              "tensor([0, 0, 0, 0, 0, 0, 0, 0])"
            ]
          },
          "metadata": {
            "tags": []
          },
          "execution_count": 86
        }
      ]
    },
    {
      "cell_type": "code",
      "metadata": {
        "id": "gB6m5BudI8X5",
        "colab_type": "code",
        "outputId": "e0e7324f-8ac3-436c-d352-31877ffb1ef0",
        "colab": {
          "base_uri": "https://localhost:8080/",
          "height": 34
        }
      },
      "source": [
        "value_match = values[0] * key_matches[0]\n",
        "\n",
        "for i in range(len(values) - 1):\n",
        "    value_match += values[i+1]*key_matches[i+1]\n",
        "    \n",
        "value_match"
      ],
      "execution_count": 0,
      "outputs": [
        {
          "output_type": "execute_result",
          "data": {
            "text/plain": [
              "tensor([22,  1, 12, 21,  5, 28, 50, 50])"
            ]
          },
          "metadata": {
            "tags": []
          },
          "execution_count": 87
        }
      ]
    },
    {
      "cell_type": "code",
      "metadata": {
        "id": "fpkrxFhAI8Uo",
        "colab_type": "code",
        "outputId": "4cbf5444-ea10-4532-9dea-b263d7f261b1",
        "colab": {
          "base_uri": "https://localhost:8080/",
          "height": 34
        }
      },
      "source": [
        "result = values[0] * key_matches[0]\n",
        "\n",
        "for i in range(len(values) - 1):\n",
        "    result += values[i+1]*key_matches[i+1]\n",
        "    \n",
        "result"
      ],
      "execution_count": 0,
      "outputs": [
        {
          "output_type": "execute_result",
          "data": {
            "text/plain": [
              "tensor([22,  1, 12, 21,  5, 28, 50, 50])"
            ]
          },
          "metadata": {
            "tags": []
          },
          "execution_count": 88
        }
      ]
    },
    {
      "cell_type": "code",
      "metadata": {
        "id": "FPoISGfaQtEc",
        "colab_type": "code",
        "outputId": "d300115b-458d-4d9e-807b-25f90b1cf248",
        "colab": {
          "base_uri": "https://localhost:8080/",
          "height": 34
        }
      },
      "source": [
        "values2string(result).replace(\".\",\"\")"
      ],
      "execution_count": 0,
      "outputs": [
        {
          "output_type": "execute_result",
          "data": {
            "text/plain": [
              "'value1'"
            ]
          },
          "metadata": {
            "tags": []
          },
          "execution_count": 89
        }
      ]
    },
    {
      "cell_type": "code",
      "metadata": {
        "id": "flH6HjXdJhpW",
        "colab_type": "code",
        "colab": {}
      },
      "source": [
        "def query(query_str):\n",
        "    query_matrix = string2one_hot_matrix(query_str)\n",
        "    \n",
        "    key_matches = list()\n",
        "    \n",
        "    for key in keys:\n",
        "        key_match = strings_equal(key, query_matrix)\n",
        "        key_matches.append(key_match)\n",
        "    \n",
        "    result = values[0] * key_matches[0]\n",
        "    \n",
        "    for i in range(len(values) - 1):\n",
        "        result += values[i+1]*key_matches[i+1]\n",
        "    \n",
        "    return values2string(result).replace(\".\",\"\")\n",
        "    "
      ],
      "execution_count": 0,
      "outputs": []
    },
    {
      "cell_type": "code",
      "metadata": {
        "id": "wlyze-LpI8Nr",
        "colab_type": "code",
        "outputId": "ff22aa06-1b70-47b9-d591-5a0d0700e5d7",
        "colab": {
          "base_uri": "https://localhost:8080/",
          "height": 34
        }
      },
      "source": [
        "query(\"key2\")"
      ],
      "execution_count": 0,
      "outputs": [
        {
          "output_type": "execute_result",
          "data": {
            "text/plain": [
              "'value2'"
            ]
          },
          "metadata": {
            "tags": []
          },
          "execution_count": 18
        }
      ]
    },
    {
      "cell_type": "markdown",
      "metadata": {
        "id": "HRuw6ntX7Mgg",
        "colab_type": "text"
      },
      "source": [
        "#final version of  database (not encrypted yet!)"
      ]
    },
    {
      "cell_type": "code",
      "metadata": {
        "id": "tfPVjii0M82p",
        "colab_type": "code",
        "colab": {}
      },
      "source": [
        "def string2values (str_input, max_len = 8):\n",
        "  \n",
        "    str_input = str_input[:max_len].lower()\n",
        "    \n",
        "    #pad strings shorte than max len\n",
        "    if (len(str_input)<max_len):\n",
        "        str_input = str_input + \".\"*(max_len -len(str_input))\n",
        "        \n",
        "    values= list()\n",
        "    for char in str_input :\n",
        "        values.append(char2int[char])\n",
        "        \n",
        "    return th.tensor(values).long()\n",
        "  \n",
        "  \n",
        "def values2string(input_value):\n",
        "    \n",
        "    s = \"\"\n",
        "    \n",
        "    for value in input_value:\n",
        "      s += int2char[int(value)]\n",
        "    return s\n",
        "        \n",
        "def strings_equal(str_a, str_b):\n",
        "    vect = (str_a * str_b).sum(dim=1)\n",
        "    x = vect[0]\n",
        "\n",
        "    for i in range(vect.shape[0] - 1):\n",
        "        x= x*vect[i+1]\n",
        "\n",
        "    #str_match = x\n",
        "    \n",
        "    return x   #str_match\n",
        "  \n",
        "  \n",
        "def one_hot(index,length):\n",
        "    vect =  th.zeros(length).long()\n",
        "    vect[index] = 1\n",
        "    return vect\n",
        "  \n",
        "def string2one_hot_matrix(str_input,max_len = 8):\n",
        "    \n",
        "    str_input = str_input[:max_len].lower()\n",
        "    \n",
        "    #pad strings shorte than max len\n",
        "    if (len(str_input)<max_len):\n",
        "        str_input = str_input + \".\"*(max_len -len(str_input))\n",
        "    \n",
        "    char_vectors = list()\n",
        "    for char in str_input:\n",
        "        char_v = one_hot(char2int[char], len(int2char)).unsqueeze(0)\n",
        "        char_vectors.append(char_v)\n",
        "        \n",
        "    return th.cat(char_vectors,dim =0)"
      ],
      "execution_count": 0,
      "outputs": []
    },
    {
      "cell_type": "code",
      "metadata": {
        "id": "8Ms7_BDoLqsg",
        "colab_type": "code",
        "colab": {}
      },
      "source": [
        "class DB ():\n",
        "    def __init__(self, max_key_len = 8, max_val_len = 8):\n",
        "        self.max_key_len = 8\n",
        "        self.max_val_len = 8\n",
        "\n",
        "        self.keys = list()\n",
        "        self.values = list()\n",
        "\n",
        "        #keys.append(string2one_hot_matrix(\"key1\"))\n",
        "        #values.append(string2values(\"value1\"))\n",
        "\n",
        "        #keys.append(string2one_hot_matrix(\"key2\"))\n",
        "        #values.append(string2values(\"value2\"))\n",
        "      \n",
        "    \n",
        "    def add_entry(self, key, value):\n",
        "        self.keys.append(string2one_hot_matrix(key))\n",
        "        self.values.append(string2values(value))\n",
        "    \n",
        "    def query(self, query_str):\n",
        "        query_matrix = string2one_hot_matrix(query_str)\n",
        "\n",
        "        key_matches = list()\n",
        "\n",
        "        for key in self.keys:\n",
        "            key_match = strings_equal(key, query_matrix)\n",
        "            key_matches.append(key_match)\n",
        "\n",
        "        result = self.values[0] * key_matches[0]\n",
        "\n",
        "        for i in range(len(self.values) - 1):\n",
        "            result += self.values[i+1]*key_matches[i+1]\n",
        "\n",
        "        return values2string(result).replace(\".\",\"\")\n",
        "    \n"
      ],
      "execution_count": 0,
      "outputs": []
    },
    {
      "cell_type": "code",
      "metadata": {
        "id": "IKBjYov-Odyv",
        "colab_type": "code",
        "colab": {}
      },
      "source": [
        "db = DB()\n"
      ],
      "execution_count": 0,
      "outputs": []
    },
    {
      "cell_type": "code",
      "metadata": {
        "id": "XCqpBi6RPGK3",
        "colab_type": "code",
        "colab": {}
      },
      "source": [
        "db.add_entry(\"key1\", \"value1\")\n",
        "db.add_entry(\"key2\", \"value2\")\n",
        "db.add_entry(\"key3\", \"value3\")\n",
        "db.add_entry(\"key4\", \"value4\")"
      ],
      "execution_count": 0,
      "outputs": []
    },
    {
      "cell_type": "code",
      "metadata": {
        "id": "rE7RYW7JOdfM",
        "colab_type": "code",
        "outputId": "36f52d84-2bb3-45b1-afdd-7c5be861fe4e",
        "colab": {
          "base_uri": "https://localhost:8080/",
          "height": 34
        }
      },
      "source": [
        "db.query(\"key3\")"
      ],
      "execution_count": 23,
      "outputs": [
        {
          "output_type": "execute_result",
          "data": {
            "text/plain": [
              "'value3'"
            ]
          },
          "metadata": {
            "tags": []
          },
          "execution_count": 23
        }
      ]
    },
    {
      "cell_type": "code",
      "metadata": {
        "id": "PM2s-X6APF-u",
        "colab_type": "code",
        "outputId": "dd0e7bdd-f666-4f92-8523-46be8b73d4c4",
        "colab": {
          "base_uri": "https://localhost:8080/",
          "height": 34
        }
      },
      "source": [
        "db = EncryptedDB()\n",
        "\n",
        "db.add_entry(\"key1\", \"value1\")\n",
        "db.add_entry(\"key2\", \"value2\")\n",
        "db.add_entry(\"key3\", \"value3\")\n",
        "db.add_entry(\"key4\", \"value4\")\n",
        "\n",
        "db.query(\"key1\")"
      ],
      "execution_count": 0,
      "outputs": [
        {
          "output_type": "execute_result",
          "data": {
            "text/plain": [
              "'value1'"
            ]
          },
          "metadata": {
            "tags": []
          },
          "execution_count": 22
        }
      ]
    },
    {
      "cell_type": "markdown",
      "metadata": {
        "id": "xchVBXt97pu8",
        "colab_type": "text"
      },
      "source": [
        "#now encrypted database"
      ]
    },
    {
      "cell_type": "code",
      "metadata": {
        "id": "grKizOOZE1L9",
        "colab_type": "code",
        "colab": {}
      },
      "source": [
        "bob = sy.VirtualWorker(hook, id=\"bob\")#.add_worker(sy.local_worker)\n",
        "alice = sy.VirtualWorker(hook, id=\"alice\")#.add_worker(sy.local_worker)\n",
        "secure_worker = sy.VirtualWorker(hook, id=\"secure_worker\")#.add_worker(sy.local_worker)\n",
        "#me = sy.local_worker"
      ],
      "execution_count": 0,
      "outputs": []
    },
    {
      "cell_type": "code",
      "metadata": {
        "id": "jf1md0fBIxfN",
        "colab_type": "code",
        "colab": {}
      },
      "source": [
        "bob = bob.clear_objects()\n",
        "alice = alice.clear_objects()\n",
        "secure_worker = secure_worker.clear_objects()"
      ],
      "execution_count": 0,
      "outputs": []
    },
    {
      "cell_type": "code",
      "metadata": {
        "id": "Sp7HlXd1I52W",
        "colab_type": "code",
        "outputId": "912f3597-f6f5-4bf3-ee6b-be138fb6afe7",
        "colab": {
          "base_uri": "https://localhost:8080/",
          "height": 34
        }
      },
      "source": [
        "alice._objects"
      ],
      "execution_count": 25,
      "outputs": [
        {
          "output_type": "execute_result",
          "data": {
            "text/plain": [
              "{}"
            ]
          },
          "metadata": {
            "tags": []
          },
          "execution_count": 25
        }
      ]
    },
    {
      "cell_type": "code",
      "metadata": {
        "id": "OEXyPe6AI4uu",
        "colab_type": "code",
        "outputId": "b6032989-ce6a-4077-d33c-1af5affcb25f",
        "colab": {
          "base_uri": "https://localhost:8080/",
          "height": 34
        }
      },
      "source": [
        "bob._objects"
      ],
      "execution_count": 26,
      "outputs": [
        {
          "output_type": "execute_result",
          "data": {
            "text/plain": [
              "{}"
            ]
          },
          "metadata": {
            "tags": []
          },
          "execution_count": 26
        }
      ]
    },
    {
      "cell_type": "code",
      "metadata": {
        "id": "HDhYLkHEIzq0",
        "colab_type": "code",
        "outputId": "3dadf482-c952-425f-ff13-21ee1615b983",
        "colab": {
          "base_uri": "https://localhost:8080/",
          "height": 34
        }
      },
      "source": [
        "secure_worker._objects"
      ],
      "execution_count": 27,
      "outputs": [
        {
          "output_type": "execute_result",
          "data": {
            "text/plain": [
              "{}"
            ]
          },
          "metadata": {
            "tags": []
          },
          "execution_count": 27
        }
      ]
    },
    {
      "cell_type": "code",
      "metadata": {
        "id": "2SvkiWx7JDBh",
        "colab_type": "code",
        "outputId": "133f761b-359d-450a-811f-278c19d8966c",
        "colab": {
          "base_uri": "https://localhost:8080/",
          "height": 34
        }
      },
      "source": [
        "sy.local_worker._objects"
      ],
      "execution_count": 0,
      "outputs": [
        {
          "output_type": "execute_result",
          "data": {
            "text/plain": [
              "{}"
            ]
          },
          "metadata": {
            "tags": []
          },
          "execution_count": 256
        }
      ]
    },
    {
      "cell_type": "code",
      "metadata": {
        "id": "dezvOPQtLsuX",
        "colab_type": "code",
        "colab": {}
      },
      "source": [
        "xpt = x.share(alice,bob,secure_worker)"
      ],
      "execution_count": 0,
      "outputs": []
    },
    {
      "cell_type": "code",
      "metadata": {
        "id": "0J-MaRpEMZj8",
        "colab_type": "code",
        "outputId": "47b6464e-1867-41e3-a5b4-db0ba03b4e48",
        "colab": {
          "base_uri": "https://localhost:8080/",
          "height": 102
        }
      },
      "source": [
        "xpt"
      ],
      "execution_count": 0,
      "outputs": [
        {
          "output_type": "execute_result",
          "data": {
            "text/plain": [
              "(Wrapper)>[AdditiveSharingTensor]\n",
              "\t-> [PointerTensor | me:30159209386 -> alice:95588463243]\n",
              "\t-> [PointerTensor | me:8776402290 -> bob:18229401244]\n",
              "\t-> [PointerTensor | me:62929947250 -> secure_worker:88904705586]\n",
              "\t*crypto provider: me*"
            ]
          },
          "metadata": {
            "tags": []
          },
          "execution_count": 218
        }
      ]
    },
    {
      "cell_type": "code",
      "metadata": {
        "id": "WUj-rdTIL6tR",
        "colab_type": "code",
        "outputId": "226cc5ba-6965-4db5-a6ac-129ec81ef9be",
        "colab": {
          "base_uri": "https://localhost:8080/",
          "height": 34
        }
      },
      "source": [
        "xpt.get()"
      ],
      "execution_count": 0,
      "outputs": [
        {
          "output_type": "execute_result",
          "data": {
            "text/plain": [
              "tensor([1, 2, 3, 4])"
            ]
          },
          "metadata": {
            "tags": []
          },
          "execution_count": 219
        }
      ]
    },
    {
      "cell_type": "code",
      "metadata": {
        "id": "LH0WuJGGQV_-",
        "colab_type": "code",
        "colab": {}
      },
      "source": [
        "class EncryptedDB ():\n",
        "    def __init__(self, *owners, max_key_len = 8, max_val_len = 8):\n",
        "        self.max_key_len = max_key_len\n",
        "        self.max_val_len = max_val_len\n",
        "\n",
        "        self.keys = list()\n",
        "        self.values = list()\n",
        "        self.owners = owners\n",
        "\n",
        "           \n",
        "    def add_entry(self, key, value):\n",
        "        key = string2one_hot_matrix(key)\n",
        "        key = key.share(*self.owners)\n",
        "        self.keys.append(key)\n",
        "        \n",
        "        value = string2values(value, max_len = self.max_val_len)\n",
        "        value = value.share(*self.owners)\n",
        "        self.values.append(value)\n",
        "        \n",
        "    \n",
        "    def query(self, query_str):\n",
        "      \n",
        "        query_matrix = string2one_hot_matrix(query_str)\n",
        "        \n",
        "        query_matrix = query_matrix.share(*self.owners)\n",
        "\n",
        "        key_matches = list()\n",
        "\n",
        "        for key in self.keys:\n",
        "            key_match = strings_equal(key, query_matrix)\n",
        "            key_matches.append(key_match)\n",
        "\n",
        "        result = self.values[0] * key_matches[0]\n",
        "\n",
        "        for i in range(len(self.values) - 1):\n",
        "            result += self.values[i+1]*key_matches[i+1]\n",
        "            \n",
        "        result = result.get()\n",
        "\n",
        "        return values2string(result).replace(\".\",\"\")\n",
        "    \n"
      ],
      "execution_count": 0,
      "outputs": []
    },
    {
      "cell_type": "code",
      "metadata": {
        "id": "5qN5nghC8bav",
        "colab_type": "code",
        "colab": {}
      },
      "source": [
        "####################\n",
        "db = EncryptedDB()\n",
        "\n",
        "db.add_entry(\"key1\", \"value1\")\n",
        "db.add_entry(\"key2\", \"value2\")\n",
        "db.add_entry(\"key3\", \"value3\")\n",
        "db.add_entry(\"key4\", \"value4\")\n",
        "\n",
        "db.query(\"key1\")"
      ],
      "execution_count": 0,
      "outputs": []
    },
    {
      "cell_type": "code",
      "metadata": {
        "id": "3hJwtQ8X91Na",
        "colab_type": "code",
        "colab": {}
      },
      "source": [
        "db = EncryptedDB(alice, bob, secure_worker)"
      ],
      "execution_count": 0,
      "outputs": []
    },
    {
      "cell_type": "code",
      "metadata": {
        "id": "T3BelaILaUkW",
        "colab_type": "code",
        "outputId": "d10a5ded-c6e4-4498-d125-2930addc153a",
        "colab": {
          "base_uri": "https://localhost:8080/",
          "height": 68
        }
      },
      "source": [
        "db.owners"
      ],
      "execution_count": 30,
      "outputs": [
        {
          "output_type": "execute_result",
          "data": {
            "text/plain": [
              "(<VirtualWorker id:alice #objects:0>,\n",
              " <VirtualWorker id:bob #objects:0>,\n",
              " <VirtualWorker id:secure_worker #objects:0>)"
            ]
          },
          "metadata": {
            "tags": []
          },
          "execution_count": 30
        }
      ]
    },
    {
      "cell_type": "code",
      "metadata": {
        "id": "19sYHpOIaZSz",
        "colab_type": "code",
        "outputId": "eb113532-cbd7-495c-b757-535fe3d31c86",
        "colab": {
          "base_uri": "https://localhost:8080/",
          "height": 34
        }
      },
      "source": [
        "alice._objects"
      ],
      "execution_count": 31,
      "outputs": [
        {
          "output_type": "execute_result",
          "data": {
            "text/plain": [
              "{}"
            ]
          },
          "metadata": {
            "tags": []
          },
          "execution_count": 31
        }
      ]
    },
    {
      "cell_type": "code",
      "metadata": {
        "id": "Xp7RgoiLckum",
        "colab_type": "code",
        "colab": {
          "base_uri": "https://localhost:8080/",
          "height": 34
        },
        "outputId": "9aad29f7-21f2-4bb0-99cc-6563e79ae694"
      },
      "source": [
        "bob._objects"
      ],
      "execution_count": 32,
      "outputs": [
        {
          "output_type": "execute_result",
          "data": {
            "text/plain": [
              "{}"
            ]
          },
          "metadata": {
            "tags": []
          },
          "execution_count": 32
        }
      ]
    },
    {
      "cell_type": "code",
      "metadata": {
        "id": "InPJFETJco7Y",
        "colab_type": "code",
        "colab": {
          "base_uri": "https://localhost:8080/",
          "height": 34
        },
        "outputId": "9f6f6992-a7e0-4456-bd47-97b8cb8daff1"
      },
      "source": [
        "secure_worker._objects"
      ],
      "execution_count": 33,
      "outputs": [
        {
          "output_type": "execute_result",
          "data": {
            "text/plain": [
              "{}"
            ]
          },
          "metadata": {
            "tags": []
          },
          "execution_count": 33
        }
      ]
    },
    {
      "cell_type": "code",
      "metadata": {
        "id": "my5ZhwPv94Zl",
        "colab_type": "code",
        "colab": {}
      },
      "source": [
        "db.add_entry(\"key1\", \"value1\")\n",
        "db.add_entry(\"key2\", \"value2\")\n",
        "db.add_entry(\"key3\", \"value3\")\n",
        "db.add_entry(\"key4\", \"value4\")\n"
      ],
      "execution_count": 0,
      "outputs": []
    },
    {
      "cell_type": "code",
      "metadata": {
        "id": "v90MOYJxegM-",
        "colab_type": "code",
        "colab": {}
      },
      "source": [
        "keys\n",
        "4216191979\n",
        "15318099606\n",
        "37470906307\n",
        "18597796201\n",
        "values\n",
        "6695358831\n",
        "46719076640\n",
        "51419330771\n",
        "92914599600\n",
        "\n",
        "query_matrix\n",
        "17493031172"
      ],
      "execution_count": 0,
      "outputs": []
    },
    {
      "cell_type": "code",
      "metadata": {
        "id": "cSFmVJ4NagG4",
        "colab_type": "code",
        "colab": {}
      },
      "source": [
        "alice._objects"
      ],
      "execution_count": 0,
      "outputs": []
    },
    {
      "cell_type": "code",
      "metadata": {
        "id": "qJz2ubwZcwht",
        "colab_type": "code",
        "colab": {}
      },
      "source": [
        "bob._objects"
      ],
      "execution_count": 0,
      "outputs": []
    },
    {
      "cell_type": "code",
      "metadata": {
        "id": "TD6xjFajc0yn",
        "colab_type": "code",
        "colab": {}
      },
      "source": [
        "secure_worker._objects"
      ],
      "execution_count": 0,
      "outputs": []
    },
    {
      "cell_type": "code",
      "metadata": {
        "id": "x6FF88P2U2Ly",
        "colab_type": "code",
        "outputId": "ab3521f6-353f-440d-b2c9-7a54cccf0867",
        "colab": {
          "base_uri": "https://localhost:8080/",
          "height": 306
        }
      },
      "source": [
        "db.keys"
      ],
      "execution_count": 39,
      "outputs": [
        {
          "output_type": "execute_result",
          "data": {
            "text/plain": [
              "[(Wrapper)>[AdditiveSharingTensor]\n",
              " \t-> [PointerTensor | me:90897264803 -> alice:4216191979]\n",
              " \t-> [PointerTensor | me:53155810295 -> bob:48204390003]\n",
              " \t-> [PointerTensor | me:38783002157 -> secure_worker:45107109400]\n",
              " \t*crypto provider: me*, (Wrapper)>[AdditiveSharingTensor]\n",
              " \t-> [PointerTensor | me:99927475188 -> alice:15318099606]\n",
              " \t-> [PointerTensor | me:98225236947 -> bob:84849998016]\n",
              " \t-> [PointerTensor | me:16658719745 -> secure_worker:86665269736]\n",
              " \t*crypto provider: me*, (Wrapper)>[AdditiveSharingTensor]\n",
              " \t-> [PointerTensor | me:34389056001 -> alice:37470906307]\n",
              " \t-> [PointerTensor | me:70878039843 -> bob:48601300304]\n",
              " \t-> [PointerTensor | me:47960201318 -> secure_worker:55207703700]\n",
              " \t*crypto provider: me*, (Wrapper)>[AdditiveSharingTensor]\n",
              " \t-> [PointerTensor | me:84714719192 -> alice:18597796201]\n",
              " \t-> [PointerTensor | me:81360089714 -> bob:35425914299]\n",
              " \t-> [PointerTensor | me:80443806140 -> secure_worker:17843737877]\n",
              " \t*crypto provider: me*]"
            ]
          },
          "metadata": {
            "tags": []
          },
          "execution_count": 39
        }
      ]
    },
    {
      "cell_type": "code",
      "metadata": {
        "id": "_ujLpxgKa6hD",
        "colab_type": "code",
        "outputId": "d775e2f1-d0a9-4808-d3d6-02b1dbe5db3c",
        "colab": {
          "base_uri": "https://localhost:8080/",
          "height": 306
        }
      },
      "source": [
        "db.values"
      ],
      "execution_count": 40,
      "outputs": [
        {
          "output_type": "execute_result",
          "data": {
            "text/plain": [
              "[(Wrapper)>[AdditiveSharingTensor]\n",
              " \t-> [PointerTensor | me:39348845534 -> alice:46719076640]\n",
              " \t-> [PointerTensor | me:31741260491 -> bob:96893646631]\n",
              " \t-> [PointerTensor | me:12998955303 -> secure_worker:41972362799]\n",
              " \t*crypto provider: me*, (Wrapper)>[AdditiveSharingTensor]\n",
              " \t-> [PointerTensor | me:65877521520 -> alice:51419330771]\n",
              " \t-> [PointerTensor | me:17525286157 -> bob:59216608605]\n",
              " \t-> [PointerTensor | me:68378697911 -> secure_worker:74973745835]\n",
              " \t*crypto provider: me*, (Wrapper)>[AdditiveSharingTensor]\n",
              " \t-> [PointerTensor | me:64917502320 -> alice:92914599600]\n",
              " \t-> [PointerTensor | me:14678965993 -> bob:38948640405]\n",
              " \t-> [PointerTensor | me:77352592664 -> secure_worker:49120055480]\n",
              " \t*crypto provider: me*, (Wrapper)>[AdditiveSharingTensor]\n",
              " \t-> [PointerTensor | me:77675190296 -> alice:6695358831]\n",
              " \t-> [PointerTensor | me:72210380934 -> bob:93948576586]\n",
              " \t-> [PointerTensor | me:6651822182 -> secure_worker:94705742890]\n",
              " \t*crypto provider: me*]"
            ]
          },
          "metadata": {
            "tags": []
          },
          "execution_count": 40
        }
      ]
    },
    {
      "cell_type": "code",
      "metadata": {
        "id": "9yC16HHuSbHX",
        "colab_type": "code",
        "outputId": "13c9fef6-d211-41ff-fb83-a4114a318179",
        "colab": {
          "base_uri": "https://localhost:8080/",
          "height": 425
        }
      },
      "source": [
        "query_str = \"key1\"\n",
        "query_matrix = string2one_hot_matrix(query_str)\n",
        "        \n",
        "query_matrix"
      ],
      "execution_count": 48,
      "outputs": [
        {
          "output_type": "execute_result",
          "data": {
            "text/plain": [
              "tensor([[0, 0, 0, 0, 0, 0, 0, 0, 0, 0, 0, 1, 0, 0, 0, 0, 0, 0, 0, 0, 0, 0, 0, 0,\n",
              "         0, 0, 0, 0, 0, 0, 0, 0, 0, 0, 0, 0, 0, 0, 0, 0, 0, 0, 0, 0, 0, 0, 0, 0,\n",
              "         0, 0, 0, 0, 0, 0, 0, 0, 0, 0, 0, 0, 0, 0, 0, 0, 0, 0, 0, 0, 0],\n",
              "        [0, 0, 0, 0, 0, 1, 0, 0, 0, 0, 0, 0, 0, 0, 0, 0, 0, 0, 0, 0, 0, 0, 0, 0,\n",
              "         0, 0, 0, 0, 0, 0, 0, 0, 0, 0, 0, 0, 0, 0, 0, 0, 0, 0, 0, 0, 0, 0, 0, 0,\n",
              "         0, 0, 0, 0, 0, 0, 0, 0, 0, 0, 0, 0, 0, 0, 0, 0, 0, 0, 0, 0, 0],\n",
              "        [0, 0, 0, 0, 0, 0, 0, 0, 0, 0, 0, 0, 0, 0, 0, 0, 0, 0, 0, 0, 0, 0, 0, 0,\n",
              "         0, 1, 0, 0, 0, 0, 0, 0, 0, 0, 0, 0, 0, 0, 0, 0, 0, 0, 0, 0, 0, 0, 0, 0,\n",
              "         0, 0, 0, 0, 0, 0, 0, 0, 0, 0, 0, 0, 0, 0, 0, 0, 0, 0, 0, 0, 0],\n",
              "        [0, 0, 0, 0, 0, 0, 0, 0, 0, 0, 0, 0, 0, 0, 0, 0, 0, 0, 0, 0, 0, 0, 0, 0,\n",
              "         0, 0, 0, 0, 1, 0, 0, 0, 0, 0, 0, 0, 0, 0, 0, 0, 0, 0, 0, 0, 0, 0, 0, 0,\n",
              "         0, 0, 0, 0, 0, 0, 0, 0, 0, 0, 0, 0, 0, 0, 0, 0, 0, 0, 0, 0, 0],\n",
              "        [0, 0, 0, 0, 0, 0, 0, 0, 0, 0, 0, 0, 0, 0, 0, 0, 0, 0, 0, 0, 0, 0, 0, 0,\n",
              "         0, 0, 0, 0, 0, 0, 0, 0, 0, 0, 0, 0, 0, 0, 0, 0, 0, 0, 0, 0, 0, 0, 0, 0,\n",
              "         0, 0, 1, 0, 0, 0, 0, 0, 0, 0, 0, 0, 0, 0, 0, 0, 0, 0, 0, 0, 0],\n",
              "        [0, 0, 0, 0, 0, 0, 0, 0, 0, 0, 0, 0, 0, 0, 0, 0, 0, 0, 0, 0, 0, 0, 0, 0,\n",
              "         0, 0, 0, 0, 0, 0, 0, 0, 0, 0, 0, 0, 0, 0, 0, 0, 0, 0, 0, 0, 0, 0, 0, 0,\n",
              "         0, 0, 1, 0, 0, 0, 0, 0, 0, 0, 0, 0, 0, 0, 0, 0, 0, 0, 0, 0, 0],\n",
              "        [0, 0, 0, 0, 0, 0, 0, 0, 0, 0, 0, 0, 0, 0, 0, 0, 0, 0, 0, 0, 0, 0, 0, 0,\n",
              "         0, 0, 0, 0, 0, 0, 0, 0, 0, 0, 0, 0, 0, 0, 0, 0, 0, 0, 0, 0, 0, 0, 0, 0,\n",
              "         0, 0, 1, 0, 0, 0, 0, 0, 0, 0, 0, 0, 0, 0, 0, 0, 0, 0, 0, 0, 0],\n",
              "        [0, 0, 0, 0, 0, 0, 0, 0, 0, 0, 0, 0, 0, 0, 0, 0, 0, 0, 0, 0, 0, 0, 0, 0,\n",
              "         0, 0, 0, 0, 0, 0, 0, 0, 0, 0, 0, 0, 0, 0, 0, 0, 0, 0, 0, 0, 0, 0, 0, 0,\n",
              "         0, 0, 1, 0, 0, 0, 0, 0, 0, 0, 0, 0, 0, 0, 0, 0, 0, 0, 0, 0, 0]])"
            ]
          },
          "metadata": {
            "tags": []
          },
          "execution_count": 48
        }
      ]
    },
    {
      "cell_type": "code",
      "metadata": {
        "id": "6hp7rY38bCHl",
        "colab_type": "code",
        "colab": {
          "base_uri": "https://localhost:8080/",
          "height": 34
        },
        "outputId": "bc001363-6188-411f-a0e4-4cc4f480d366"
      },
      "source": [
        "query_matrix.shape"
      ],
      "execution_count": 49,
      "outputs": [
        {
          "output_type": "execute_result",
          "data": {
            "text/plain": [
              "torch.Size([8, 69])"
            ]
          },
          "metadata": {
            "tags": []
          },
          "execution_count": 49
        }
      ]
    },
    {
      "cell_type": "code",
      "metadata": {
        "id": "fX_n8ZfEApCi",
        "colab_type": "code",
        "colab": {}
      },
      "source": [
        "query_matrix = query_matrix.share(*db.owners)"
      ],
      "execution_count": 0,
      "outputs": []
    },
    {
      "cell_type": "code",
      "metadata": {
        "id": "PNkosEjJAlua",
        "colab_type": "code",
        "outputId": "fe40a41f-e911-4fd5-8102-f1ca3d1f77e0",
        "colab": {
          "base_uri": "https://localhost:8080/",
          "height": 102
        }
      },
      "source": [
        "query_matrix"
      ],
      "execution_count": 52,
      "outputs": [
        {
          "output_type": "execute_result",
          "data": {
            "text/plain": [
              "(Wrapper)>[AdditiveSharingTensor]\n",
              "\t-> [PointerTensor | me:67092735802 -> alice:17493031172]\n",
              "\t-> [PointerTensor | me:99545348958 -> bob:58824104386]\n",
              "\t-> [PointerTensor | me:10764715448 -> secure_worker:55953103344]\n",
              "\t*crypto provider: me*"
            ]
          },
          "metadata": {
            "tags": []
          },
          "execution_count": 52
        }
      ]
    },
    {
      "cell_type": "code",
      "metadata": {
        "id": "c_VgAVFWh3y4",
        "colab_type": "code",
        "colab": {}
      },
      "source": [
        "alice._objects"
      ],
      "execution_count": 0,
      "outputs": []
    },
    {
      "cell_type": "code",
      "metadata": {
        "id": "ZAzgj7Ddc5ml",
        "colab_type": "code",
        "colab": {
          "base_uri": "https://localhost:8080/",
          "height": 953
        },
        "outputId": "a11eca11-c3ae-49a1-8c8e-22fb9b3a4592"
      },
      "source": [
        "key_matches = list()\n",
        "\n",
        "for key in db.keys:\n",
        "    key_match = strings_equal(key, query_matrix)\n",
        "    key_matches.append(key_match)"
      ],
      "execution_count": 54,
      "outputs": [
        {
          "output_type": "error",
          "ename": "TypeError",
          "evalue": "ignored",
          "traceback": [
            "\u001b[0;31m---------------------------------------------------------------------------\u001b[0m",
            "\u001b[0;31mTypeError\u001b[0m                                 Traceback (most recent call last)",
            "\u001b[0;32m<ipython-input-54-99f6ef551e4d>\u001b[0m in \u001b[0;36m<module>\u001b[0;34m()\u001b[0m\n\u001b[1;32m      2\u001b[0m \u001b[0;34m\u001b[0m\u001b[0m\n\u001b[1;32m      3\u001b[0m \u001b[0;32mfor\u001b[0m \u001b[0mkey\u001b[0m \u001b[0;32min\u001b[0m \u001b[0mdb\u001b[0m\u001b[0;34m.\u001b[0m\u001b[0mkeys\u001b[0m\u001b[0;34m:\u001b[0m\u001b[0;34m\u001b[0m\u001b[0;34m\u001b[0m\u001b[0m\n\u001b[0;32m----> 4\u001b[0;31m     \u001b[0mkey_match\u001b[0m \u001b[0;34m=\u001b[0m \u001b[0mstrings_equal\u001b[0m\u001b[0;34m(\u001b[0m\u001b[0mkey\u001b[0m\u001b[0;34m,\u001b[0m \u001b[0mquery_matrix\u001b[0m\u001b[0;34m)\u001b[0m\u001b[0;34m\u001b[0m\u001b[0;34m\u001b[0m\u001b[0m\n\u001b[0m\u001b[1;32m      5\u001b[0m     \u001b[0mkey_matches\u001b[0m\u001b[0;34m.\u001b[0m\u001b[0mappend\u001b[0m\u001b[0;34m(\u001b[0m\u001b[0mkey_match\u001b[0m\u001b[0;34m)\u001b[0m\u001b[0;34m\u001b[0m\u001b[0;34m\u001b[0m\u001b[0m\n",
            "\u001b[0;32m<ipython-input-16-586659d24152>\u001b[0m in \u001b[0;36mstrings_equal\u001b[0;34m(str_a, str_b)\u001b[0m\n\u001b[1;32m     23\u001b[0m \u001b[0;34m\u001b[0m\u001b[0m\n\u001b[1;32m     24\u001b[0m \u001b[0;32mdef\u001b[0m \u001b[0mstrings_equal\u001b[0m\u001b[0;34m(\u001b[0m\u001b[0mstr_a\u001b[0m\u001b[0;34m,\u001b[0m \u001b[0mstr_b\u001b[0m\u001b[0;34m)\u001b[0m\u001b[0;34m:\u001b[0m\u001b[0;34m\u001b[0m\u001b[0;34m\u001b[0m\u001b[0m\n\u001b[0;32m---> 25\u001b[0;31m     \u001b[0mvect\u001b[0m \u001b[0;34m=\u001b[0m \u001b[0;34m(\u001b[0m\u001b[0mstr_a\u001b[0m \u001b[0;34m*\u001b[0m \u001b[0mstr_b\u001b[0m\u001b[0;34m)\u001b[0m\u001b[0;34m.\u001b[0m\u001b[0msum\u001b[0m\u001b[0;34m(\u001b[0m\u001b[0mdim\u001b[0m\u001b[0;34m=\u001b[0m\u001b[0;36m1\u001b[0m\u001b[0;34m)\u001b[0m\u001b[0;34m\u001b[0m\u001b[0;34m\u001b[0m\u001b[0m\n\u001b[0m\u001b[1;32m     26\u001b[0m     \u001b[0mx\u001b[0m \u001b[0;34m=\u001b[0m \u001b[0mvect\u001b[0m\u001b[0;34m[\u001b[0m\u001b[0;36m0\u001b[0m\u001b[0;34m]\u001b[0m\u001b[0;34m\u001b[0m\u001b[0;34m\u001b[0m\u001b[0m\n\u001b[1;32m     27\u001b[0m \u001b[0;34m\u001b[0m\u001b[0m\n",
            "\u001b[0;32m/usr/local/lib/python3.6/dist-packages/syft/frameworks/torch/hook/hook.py\u001b[0m in \u001b[0;36moverloaded_native_method\u001b[0;34m(self, *args, **kwargs)\u001b[0m\n\u001b[1;32m    691\u001b[0m                 \u001b[0;31m# Send the new command to the appropriate class and get the response\u001b[0m\u001b[0;34m\u001b[0m\u001b[0;34m\u001b[0m\u001b[0;34m\u001b[0m\u001b[0m\n\u001b[1;32m    692\u001b[0m                 \u001b[0mmethod\u001b[0m \u001b[0;34m=\u001b[0m \u001b[0mgetattr\u001b[0m\u001b[0;34m(\u001b[0m\u001b[0mnew_self\u001b[0m\u001b[0;34m,\u001b[0m \u001b[0mmethod_name\u001b[0m\u001b[0;34m)\u001b[0m\u001b[0;34m\u001b[0m\u001b[0;34m\u001b[0m\u001b[0m\n\u001b[0;32m--> 693\u001b[0;31m                 \u001b[0mresponse\u001b[0m \u001b[0;34m=\u001b[0m \u001b[0mmethod\u001b[0m\u001b[0;34m(\u001b[0m\u001b[0;34m*\u001b[0m\u001b[0mnew_args\u001b[0m\u001b[0;34m,\u001b[0m \u001b[0;34m**\u001b[0m\u001b[0mnew_kwargs\u001b[0m\u001b[0;34m)\u001b[0m\u001b[0;34m\u001b[0m\u001b[0;34m\u001b[0m\u001b[0m\n\u001b[0m\u001b[1;32m    694\u001b[0m \u001b[0;34m\u001b[0m\u001b[0m\n\u001b[1;32m    695\u001b[0m                 \u001b[0;31m# For inplace methods, just directly return self\u001b[0m\u001b[0;34m\u001b[0m\u001b[0;34m\u001b[0m\u001b[0;34m\u001b[0m\u001b[0m\n",
            "\u001b[0;32m/usr/local/lib/python3.6/dist-packages/syft/frameworks/torch/tensors/interpreters/additive_shared.py\u001b[0m in \u001b[0;36m__mul__\u001b[0;34m(self, other, **kwargs)\u001b[0m\n\u001b[1;32m    473\u001b[0m \u001b[0;34m\u001b[0m\u001b[0m\n\u001b[1;32m    474\u001b[0m     \u001b[0;32mdef\u001b[0m \u001b[0m__mul__\u001b[0m\u001b[0;34m(\u001b[0m\u001b[0mself\u001b[0m\u001b[0;34m,\u001b[0m \u001b[0mother\u001b[0m\u001b[0;34m,\u001b[0m \u001b[0;34m**\u001b[0m\u001b[0mkwargs\u001b[0m\u001b[0;34m)\u001b[0m\u001b[0;34m:\u001b[0m\u001b[0;34m\u001b[0m\u001b[0;34m\u001b[0m\u001b[0m\n\u001b[0;32m--> 475\u001b[0;31m         \u001b[0;32mreturn\u001b[0m \u001b[0mself\u001b[0m\u001b[0;34m.\u001b[0m\u001b[0mmul\u001b[0m\u001b[0;34m(\u001b[0m\u001b[0mother\u001b[0m\u001b[0;34m,\u001b[0m \u001b[0;34m**\u001b[0m\u001b[0mkwargs\u001b[0m\u001b[0;34m)\u001b[0m\u001b[0;34m\u001b[0m\u001b[0;34m\u001b[0m\u001b[0m\n\u001b[0m\u001b[1;32m    476\u001b[0m \u001b[0;34m\u001b[0m\u001b[0m\n\u001b[1;32m    477\u001b[0m     \u001b[0;32mdef\u001b[0m \u001b[0m__imul__\u001b[0m\u001b[0;34m(\u001b[0m\u001b[0mself\u001b[0m\u001b[0;34m,\u001b[0m \u001b[0mother\u001b[0m\u001b[0;34m)\u001b[0m\u001b[0;34m:\u001b[0m\u001b[0;34m\u001b[0m\u001b[0;34m\u001b[0m\u001b[0m\n",
            "\u001b[0;32m/usr/local/lib/python3.6/dist-packages/syft/frameworks/torch/tensors/interpreters/additive_shared.py\u001b[0m in \u001b[0;36mmul\u001b[0;34m(self, other)\u001b[0m\n\u001b[1;32m    470\u001b[0m             \u001b[0;32mreturn\u001b[0m \u001b[0mself\u001b[0m\u001b[0;34m.\u001b[0m\u001b[0m_public_mul\u001b[0m\u001b[0;34m(\u001b[0m\u001b[0mother\u001b[0m\u001b[0;34m,\u001b[0m \u001b[0;34m\"mul\"\u001b[0m\u001b[0;34m)\u001b[0m\u001b[0;34m\u001b[0m\u001b[0;34m\u001b[0m\u001b[0m\n\u001b[1;32m    471\u001b[0m \u001b[0;34m\u001b[0m\u001b[0m\n\u001b[0;32m--> 472\u001b[0;31m         \u001b[0;32mreturn\u001b[0m \u001b[0mself\u001b[0m\u001b[0;34m.\u001b[0m\u001b[0m_private_mul\u001b[0m\u001b[0;34m(\u001b[0m\u001b[0mother\u001b[0m\u001b[0;34m,\u001b[0m \u001b[0;34m\"mul\"\u001b[0m\u001b[0;34m)\u001b[0m\u001b[0;34m\u001b[0m\u001b[0;34m\u001b[0m\u001b[0m\n\u001b[0m\u001b[1;32m    473\u001b[0m \u001b[0;34m\u001b[0m\u001b[0m\n\u001b[1;32m    474\u001b[0m     \u001b[0;32mdef\u001b[0m \u001b[0m__mul__\u001b[0m\u001b[0;34m(\u001b[0m\u001b[0mself\u001b[0m\u001b[0;34m,\u001b[0m \u001b[0mother\u001b[0m\u001b[0;34m,\u001b[0m \u001b[0;34m**\u001b[0m\u001b[0mkwargs\u001b[0m\u001b[0;34m)\u001b[0m\u001b[0;34m:\u001b[0m\u001b[0;34m\u001b[0m\u001b[0;34m\u001b[0m\u001b[0m\n",
            "\u001b[0;32m/usr/local/lib/python3.6/dist-packages/syft/frameworks/torch/tensors/interpreters/additive_shared.py\u001b[0m in \u001b[0;36m_private_mul\u001b[0;34m(self, other, equation)\u001b[0m\n\u001b[1;32m    413\u001b[0m             \u001b[0;32mraise\u001b[0m \u001b[0mAttributeError\u001b[0m\u001b[0;34m(\u001b[0m\u001b[0;34m\"For multiplication a crypto_provider must be passed.\"\u001b[0m\u001b[0;34m)\u001b[0m\u001b[0;34m\u001b[0m\u001b[0;34m\u001b[0m\u001b[0m\n\u001b[1;32m    414\u001b[0m \u001b[0;34m\u001b[0m\u001b[0m\n\u001b[0;32m--> 415\u001b[0;31m         \u001b[0mshares\u001b[0m \u001b[0;34m=\u001b[0m \u001b[0mspdz\u001b[0m\u001b[0;34m.\u001b[0m\u001b[0mspdz_mul\u001b[0m\u001b[0;34m(\u001b[0m\u001b[0mcmd\u001b[0m\u001b[0;34m,\u001b[0m \u001b[0mself\u001b[0m\u001b[0;34m,\u001b[0m \u001b[0mother\u001b[0m\u001b[0;34m,\u001b[0m \u001b[0mself\u001b[0m\u001b[0;34m.\u001b[0m\u001b[0mcrypto_provider\u001b[0m\u001b[0;34m,\u001b[0m \u001b[0mself\u001b[0m\u001b[0;34m.\u001b[0m\u001b[0mfield\u001b[0m\u001b[0;34m)\u001b[0m\u001b[0;34m\u001b[0m\u001b[0;34m\u001b[0m\u001b[0m\n\u001b[0m\u001b[1;32m    416\u001b[0m \u001b[0;34m\u001b[0m\u001b[0m\n\u001b[1;32m    417\u001b[0m         \u001b[0;32mreturn\u001b[0m \u001b[0mshares\u001b[0m\u001b[0;34m\u001b[0m\u001b[0;34m\u001b[0m\u001b[0m\n",
            "\u001b[0;32m/usr/local/lib/python3.6/dist-packages/syft/frameworks/torch/crypto/spdz.py\u001b[0m in \u001b[0;36mspdz_mul\u001b[0;34m(cmd, x_sh, y_sh, crypto_provider, field)\u001b[0m\n\u001b[1;32m     43\u001b[0m         \u001b[0mj\u001b[0m \u001b[0;34m=\u001b[0m \u001b[0msy\u001b[0m\u001b[0;34m.\u001b[0m\u001b[0mMultiPointerTensor\u001b[0m\u001b[0;34m(\u001b[0m\u001b[0mchildren\u001b[0m\u001b[0;34m=\u001b[0m\u001b[0;34m[\u001b[0m\u001b[0mj1\u001b[0m\u001b[0;34m,\u001b[0m \u001b[0mj0\u001b[0m\u001b[0;34m]\u001b[0m\u001b[0;34m)\u001b[0m\u001b[0;34m\u001b[0m\u001b[0;34m\u001b[0m\u001b[0m\n\u001b[1;32m     44\u001b[0m     \u001b[0;32melse\u001b[0m\u001b[0;34m:\u001b[0m\u001b[0;34m\u001b[0m\u001b[0;34m\u001b[0m\u001b[0m\n\u001b[0;32m---> 45\u001b[0;31m         \u001b[0mj\u001b[0m \u001b[0;34m=\u001b[0m \u001b[0msy\u001b[0m\u001b[0;34m.\u001b[0m\u001b[0mMultiPointerTensor\u001b[0m\u001b[0;34m(\u001b[0m\u001b[0mchildren\u001b[0m\u001b[0;34m=\u001b[0m\u001b[0;34m[\u001b[0m\u001b[0mj1\u001b[0m\u001b[0;34m]\u001b[0m \u001b[0;34m+\u001b[0m \u001b[0mj0\u001b[0m\u001b[0;34m.\u001b[0m\u001b[0mchild\u001b[0m\u001b[0;34m.\u001b[0m\u001b[0mvalues\u001b[0m\u001b[0;34m(\u001b[0m\u001b[0;34m)\u001b[0m\u001b[0;34m)\u001b[0m\u001b[0;34m\u001b[0m\u001b[0;34m\u001b[0m\u001b[0m\n\u001b[0m\u001b[1;32m     46\u001b[0m \u001b[0;34m\u001b[0m\u001b[0m\n\u001b[1;32m     47\u001b[0m     \u001b[0mdelta_b\u001b[0m \u001b[0;34m=\u001b[0m \u001b[0mcmd\u001b[0m\u001b[0;34m(\u001b[0m\u001b[0mdelta\u001b[0m\u001b[0;34m,\u001b[0m \u001b[0mb\u001b[0m\u001b[0;34m)\u001b[0m\u001b[0;34m\u001b[0m\u001b[0;34m\u001b[0m\u001b[0m\n",
            "\u001b[0;31mTypeError\u001b[0m: can only concatenate list (not \"dict_values\") to list"
          ]
        }
      ]
    },
    {
      "cell_type": "code",
      "metadata": {
        "id": "i5BYuVpRjo1o",
        "colab_type": "code",
        "colab": {
          "base_uri": "https://localhost:8080/",
          "height": 102
        },
        "outputId": "2eecf037-d7a0-445d-a7af-4ecebf49bff5"
      },
      "source": [
        "db.keys[0]"
      ],
      "execution_count": 56,
      "outputs": [
        {
          "output_type": "execute_result",
          "data": {
            "text/plain": [
              "(Wrapper)>[AdditiveSharingTensor]\n",
              "\t-> [PointerTensor | me:90897264803 -> alice:4216191979]\n",
              "\t-> [PointerTensor | me:53155810295 -> bob:48204390003]\n",
              "\t-> [PointerTensor | me:38783002157 -> secure_worker:45107109400]\n",
              "\t*crypto provider: me*"
            ]
          },
          "metadata": {
            "tags": []
          },
          "execution_count": 56
        }
      ]
    },
    {
      "cell_type": "code",
      "metadata": {
        "id": "K-keRBUXjvjJ",
        "colab_type": "code",
        "colab": {}
      },
      "source": [
        "def strings_equal(str_a, str_b):\n",
        "    vect = (str_a * str_b).sum(dim=1)\n",
        "    x = vect[0]\n",
        "\n",
        "    for i in range(vect.shape[0] - 1):\n",
        "        x= x*vect[i+1]\n",
        "\n",
        "    #str_match = x\n",
        "    \n",
        "    return x   #str_match\n",
        "  "
      ],
      "execution_count": 0,
      "outputs": []
    },
    {
      "cell_type": "code",
      "metadata": {
        "id": "S_442Mk8nSeX",
        "colab_type": "code",
        "colab": {}
      },
      "source": [
        "def strings_equal(str_a, str_b):\n",
        "\n",
        "    vect = (str_a * str_b).sum(1)\n",
        "\n",
        "    x = vect[0]\n",
        "\n",
        "    for i in range(vect.shape[0] - 1):\n",
        "        x = x * vect[i + 1]    \n",
        "\n",
        "    return x"
      ],
      "execution_count": 0,
      "outputs": []
    },
    {
      "cell_type": "code",
      "metadata": {
        "id": "lu5xxfHwkR-v",
        "colab_type": "code",
        "colab": {
          "base_uri": "https://localhost:8080/",
          "height": 307
        },
        "outputId": "804636fc-64cc-43e9-9c7c-7257b629ca76"
      },
      "source": [
        "db.keys[0]*query_matrix"
      ],
      "execution_count": 59,
      "outputs": [
        {
          "output_type": "error",
          "ename": "TypeError",
          "evalue": "ignored",
          "traceback": [
            "\u001b[0;31m---------------------------------------------------------------------------\u001b[0m",
            "\u001b[0;31mTypeError\u001b[0m                                 Traceback (most recent call last)",
            "\u001b[0;32m<ipython-input-59-be74e90654ff>\u001b[0m in \u001b[0;36m<module>\u001b[0;34m()\u001b[0m\n\u001b[0;32m----> 1\u001b[0;31m \u001b[0mdb\u001b[0m\u001b[0;34m.\u001b[0m\u001b[0mkeys\u001b[0m\u001b[0;34m[\u001b[0m\u001b[0;36m0\u001b[0m\u001b[0;34m]\u001b[0m\u001b[0;34m*\u001b[0m\u001b[0mquery_matrix\u001b[0m\u001b[0;34m\u001b[0m\u001b[0;34m\u001b[0m\u001b[0m\n\u001b[0m",
            "\u001b[0;32m/usr/local/lib/python3.6/dist-packages/syft/frameworks/torch/hook/hook.py\u001b[0m in \u001b[0;36moverloaded_native_method\u001b[0;34m(self, *args, **kwargs)\u001b[0m\n\u001b[1;32m    691\u001b[0m                 \u001b[0;31m# Send the new command to the appropriate class and get the response\u001b[0m\u001b[0;34m\u001b[0m\u001b[0;34m\u001b[0m\u001b[0;34m\u001b[0m\u001b[0m\n\u001b[1;32m    692\u001b[0m                 \u001b[0mmethod\u001b[0m \u001b[0;34m=\u001b[0m \u001b[0mgetattr\u001b[0m\u001b[0;34m(\u001b[0m\u001b[0mnew_self\u001b[0m\u001b[0;34m,\u001b[0m \u001b[0mmethod_name\u001b[0m\u001b[0;34m)\u001b[0m\u001b[0;34m\u001b[0m\u001b[0;34m\u001b[0m\u001b[0m\n\u001b[0;32m--> 693\u001b[0;31m                 \u001b[0mresponse\u001b[0m \u001b[0;34m=\u001b[0m \u001b[0mmethod\u001b[0m\u001b[0;34m(\u001b[0m\u001b[0;34m*\u001b[0m\u001b[0mnew_args\u001b[0m\u001b[0;34m,\u001b[0m \u001b[0;34m**\u001b[0m\u001b[0mnew_kwargs\u001b[0m\u001b[0;34m)\u001b[0m\u001b[0;34m\u001b[0m\u001b[0;34m\u001b[0m\u001b[0m\n\u001b[0m\u001b[1;32m    694\u001b[0m \u001b[0;34m\u001b[0m\u001b[0m\n\u001b[1;32m    695\u001b[0m                 \u001b[0;31m# For inplace methods, just directly return self\u001b[0m\u001b[0;34m\u001b[0m\u001b[0;34m\u001b[0m\u001b[0;34m\u001b[0m\u001b[0m\n",
            "\u001b[0;32m/usr/local/lib/python3.6/dist-packages/syft/frameworks/torch/tensors/interpreters/additive_shared.py\u001b[0m in \u001b[0;36m__mul__\u001b[0;34m(self, other, **kwargs)\u001b[0m\n\u001b[1;32m    473\u001b[0m \u001b[0;34m\u001b[0m\u001b[0m\n\u001b[1;32m    474\u001b[0m     \u001b[0;32mdef\u001b[0m \u001b[0m__mul__\u001b[0m\u001b[0;34m(\u001b[0m\u001b[0mself\u001b[0m\u001b[0;34m,\u001b[0m \u001b[0mother\u001b[0m\u001b[0;34m,\u001b[0m \u001b[0;34m**\u001b[0m\u001b[0mkwargs\u001b[0m\u001b[0;34m)\u001b[0m\u001b[0;34m:\u001b[0m\u001b[0;34m\u001b[0m\u001b[0;34m\u001b[0m\u001b[0m\n\u001b[0;32m--> 475\u001b[0;31m         \u001b[0;32mreturn\u001b[0m \u001b[0mself\u001b[0m\u001b[0;34m.\u001b[0m\u001b[0mmul\u001b[0m\u001b[0;34m(\u001b[0m\u001b[0mother\u001b[0m\u001b[0;34m,\u001b[0m \u001b[0;34m**\u001b[0m\u001b[0mkwargs\u001b[0m\u001b[0;34m)\u001b[0m\u001b[0;34m\u001b[0m\u001b[0;34m\u001b[0m\u001b[0m\n\u001b[0m\u001b[1;32m    476\u001b[0m \u001b[0;34m\u001b[0m\u001b[0m\n\u001b[1;32m    477\u001b[0m     \u001b[0;32mdef\u001b[0m \u001b[0m__imul__\u001b[0m\u001b[0;34m(\u001b[0m\u001b[0mself\u001b[0m\u001b[0;34m,\u001b[0m \u001b[0mother\u001b[0m\u001b[0;34m)\u001b[0m\u001b[0;34m:\u001b[0m\u001b[0;34m\u001b[0m\u001b[0;34m\u001b[0m\u001b[0m\n",
            "\u001b[0;32m/usr/local/lib/python3.6/dist-packages/syft/frameworks/torch/tensors/interpreters/additive_shared.py\u001b[0m in \u001b[0;36mmul\u001b[0;34m(self, other)\u001b[0m\n\u001b[1;32m    470\u001b[0m             \u001b[0;32mreturn\u001b[0m \u001b[0mself\u001b[0m\u001b[0;34m.\u001b[0m\u001b[0m_public_mul\u001b[0m\u001b[0;34m(\u001b[0m\u001b[0mother\u001b[0m\u001b[0;34m,\u001b[0m \u001b[0;34m\"mul\"\u001b[0m\u001b[0;34m)\u001b[0m\u001b[0;34m\u001b[0m\u001b[0;34m\u001b[0m\u001b[0m\n\u001b[1;32m    471\u001b[0m \u001b[0;34m\u001b[0m\u001b[0m\n\u001b[0;32m--> 472\u001b[0;31m         \u001b[0;32mreturn\u001b[0m \u001b[0mself\u001b[0m\u001b[0;34m.\u001b[0m\u001b[0m_private_mul\u001b[0m\u001b[0;34m(\u001b[0m\u001b[0mother\u001b[0m\u001b[0;34m,\u001b[0m \u001b[0;34m\"mul\"\u001b[0m\u001b[0;34m)\u001b[0m\u001b[0;34m\u001b[0m\u001b[0;34m\u001b[0m\u001b[0m\n\u001b[0m\u001b[1;32m    473\u001b[0m \u001b[0;34m\u001b[0m\u001b[0m\n\u001b[1;32m    474\u001b[0m     \u001b[0;32mdef\u001b[0m \u001b[0m__mul__\u001b[0m\u001b[0;34m(\u001b[0m\u001b[0mself\u001b[0m\u001b[0;34m,\u001b[0m \u001b[0mother\u001b[0m\u001b[0;34m,\u001b[0m \u001b[0;34m**\u001b[0m\u001b[0mkwargs\u001b[0m\u001b[0;34m)\u001b[0m\u001b[0;34m:\u001b[0m\u001b[0;34m\u001b[0m\u001b[0;34m\u001b[0m\u001b[0m\n",
            "\u001b[0;32m/usr/local/lib/python3.6/dist-packages/syft/frameworks/torch/tensors/interpreters/additive_shared.py\u001b[0m in \u001b[0;36m_private_mul\u001b[0;34m(self, other, equation)\u001b[0m\n\u001b[1;32m    413\u001b[0m             \u001b[0;32mraise\u001b[0m \u001b[0mAttributeError\u001b[0m\u001b[0;34m(\u001b[0m\u001b[0;34m\"For multiplication a crypto_provider must be passed.\"\u001b[0m\u001b[0;34m)\u001b[0m\u001b[0;34m\u001b[0m\u001b[0;34m\u001b[0m\u001b[0m\n\u001b[1;32m    414\u001b[0m \u001b[0;34m\u001b[0m\u001b[0m\n\u001b[0;32m--> 415\u001b[0;31m         \u001b[0mshares\u001b[0m \u001b[0;34m=\u001b[0m \u001b[0mspdz\u001b[0m\u001b[0;34m.\u001b[0m\u001b[0mspdz_mul\u001b[0m\u001b[0;34m(\u001b[0m\u001b[0mcmd\u001b[0m\u001b[0;34m,\u001b[0m \u001b[0mself\u001b[0m\u001b[0;34m,\u001b[0m \u001b[0mother\u001b[0m\u001b[0;34m,\u001b[0m \u001b[0mself\u001b[0m\u001b[0;34m.\u001b[0m\u001b[0mcrypto_provider\u001b[0m\u001b[0;34m,\u001b[0m \u001b[0mself\u001b[0m\u001b[0;34m.\u001b[0m\u001b[0mfield\u001b[0m\u001b[0;34m)\u001b[0m\u001b[0;34m\u001b[0m\u001b[0;34m\u001b[0m\u001b[0m\n\u001b[0m\u001b[1;32m    416\u001b[0m \u001b[0;34m\u001b[0m\u001b[0m\n\u001b[1;32m    417\u001b[0m         \u001b[0;32mreturn\u001b[0m \u001b[0mshares\u001b[0m\u001b[0;34m\u001b[0m\u001b[0;34m\u001b[0m\u001b[0m\n",
            "\u001b[0;32m/usr/local/lib/python3.6/dist-packages/syft/frameworks/torch/crypto/spdz.py\u001b[0m in \u001b[0;36mspdz_mul\u001b[0;34m(cmd, x_sh, y_sh, crypto_provider, field)\u001b[0m\n\u001b[1;32m     43\u001b[0m         \u001b[0mj\u001b[0m \u001b[0;34m=\u001b[0m \u001b[0msy\u001b[0m\u001b[0;34m.\u001b[0m\u001b[0mMultiPointerTensor\u001b[0m\u001b[0;34m(\u001b[0m\u001b[0mchildren\u001b[0m\u001b[0;34m=\u001b[0m\u001b[0;34m[\u001b[0m\u001b[0mj1\u001b[0m\u001b[0;34m,\u001b[0m \u001b[0mj0\u001b[0m\u001b[0;34m]\u001b[0m\u001b[0;34m)\u001b[0m\u001b[0;34m\u001b[0m\u001b[0;34m\u001b[0m\u001b[0m\n\u001b[1;32m     44\u001b[0m     \u001b[0;32melse\u001b[0m\u001b[0;34m:\u001b[0m\u001b[0;34m\u001b[0m\u001b[0;34m\u001b[0m\u001b[0m\n\u001b[0;32m---> 45\u001b[0;31m         \u001b[0mj\u001b[0m \u001b[0;34m=\u001b[0m \u001b[0msy\u001b[0m\u001b[0;34m.\u001b[0m\u001b[0mMultiPointerTensor\u001b[0m\u001b[0;34m(\u001b[0m\u001b[0mchildren\u001b[0m\u001b[0;34m=\u001b[0m\u001b[0;34m[\u001b[0m\u001b[0mj1\u001b[0m\u001b[0;34m]\u001b[0m \u001b[0;34m+\u001b[0m \u001b[0mj0\u001b[0m\u001b[0;34m.\u001b[0m\u001b[0mchild\u001b[0m\u001b[0;34m.\u001b[0m\u001b[0mvalues\u001b[0m\u001b[0;34m(\u001b[0m\u001b[0;34m)\u001b[0m\u001b[0;34m)\u001b[0m\u001b[0;34m\u001b[0m\u001b[0;34m\u001b[0m\u001b[0m\n\u001b[0m\u001b[1;32m     46\u001b[0m \u001b[0;34m\u001b[0m\u001b[0m\n\u001b[1;32m     47\u001b[0m     \u001b[0mdelta_b\u001b[0m \u001b[0;34m=\u001b[0m \u001b[0mcmd\u001b[0m\u001b[0;34m(\u001b[0m\u001b[0mdelta\u001b[0m\u001b[0;34m,\u001b[0m \u001b[0mb\u001b[0m\u001b[0;34m)\u001b[0m\u001b[0;34m\u001b[0m\u001b[0;34m\u001b[0m\u001b[0m\n",
            "\u001b[0;31mTypeError\u001b[0m: can only concatenate list (not \"dict_values\") to list"
          ]
        }
      ]
    },
    {
      "cell_type": "code",
      "metadata": {
        "id": "yJfwCdP3985Q",
        "colab_type": "code",
        "outputId": "9c4073d9-577a-4e1a-be08-de2f70539def",
        "colab": {
          "base_uri": "https://localhost:8080/",
          "height": 307
        }
      },
      "source": [
        "db.query(\"key1\")"
      ],
      "execution_count": 60,
      "outputs": [
        {
          "output_type": "error",
          "ename": "TypeError",
          "evalue": "ignored",
          "traceback": [
            "\u001b[0;31m---------------------------------------------------------------------------\u001b[0m",
            "\u001b[0;31mTypeError\u001b[0m                                 Traceback (most recent call last)",
            "\u001b[0;32m<ipython-input-60-bcdb9e527017>\u001b[0m in \u001b[0;36m<module>\u001b[0;34m()\u001b[0m\n\u001b[0;32m----> 1\u001b[0;31m \u001b[0mdb\u001b[0m\u001b[0;34m.\u001b[0m\u001b[0mquery\u001b[0m\u001b[0;34m(\u001b[0m\u001b[0;34m\"key1\"\u001b[0m\u001b[0;34m)\u001b[0m\u001b[0;34m\u001b[0m\u001b[0;34m\u001b[0m\u001b[0m\n\u001b[0m",
            "\u001b[0;32m<ipython-input-28-d817f105e184>\u001b[0m in \u001b[0;36mquery\u001b[0;34m(self, query_str)\u001b[0m\n\u001b[1;32m     28\u001b[0m \u001b[0;34m\u001b[0m\u001b[0m\n\u001b[1;32m     29\u001b[0m         \u001b[0;32mfor\u001b[0m \u001b[0mkey\u001b[0m \u001b[0;32min\u001b[0m \u001b[0mself\u001b[0m\u001b[0;34m.\u001b[0m\u001b[0mkeys\u001b[0m\u001b[0;34m:\u001b[0m\u001b[0;34m\u001b[0m\u001b[0;34m\u001b[0m\u001b[0m\n\u001b[0;32m---> 30\u001b[0;31m             \u001b[0mkey_match\u001b[0m \u001b[0;34m=\u001b[0m \u001b[0mstrings_equal\u001b[0m\u001b[0;34m(\u001b[0m\u001b[0mkey\u001b[0m\u001b[0;34m,\u001b[0m \u001b[0mquery_matrix\u001b[0m\u001b[0;34m)\u001b[0m\u001b[0;34m\u001b[0m\u001b[0;34m\u001b[0m\u001b[0m\n\u001b[0m\u001b[1;32m     31\u001b[0m             \u001b[0mkey_matches\u001b[0m\u001b[0;34m.\u001b[0m\u001b[0mappend\u001b[0m\u001b[0;34m(\u001b[0m\u001b[0mkey_match\u001b[0m\u001b[0;34m)\u001b[0m\u001b[0;34m\u001b[0m\u001b[0;34m\u001b[0m\u001b[0m\n\u001b[1;32m     32\u001b[0m \u001b[0;34m\u001b[0m\u001b[0m\n",
            "\u001b[0;32m<ipython-input-58-47fd02535a25>\u001b[0m in \u001b[0;36mstrings_equal\u001b[0;34m(str_a, str_b)\u001b[0m\n\u001b[1;32m      1\u001b[0m \u001b[0;32mdef\u001b[0m \u001b[0mstrings_equal\u001b[0m\u001b[0;34m(\u001b[0m\u001b[0mstr_a\u001b[0m\u001b[0;34m,\u001b[0m \u001b[0mstr_b\u001b[0m\u001b[0;34m)\u001b[0m\u001b[0;34m:\u001b[0m\u001b[0;34m\u001b[0m\u001b[0;34m\u001b[0m\u001b[0m\n\u001b[1;32m      2\u001b[0m \u001b[0;34m\u001b[0m\u001b[0m\n\u001b[0;32m----> 3\u001b[0;31m     \u001b[0mvect\u001b[0m \u001b[0;34m=\u001b[0m \u001b[0;34m(\u001b[0m\u001b[0mstr_a\u001b[0m \u001b[0;34m*\u001b[0m \u001b[0mstr_b\u001b[0m\u001b[0;34m)\u001b[0m\u001b[0;34m.\u001b[0m\u001b[0msum\u001b[0m\u001b[0;34m(\u001b[0m\u001b[0;36m1\u001b[0m\u001b[0;34m)\u001b[0m\u001b[0;34m\u001b[0m\u001b[0;34m\u001b[0m\u001b[0m\n\u001b[0m\u001b[1;32m      4\u001b[0m \u001b[0;34m\u001b[0m\u001b[0m\n\u001b[1;32m      5\u001b[0m     \u001b[0mx\u001b[0m \u001b[0;34m=\u001b[0m \u001b[0mvect\u001b[0m\u001b[0;34m[\u001b[0m\u001b[0;36m0\u001b[0m\u001b[0;34m]\u001b[0m\u001b[0;34m\u001b[0m\u001b[0;34m\u001b[0m\u001b[0m\n",
            "\u001b[0;32m/usr/local/lib/python3.6/dist-packages/syft/frameworks/torch/hook/hook.py\u001b[0m in \u001b[0;36moverloaded_native_method\u001b[0;34m(self, *args, **kwargs)\u001b[0m\n\u001b[1;32m    691\u001b[0m                 \u001b[0;31m# Send the new command to the appropriate class and get the response\u001b[0m\u001b[0;34m\u001b[0m\u001b[0;34m\u001b[0m\u001b[0;34m\u001b[0m\u001b[0m\n\u001b[1;32m    692\u001b[0m                 \u001b[0mmethod\u001b[0m \u001b[0;34m=\u001b[0m \u001b[0mgetattr\u001b[0m\u001b[0;34m(\u001b[0m\u001b[0mnew_self\u001b[0m\u001b[0;34m,\u001b[0m \u001b[0mmethod_name\u001b[0m\u001b[0;34m)\u001b[0m\u001b[0;34m\u001b[0m\u001b[0;34m\u001b[0m\u001b[0m\n\u001b[0;32m--> 693\u001b[0;31m                 \u001b[0mresponse\u001b[0m \u001b[0;34m=\u001b[0m \u001b[0mmethod\u001b[0m\u001b[0;34m(\u001b[0m\u001b[0;34m*\u001b[0m\u001b[0mnew_args\u001b[0m\u001b[0;34m,\u001b[0m \u001b[0;34m**\u001b[0m\u001b[0mnew_kwargs\u001b[0m\u001b[0;34m)\u001b[0m\u001b[0;34m\u001b[0m\u001b[0;34m\u001b[0m\u001b[0m\n\u001b[0m\u001b[1;32m    694\u001b[0m \u001b[0;34m\u001b[0m\u001b[0m\n\u001b[1;32m    695\u001b[0m                 \u001b[0;31m# For inplace methods, just directly return self\u001b[0m\u001b[0;34m\u001b[0m\u001b[0;34m\u001b[0m\u001b[0;34m\u001b[0m\u001b[0m\n",
            "\u001b[0;32m/usr/local/lib/python3.6/dist-packages/syft/frameworks/torch/tensors/interpreters/additive_shared.py\u001b[0m in \u001b[0;36m__mul__\u001b[0;34m(self, other, **kwargs)\u001b[0m\n\u001b[1;32m    473\u001b[0m \u001b[0;34m\u001b[0m\u001b[0m\n\u001b[1;32m    474\u001b[0m     \u001b[0;32mdef\u001b[0m \u001b[0m__mul__\u001b[0m\u001b[0;34m(\u001b[0m\u001b[0mself\u001b[0m\u001b[0;34m,\u001b[0m \u001b[0mother\u001b[0m\u001b[0;34m,\u001b[0m \u001b[0;34m**\u001b[0m\u001b[0mkwargs\u001b[0m\u001b[0;34m)\u001b[0m\u001b[0;34m:\u001b[0m\u001b[0;34m\u001b[0m\u001b[0;34m\u001b[0m\u001b[0m\n\u001b[0;32m--> 475\u001b[0;31m         \u001b[0;32mreturn\u001b[0m \u001b[0mself\u001b[0m\u001b[0;34m.\u001b[0m\u001b[0mmul\u001b[0m\u001b[0;34m(\u001b[0m\u001b[0mother\u001b[0m\u001b[0;34m,\u001b[0m \u001b[0;34m**\u001b[0m\u001b[0mkwargs\u001b[0m\u001b[0;34m)\u001b[0m\u001b[0;34m\u001b[0m\u001b[0;34m\u001b[0m\u001b[0m\n\u001b[0m\u001b[1;32m    476\u001b[0m \u001b[0;34m\u001b[0m\u001b[0m\n\u001b[1;32m    477\u001b[0m     \u001b[0;32mdef\u001b[0m \u001b[0m__imul__\u001b[0m\u001b[0;34m(\u001b[0m\u001b[0mself\u001b[0m\u001b[0;34m,\u001b[0m \u001b[0mother\u001b[0m\u001b[0;34m)\u001b[0m\u001b[0;34m:\u001b[0m\u001b[0;34m\u001b[0m\u001b[0;34m\u001b[0m\u001b[0m\n",
            "\u001b[0;32m/usr/local/lib/python3.6/dist-packages/syft/frameworks/torch/tensors/interpreters/additive_shared.py\u001b[0m in \u001b[0;36mmul\u001b[0;34m(self, other)\u001b[0m\n\u001b[1;32m    470\u001b[0m             \u001b[0;32mreturn\u001b[0m \u001b[0mself\u001b[0m\u001b[0;34m.\u001b[0m\u001b[0m_public_mul\u001b[0m\u001b[0;34m(\u001b[0m\u001b[0mother\u001b[0m\u001b[0;34m,\u001b[0m \u001b[0;34m\"mul\"\u001b[0m\u001b[0;34m)\u001b[0m\u001b[0;34m\u001b[0m\u001b[0;34m\u001b[0m\u001b[0m\n\u001b[1;32m    471\u001b[0m \u001b[0;34m\u001b[0m\u001b[0m\n\u001b[0;32m--> 472\u001b[0;31m         \u001b[0;32mreturn\u001b[0m \u001b[0mself\u001b[0m\u001b[0;34m.\u001b[0m\u001b[0m_private_mul\u001b[0m\u001b[0;34m(\u001b[0m\u001b[0mother\u001b[0m\u001b[0;34m,\u001b[0m \u001b[0;34m\"mul\"\u001b[0m\u001b[0;34m)\u001b[0m\u001b[0;34m\u001b[0m\u001b[0;34m\u001b[0m\u001b[0m\n\u001b[0m\u001b[1;32m    473\u001b[0m \u001b[0;34m\u001b[0m\u001b[0m\n\u001b[1;32m    474\u001b[0m     \u001b[0;32mdef\u001b[0m \u001b[0m__mul__\u001b[0m\u001b[0;34m(\u001b[0m\u001b[0mself\u001b[0m\u001b[0;34m,\u001b[0m \u001b[0mother\u001b[0m\u001b[0;34m,\u001b[0m \u001b[0;34m**\u001b[0m\u001b[0mkwargs\u001b[0m\u001b[0;34m)\u001b[0m\u001b[0;34m:\u001b[0m\u001b[0;34m\u001b[0m\u001b[0;34m\u001b[0m\u001b[0m\n",
            "\u001b[0;32m/usr/local/lib/python3.6/dist-packages/syft/frameworks/torch/tensors/interpreters/additive_shared.py\u001b[0m in \u001b[0;36m_private_mul\u001b[0;34m(self, other, equation)\u001b[0m\n\u001b[1;32m    413\u001b[0m             \u001b[0;32mraise\u001b[0m \u001b[0mAttributeError\u001b[0m\u001b[0;34m(\u001b[0m\u001b[0;34m\"For multiplication a crypto_provider must be passed.\"\u001b[0m\u001b[0;34m)\u001b[0m\u001b[0;34m\u001b[0m\u001b[0;34m\u001b[0m\u001b[0m\n\u001b[1;32m    414\u001b[0m \u001b[0;34m\u001b[0m\u001b[0m\n\u001b[0;32m--> 415\u001b[0;31m         \u001b[0mshares\u001b[0m \u001b[0;34m=\u001b[0m \u001b[0mspdz\u001b[0m\u001b[0;34m.\u001b[0m\u001b[0mspdz_mul\u001b[0m\u001b[0;34m(\u001b[0m\u001b[0mcmd\u001b[0m\u001b[0;34m,\u001b[0m \u001b[0mself\u001b[0m\u001b[0;34m,\u001b[0m \u001b[0mother\u001b[0m\u001b[0;34m,\u001b[0m \u001b[0mself\u001b[0m\u001b[0;34m.\u001b[0m\u001b[0mcrypto_provider\u001b[0m\u001b[0;34m,\u001b[0m \u001b[0mself\u001b[0m\u001b[0;34m.\u001b[0m\u001b[0mfield\u001b[0m\u001b[0;34m)\u001b[0m\u001b[0;34m\u001b[0m\u001b[0;34m\u001b[0m\u001b[0m\n\u001b[0m\u001b[1;32m    416\u001b[0m \u001b[0;34m\u001b[0m\u001b[0m\n\u001b[1;32m    417\u001b[0m         \u001b[0;32mreturn\u001b[0m \u001b[0mshares\u001b[0m\u001b[0;34m\u001b[0m\u001b[0;34m\u001b[0m\u001b[0m\n",
            "\u001b[0;32m/usr/local/lib/python3.6/dist-packages/syft/frameworks/torch/crypto/spdz.py\u001b[0m in \u001b[0;36mspdz_mul\u001b[0;34m(cmd, x_sh, y_sh, crypto_provider, field)\u001b[0m\n\u001b[1;32m     43\u001b[0m         \u001b[0mj\u001b[0m \u001b[0;34m=\u001b[0m \u001b[0msy\u001b[0m\u001b[0;34m.\u001b[0m\u001b[0mMultiPointerTensor\u001b[0m\u001b[0;34m(\u001b[0m\u001b[0mchildren\u001b[0m\u001b[0;34m=\u001b[0m\u001b[0;34m[\u001b[0m\u001b[0mj1\u001b[0m\u001b[0;34m,\u001b[0m \u001b[0mj0\u001b[0m\u001b[0;34m]\u001b[0m\u001b[0;34m)\u001b[0m\u001b[0;34m\u001b[0m\u001b[0;34m\u001b[0m\u001b[0m\n\u001b[1;32m     44\u001b[0m     \u001b[0;32melse\u001b[0m\u001b[0;34m:\u001b[0m\u001b[0;34m\u001b[0m\u001b[0;34m\u001b[0m\u001b[0m\n\u001b[0;32m---> 45\u001b[0;31m         \u001b[0mj\u001b[0m \u001b[0;34m=\u001b[0m \u001b[0msy\u001b[0m\u001b[0;34m.\u001b[0m\u001b[0mMultiPointerTensor\u001b[0m\u001b[0;34m(\u001b[0m\u001b[0mchildren\u001b[0m\u001b[0;34m=\u001b[0m\u001b[0;34m[\u001b[0m\u001b[0mj1\u001b[0m\u001b[0;34m]\u001b[0m \u001b[0;34m+\u001b[0m \u001b[0mj0\u001b[0m\u001b[0;34m.\u001b[0m\u001b[0mchild\u001b[0m\u001b[0;34m.\u001b[0m\u001b[0mvalues\u001b[0m\u001b[0;34m(\u001b[0m\u001b[0;34m)\u001b[0m\u001b[0;34m)\u001b[0m\u001b[0;34m\u001b[0m\u001b[0;34m\u001b[0m\u001b[0m\n\u001b[0m\u001b[1;32m     46\u001b[0m \u001b[0;34m\u001b[0m\u001b[0m\n\u001b[1;32m     47\u001b[0m     \u001b[0mdelta_b\u001b[0m \u001b[0;34m=\u001b[0m \u001b[0mcmd\u001b[0m\u001b[0;34m(\u001b[0m\u001b[0mdelta\u001b[0m\u001b[0;34m,\u001b[0m \u001b[0mb\u001b[0m\u001b[0;34m)\u001b[0m\u001b[0;34m\u001b[0m\u001b[0;34m\u001b[0m\u001b[0m\n",
            "\u001b[0;31mTypeError\u001b[0m: can only concatenate list (not \"dict_values\") to list"
          ]
        }
      ]
    },
    {
      "cell_type": "code",
      "metadata": {
        "id": "_jbRUMnpeRjm",
        "colab_type": "code",
        "colab": {}
      },
      "source": [
        ""
      ],
      "execution_count": 0,
      "outputs": []
    },
    {
      "cell_type": "code",
      "metadata": {
        "id": "p4dmKngMAt5L",
        "colab_type": "code",
        "colab": {}
      },
      "source": [
        "query_matrix.get()"
      ],
      "execution_count": 0,
      "outputs": []
    },
    {
      "cell_type": "code",
      "metadata": {
        "id": "Qmc7YIErToQI",
        "colab_type": "code",
        "colab": {}
      },
      "source": [
        "query_matrix"
      ],
      "execution_count": 0,
      "outputs": []
    },
    {
      "cell_type": "code",
      "metadata": {
        "id": "ux5HTZJ9ToCR",
        "colab_type": "code",
        "colab": {
          "base_uri": "https://localhost:8080/",
          "height": 341
        },
        "outputId": "3ec1fc3f-c9ae-460d-ba7a-ddc439b03876"
      },
      "source": [
        "db = EncryptedDB(alice, bob, secure_worker)\n",
        "\n",
        "db.add_entry(\"key1\", \"value1\")\n",
        "db.add_entry(\"key2\", \"value2\")\n",
        "db.add_entry(\"key3\", \"value3\")\n",
        "db.add_entry(\"key4\", \"value4\")\n",
        "\n",
        "db.query(\"key1\")"
      ],
      "execution_count": 61,
      "outputs": [
        {
          "output_type": "error",
          "ename": "TypeError",
          "evalue": "ignored",
          "traceback": [
            "\u001b[0;31m---------------------------------------------------------------------------\u001b[0m",
            "\u001b[0;31mTypeError\u001b[0m                                 Traceback (most recent call last)",
            "\u001b[0;32m<ipython-input-61-893af51ca1ef>\u001b[0m in \u001b[0;36m<module>\u001b[0;34m()\u001b[0m\n\u001b[1;32m      6\u001b[0m \u001b[0mdb\u001b[0m\u001b[0;34m.\u001b[0m\u001b[0madd_entry\u001b[0m\u001b[0;34m(\u001b[0m\u001b[0;34m\"key4\"\u001b[0m\u001b[0;34m,\u001b[0m \u001b[0;34m\"value4\"\u001b[0m\u001b[0;34m)\u001b[0m\u001b[0;34m\u001b[0m\u001b[0;34m\u001b[0m\u001b[0m\n\u001b[1;32m      7\u001b[0m \u001b[0;34m\u001b[0m\u001b[0m\n\u001b[0;32m----> 8\u001b[0;31m \u001b[0mdb\u001b[0m\u001b[0;34m.\u001b[0m\u001b[0mquery\u001b[0m\u001b[0;34m(\u001b[0m\u001b[0;34m\"key1\"\u001b[0m\u001b[0;34m)\u001b[0m\u001b[0;34m\u001b[0m\u001b[0;34m\u001b[0m\u001b[0m\n\u001b[0m",
            "\u001b[0;32m<ipython-input-28-d817f105e184>\u001b[0m in \u001b[0;36mquery\u001b[0;34m(self, query_str)\u001b[0m\n\u001b[1;32m     28\u001b[0m \u001b[0;34m\u001b[0m\u001b[0m\n\u001b[1;32m     29\u001b[0m         \u001b[0;32mfor\u001b[0m \u001b[0mkey\u001b[0m \u001b[0;32min\u001b[0m \u001b[0mself\u001b[0m\u001b[0;34m.\u001b[0m\u001b[0mkeys\u001b[0m\u001b[0;34m:\u001b[0m\u001b[0;34m\u001b[0m\u001b[0;34m\u001b[0m\u001b[0m\n\u001b[0;32m---> 30\u001b[0;31m             \u001b[0mkey_match\u001b[0m \u001b[0;34m=\u001b[0m \u001b[0mstrings_equal\u001b[0m\u001b[0;34m(\u001b[0m\u001b[0mkey\u001b[0m\u001b[0;34m,\u001b[0m \u001b[0mquery_matrix\u001b[0m\u001b[0;34m)\u001b[0m\u001b[0;34m\u001b[0m\u001b[0;34m\u001b[0m\u001b[0m\n\u001b[0m\u001b[1;32m     31\u001b[0m             \u001b[0mkey_matches\u001b[0m\u001b[0;34m.\u001b[0m\u001b[0mappend\u001b[0m\u001b[0;34m(\u001b[0m\u001b[0mkey_match\u001b[0m\u001b[0;34m)\u001b[0m\u001b[0;34m\u001b[0m\u001b[0;34m\u001b[0m\u001b[0m\n\u001b[1;32m     32\u001b[0m \u001b[0;34m\u001b[0m\u001b[0m\n",
            "\u001b[0;32m<ipython-input-58-47fd02535a25>\u001b[0m in \u001b[0;36mstrings_equal\u001b[0;34m(str_a, str_b)\u001b[0m\n\u001b[1;32m      1\u001b[0m \u001b[0;32mdef\u001b[0m \u001b[0mstrings_equal\u001b[0m\u001b[0;34m(\u001b[0m\u001b[0mstr_a\u001b[0m\u001b[0;34m,\u001b[0m \u001b[0mstr_b\u001b[0m\u001b[0;34m)\u001b[0m\u001b[0;34m:\u001b[0m\u001b[0;34m\u001b[0m\u001b[0;34m\u001b[0m\u001b[0m\n\u001b[1;32m      2\u001b[0m \u001b[0;34m\u001b[0m\u001b[0m\n\u001b[0;32m----> 3\u001b[0;31m     \u001b[0mvect\u001b[0m \u001b[0;34m=\u001b[0m \u001b[0;34m(\u001b[0m\u001b[0mstr_a\u001b[0m \u001b[0;34m*\u001b[0m \u001b[0mstr_b\u001b[0m\u001b[0;34m)\u001b[0m\u001b[0;34m.\u001b[0m\u001b[0msum\u001b[0m\u001b[0;34m(\u001b[0m\u001b[0;36m1\u001b[0m\u001b[0;34m)\u001b[0m\u001b[0;34m\u001b[0m\u001b[0;34m\u001b[0m\u001b[0m\n\u001b[0m\u001b[1;32m      4\u001b[0m \u001b[0;34m\u001b[0m\u001b[0m\n\u001b[1;32m      5\u001b[0m     \u001b[0mx\u001b[0m \u001b[0;34m=\u001b[0m \u001b[0mvect\u001b[0m\u001b[0;34m[\u001b[0m\u001b[0;36m0\u001b[0m\u001b[0;34m]\u001b[0m\u001b[0;34m\u001b[0m\u001b[0;34m\u001b[0m\u001b[0m\n",
            "\u001b[0;32m/usr/local/lib/python3.6/dist-packages/syft/frameworks/torch/hook/hook.py\u001b[0m in \u001b[0;36moverloaded_native_method\u001b[0;34m(self, *args, **kwargs)\u001b[0m\n\u001b[1;32m    691\u001b[0m                 \u001b[0;31m# Send the new command to the appropriate class and get the response\u001b[0m\u001b[0;34m\u001b[0m\u001b[0;34m\u001b[0m\u001b[0;34m\u001b[0m\u001b[0m\n\u001b[1;32m    692\u001b[0m                 \u001b[0mmethod\u001b[0m \u001b[0;34m=\u001b[0m \u001b[0mgetattr\u001b[0m\u001b[0;34m(\u001b[0m\u001b[0mnew_self\u001b[0m\u001b[0;34m,\u001b[0m \u001b[0mmethod_name\u001b[0m\u001b[0;34m)\u001b[0m\u001b[0;34m\u001b[0m\u001b[0;34m\u001b[0m\u001b[0m\n\u001b[0;32m--> 693\u001b[0;31m                 \u001b[0mresponse\u001b[0m \u001b[0;34m=\u001b[0m \u001b[0mmethod\u001b[0m\u001b[0;34m(\u001b[0m\u001b[0;34m*\u001b[0m\u001b[0mnew_args\u001b[0m\u001b[0;34m,\u001b[0m \u001b[0;34m**\u001b[0m\u001b[0mnew_kwargs\u001b[0m\u001b[0;34m)\u001b[0m\u001b[0;34m\u001b[0m\u001b[0;34m\u001b[0m\u001b[0m\n\u001b[0m\u001b[1;32m    694\u001b[0m \u001b[0;34m\u001b[0m\u001b[0m\n\u001b[1;32m    695\u001b[0m                 \u001b[0;31m# For inplace methods, just directly return self\u001b[0m\u001b[0;34m\u001b[0m\u001b[0;34m\u001b[0m\u001b[0;34m\u001b[0m\u001b[0m\n",
            "\u001b[0;32m/usr/local/lib/python3.6/dist-packages/syft/frameworks/torch/tensors/interpreters/additive_shared.py\u001b[0m in \u001b[0;36m__mul__\u001b[0;34m(self, other, **kwargs)\u001b[0m\n\u001b[1;32m    473\u001b[0m \u001b[0;34m\u001b[0m\u001b[0m\n\u001b[1;32m    474\u001b[0m     \u001b[0;32mdef\u001b[0m \u001b[0m__mul__\u001b[0m\u001b[0;34m(\u001b[0m\u001b[0mself\u001b[0m\u001b[0;34m,\u001b[0m \u001b[0mother\u001b[0m\u001b[0;34m,\u001b[0m \u001b[0;34m**\u001b[0m\u001b[0mkwargs\u001b[0m\u001b[0;34m)\u001b[0m\u001b[0;34m:\u001b[0m\u001b[0;34m\u001b[0m\u001b[0;34m\u001b[0m\u001b[0m\n\u001b[0;32m--> 475\u001b[0;31m         \u001b[0;32mreturn\u001b[0m \u001b[0mself\u001b[0m\u001b[0;34m.\u001b[0m\u001b[0mmul\u001b[0m\u001b[0;34m(\u001b[0m\u001b[0mother\u001b[0m\u001b[0;34m,\u001b[0m \u001b[0;34m**\u001b[0m\u001b[0mkwargs\u001b[0m\u001b[0;34m)\u001b[0m\u001b[0;34m\u001b[0m\u001b[0;34m\u001b[0m\u001b[0m\n\u001b[0m\u001b[1;32m    476\u001b[0m \u001b[0;34m\u001b[0m\u001b[0m\n\u001b[1;32m    477\u001b[0m     \u001b[0;32mdef\u001b[0m \u001b[0m__imul__\u001b[0m\u001b[0;34m(\u001b[0m\u001b[0mself\u001b[0m\u001b[0;34m,\u001b[0m \u001b[0mother\u001b[0m\u001b[0;34m)\u001b[0m\u001b[0;34m:\u001b[0m\u001b[0;34m\u001b[0m\u001b[0;34m\u001b[0m\u001b[0m\n",
            "\u001b[0;32m/usr/local/lib/python3.6/dist-packages/syft/frameworks/torch/tensors/interpreters/additive_shared.py\u001b[0m in \u001b[0;36mmul\u001b[0;34m(self, other)\u001b[0m\n\u001b[1;32m    470\u001b[0m             \u001b[0;32mreturn\u001b[0m \u001b[0mself\u001b[0m\u001b[0;34m.\u001b[0m\u001b[0m_public_mul\u001b[0m\u001b[0;34m(\u001b[0m\u001b[0mother\u001b[0m\u001b[0;34m,\u001b[0m \u001b[0;34m\"mul\"\u001b[0m\u001b[0;34m)\u001b[0m\u001b[0;34m\u001b[0m\u001b[0;34m\u001b[0m\u001b[0m\n\u001b[1;32m    471\u001b[0m \u001b[0;34m\u001b[0m\u001b[0m\n\u001b[0;32m--> 472\u001b[0;31m         \u001b[0;32mreturn\u001b[0m \u001b[0mself\u001b[0m\u001b[0;34m.\u001b[0m\u001b[0m_private_mul\u001b[0m\u001b[0;34m(\u001b[0m\u001b[0mother\u001b[0m\u001b[0;34m,\u001b[0m \u001b[0;34m\"mul\"\u001b[0m\u001b[0;34m)\u001b[0m\u001b[0;34m\u001b[0m\u001b[0;34m\u001b[0m\u001b[0m\n\u001b[0m\u001b[1;32m    473\u001b[0m \u001b[0;34m\u001b[0m\u001b[0m\n\u001b[1;32m    474\u001b[0m     \u001b[0;32mdef\u001b[0m \u001b[0m__mul__\u001b[0m\u001b[0;34m(\u001b[0m\u001b[0mself\u001b[0m\u001b[0;34m,\u001b[0m \u001b[0mother\u001b[0m\u001b[0;34m,\u001b[0m \u001b[0;34m**\u001b[0m\u001b[0mkwargs\u001b[0m\u001b[0;34m)\u001b[0m\u001b[0;34m:\u001b[0m\u001b[0;34m\u001b[0m\u001b[0;34m\u001b[0m\u001b[0m\n",
            "\u001b[0;32m/usr/local/lib/python3.6/dist-packages/syft/frameworks/torch/tensors/interpreters/additive_shared.py\u001b[0m in \u001b[0;36m_private_mul\u001b[0;34m(self, other, equation)\u001b[0m\n\u001b[1;32m    413\u001b[0m             \u001b[0;32mraise\u001b[0m \u001b[0mAttributeError\u001b[0m\u001b[0;34m(\u001b[0m\u001b[0;34m\"For multiplication a crypto_provider must be passed.\"\u001b[0m\u001b[0;34m)\u001b[0m\u001b[0;34m\u001b[0m\u001b[0;34m\u001b[0m\u001b[0m\n\u001b[1;32m    414\u001b[0m \u001b[0;34m\u001b[0m\u001b[0m\n\u001b[0;32m--> 415\u001b[0;31m         \u001b[0mshares\u001b[0m \u001b[0;34m=\u001b[0m \u001b[0mspdz\u001b[0m\u001b[0;34m.\u001b[0m\u001b[0mspdz_mul\u001b[0m\u001b[0;34m(\u001b[0m\u001b[0mcmd\u001b[0m\u001b[0;34m,\u001b[0m \u001b[0mself\u001b[0m\u001b[0;34m,\u001b[0m \u001b[0mother\u001b[0m\u001b[0;34m,\u001b[0m \u001b[0mself\u001b[0m\u001b[0;34m.\u001b[0m\u001b[0mcrypto_provider\u001b[0m\u001b[0;34m,\u001b[0m \u001b[0mself\u001b[0m\u001b[0;34m.\u001b[0m\u001b[0mfield\u001b[0m\u001b[0;34m)\u001b[0m\u001b[0;34m\u001b[0m\u001b[0;34m\u001b[0m\u001b[0m\n\u001b[0m\u001b[1;32m    416\u001b[0m \u001b[0;34m\u001b[0m\u001b[0m\n\u001b[1;32m    417\u001b[0m         \u001b[0;32mreturn\u001b[0m \u001b[0mshares\u001b[0m\u001b[0;34m\u001b[0m\u001b[0;34m\u001b[0m\u001b[0m\n",
            "\u001b[0;32m/usr/local/lib/python3.6/dist-packages/syft/frameworks/torch/crypto/spdz.py\u001b[0m in \u001b[0;36mspdz_mul\u001b[0;34m(cmd, x_sh, y_sh, crypto_provider, field)\u001b[0m\n\u001b[1;32m     43\u001b[0m         \u001b[0mj\u001b[0m \u001b[0;34m=\u001b[0m \u001b[0msy\u001b[0m\u001b[0;34m.\u001b[0m\u001b[0mMultiPointerTensor\u001b[0m\u001b[0;34m(\u001b[0m\u001b[0mchildren\u001b[0m\u001b[0;34m=\u001b[0m\u001b[0;34m[\u001b[0m\u001b[0mj1\u001b[0m\u001b[0;34m,\u001b[0m \u001b[0mj0\u001b[0m\u001b[0;34m]\u001b[0m\u001b[0;34m)\u001b[0m\u001b[0;34m\u001b[0m\u001b[0;34m\u001b[0m\u001b[0m\n\u001b[1;32m     44\u001b[0m     \u001b[0;32melse\u001b[0m\u001b[0;34m:\u001b[0m\u001b[0;34m\u001b[0m\u001b[0;34m\u001b[0m\u001b[0m\n\u001b[0;32m---> 45\u001b[0;31m         \u001b[0mj\u001b[0m \u001b[0;34m=\u001b[0m \u001b[0msy\u001b[0m\u001b[0;34m.\u001b[0m\u001b[0mMultiPointerTensor\u001b[0m\u001b[0;34m(\u001b[0m\u001b[0mchildren\u001b[0m\u001b[0;34m=\u001b[0m\u001b[0;34m[\u001b[0m\u001b[0mj1\u001b[0m\u001b[0;34m]\u001b[0m \u001b[0;34m+\u001b[0m \u001b[0mj0\u001b[0m\u001b[0;34m.\u001b[0m\u001b[0mchild\u001b[0m\u001b[0;34m.\u001b[0m\u001b[0mvalues\u001b[0m\u001b[0;34m(\u001b[0m\u001b[0;34m)\u001b[0m\u001b[0;34m)\u001b[0m\u001b[0;34m\u001b[0m\u001b[0;34m\u001b[0m\u001b[0m\n\u001b[0m\u001b[1;32m     46\u001b[0m \u001b[0;34m\u001b[0m\u001b[0m\n\u001b[1;32m     47\u001b[0m     \u001b[0mdelta_b\u001b[0m \u001b[0;34m=\u001b[0m \u001b[0mcmd\u001b[0m\u001b[0;34m(\u001b[0m\u001b[0mdelta\u001b[0m\u001b[0;34m,\u001b[0m \u001b[0mb\u001b[0m\u001b[0;34m)\u001b[0m\u001b[0;34m\u001b[0m\u001b[0;34m\u001b[0m\u001b[0m\n",
            "\u001b[0;31mTypeError\u001b[0m: can only concatenate list (not \"dict_values\") to list"
          ]
        }
      ]
    },
    {
      "cell_type": "code",
      "metadata": {
        "id": "ik06iwlRTn7j",
        "colab_type": "code",
        "colab": {}
      },
      "source": [
        "db = encryptedDB(alice, bob, secure_worker, max_val_len = 256)\n",
        "\n",
        "db.add_entry(\"Bob\", \"123 456 7890\")\n",
        "db.add_entry(\"Bill\", \"234 5678901\")\n",
        "db.add_entry(\"Sam\", \"345 6789012\")\n",
        "db.add_entry(\"key\", \"reallybignumber\")\n",
        "\n",
        "db.query(\"Bob\")"
      ],
      "execution_count": 0,
      "outputs": []
    },
    {
      "cell_type": "code",
      "metadata": {
        "id": "17nru0K6Uvig",
        "colab_type": "code",
        "colab": {}
      },
      "source": [
        ""
      ],
      "execution_count": 0,
      "outputs": []
    },
    {
      "cell_type": "markdown",
      "metadata": {
        "id": "nbTM4WPIGEef",
        "colab_type": "text"
      },
      "source": [
        "# Lesson: Encrypted Deep Learning in PyTorch"
      ]
    },
    {
      "cell_type": "markdown",
      "metadata": {
        "id": "WScAl6EjGEef",
        "colab_type": "text"
      },
      "source": [
        "### Train a Model"
      ]
    },
    {
      "cell_type": "code",
      "metadata": {
        "id": "QPa7dJcMGEef",
        "colab_type": "code",
        "outputId": "516ed45f-8fee-4c47-c913-2cbda12832ac",
        "colab": {
          "base_uri": "https://localhost:8080/",
          "height": 357
        }
      },
      "source": [
        "from torch import nn\n",
        "from torch import optim\n",
        "import torch.nn.functional as F\n",
        "\n",
        "# A Toy Dataset\n",
        "data = th.tensor([[0,0],[0,1],[1,0],[1,1.]], requires_grad=True)\n",
        "target = th.tensor([[0],[0],[1],[1.]], requires_grad=True)\n",
        "\n",
        "class Net(nn.Module):\n",
        "    def __init__(self):\n",
        "        super(Net, self).__init__()\n",
        "        self.fc1 = nn.Linear(2, 20)\n",
        "        self.fc2 = nn.Linear(20, 1)\n",
        "\n",
        "    def forward(self, x):\n",
        "        x = self.fc1(x)\n",
        "        x = F.relu(x)\n",
        "        x = self.fc2(x)\n",
        "        return x\n",
        "\n",
        "# A Toy Model\n",
        "model = Net()\n",
        "\n",
        "def train():\n",
        "    # Training Logic\n",
        "    opt = optim.SGD(params=model.parameters(),lr=0.1)\n",
        "    for iter in range(20):\n",
        "\n",
        "        # 1) erase previous gradients (if they exist)\n",
        "        opt.zero_grad()\n",
        "\n",
        "        # 2) make a prediction\n",
        "        pred = model(data)\n",
        "\n",
        "        # 3) calculate how much we missed\n",
        "        loss = ((pred - target)**2).sum()\n",
        "\n",
        "        # 4) figure out which weights caused us to miss\n",
        "        loss.backward()\n",
        "\n",
        "        # 5) change those weights\n",
        "        opt.step()\n",
        "\n",
        "        # 6) print our progress\n",
        "        print(loss.data)\n",
        "        \n",
        "train()"
      ],
      "execution_count": 6,
      "outputs": [
        {
          "output_type": "stream",
          "text": [
            "tensor(1.7822)\n",
            "tensor(5.1858)\n",
            "tensor(10.0047)\n",
            "tensor(2.2880)\n",
            "tensor(0.8152)\n",
            "tensor(0.7305)\n",
            "tensor(0.6366)\n",
            "tensor(0.5266)\n",
            "tensor(0.4063)\n",
            "tensor(0.2954)\n",
            "tensor(0.2094)\n",
            "tensor(0.1408)\n",
            "tensor(0.0884)\n",
            "tensor(0.0502)\n",
            "tensor(0.0275)\n",
            "tensor(0.0149)\n",
            "tensor(0.0081)\n",
            "tensor(0.0045)\n",
            "tensor(0.0027)\n",
            "tensor(0.0016)\n"
          ],
          "name": "stdout"
        }
      ]
    },
    {
      "cell_type": "code",
      "metadata": {
        "id": "2w7VeDPBGEeh",
        "colab_type": "code",
        "outputId": "3e8b6442-2eb1-4968-9687-3b53359e3a33",
        "colab": {
          "base_uri": "https://localhost:8080/",
          "height": 85
        }
      },
      "source": [
        "model(data)"
      ],
      "execution_count": 7,
      "outputs": [
        {
          "output_type": "execute_result",
          "data": {
            "text/plain": [
              "tensor([[0.0075],\n",
              "        [0.0121],\n",
              "        [1.0137],\n",
              "        [0.9738]], grad_fn=<AddmmBackward>)"
            ]
          },
          "metadata": {
            "tags": []
          },
          "execution_count": 7
        }
      ]
    },
    {
      "cell_type": "markdown",
      "metadata": {
        "id": "uoGLhlF8GEei",
        "colab_type": "text"
      },
      "source": [
        "## Encrypt the Model and Data"
      ]
    },
    {
      "cell_type": "code",
      "metadata": {
        "id": "RhWKWPzTGEei",
        "colab_type": "code",
        "colab": {}
      },
      "source": [
        "encrypted_model = model.fix_precision().share(alice, bob, crypto_provider=secure_worker)"
      ],
      "execution_count": 0,
      "outputs": []
    },
    {
      "cell_type": "code",
      "metadata": {
        "id": "hUiPAu3dGEej",
        "colab_type": "code",
        "outputId": "8d010801-e7d4-4815-c233-3c8d0ea39c27",
        "colab": {
          "base_uri": "https://localhost:8080/",
          "height": 306
        }
      },
      "source": [
        "list(encrypted_model.parameters())"
      ],
      "execution_count": 9,
      "outputs": [
        {
          "output_type": "execute_result",
          "data": {
            "text/plain": [
              "[Parameter containing:\n",
              " Parameter>FixedPrecisionTensor>[AdditiveSharingTensor]\n",
              " \t-> [PointerTensor | me:78660810401 -> alice:64536509682]\n",
              " \t-> [PointerTensor | me:14577888654 -> bob:66245440025]\n",
              " \t*crypto provider: secure_worker*, Parameter containing:\n",
              " Parameter>FixedPrecisionTensor>[AdditiveSharingTensor]\n",
              " \t-> [PointerTensor | me:20929217533 -> alice:84906661957]\n",
              " \t-> [PointerTensor | me:69448199221 -> bob:72464778604]\n",
              " \t*crypto provider: secure_worker*, Parameter containing:\n",
              " Parameter>FixedPrecisionTensor>[AdditiveSharingTensor]\n",
              " \t-> [PointerTensor | me:59838868705 -> alice:38890487302]\n",
              " \t-> [PointerTensor | me:67499482072 -> bob:73362725864]\n",
              " \t*crypto provider: secure_worker*, Parameter containing:\n",
              " Parameter>FixedPrecisionTensor>[AdditiveSharingTensor]\n",
              " \t-> [PointerTensor | me:50546795782 -> alice:76700523469]\n",
              " \t-> [PointerTensor | me:59934129691 -> bob:24676611828]\n",
              " \t*crypto provider: secure_worker*]"
            ]
          },
          "metadata": {
            "tags": []
          },
          "execution_count": 9
        }
      ]
    },
    {
      "cell_type": "code",
      "metadata": {
        "id": "yTXHStNjGEej",
        "colab_type": "code",
        "colab": {}
      },
      "source": [
        "encrypted_data = data.fix_precision().share(alice, bob, crypto_provider=secure_worker)"
      ],
      "execution_count": 0,
      "outputs": []
    },
    {
      "cell_type": "code",
      "metadata": {
        "id": "jcKyNoPOGEek",
        "colab_type": "code",
        "outputId": "bf123484-c89a-49e9-ced9-0f9440738e8f",
        "colab": {
          "base_uri": "https://localhost:8080/",
          "height": 85
        }
      },
      "source": [
        "encrypted_data"
      ],
      "execution_count": 11,
      "outputs": [
        {
          "output_type": "execute_result",
          "data": {
            "text/plain": [
              "(Wrapper)>FixedPrecisionTensor>[AdditiveSharingTensor]\n",
              "\t-> [PointerTensor | me:98583794846 -> alice:74144341692]\n",
              "\t-> [PointerTensor | me:34781820323 -> bob:42823298204]\n",
              "\t*crypto provider: secure_worker*"
            ]
          },
          "metadata": {
            "tags": []
          },
          "execution_count": 11
        }
      ]
    },
    {
      "cell_type": "code",
      "metadata": {
        "id": "r4t-BVbhGEel",
        "colab_type": "code",
        "colab": {}
      },
      "source": [
        "encrypted_prediction = encrypted_model(encrypted_data)"
      ],
      "execution_count": 0,
      "outputs": []
    },
    {
      "cell_type": "code",
      "metadata": {
        "id": "G_3jF7scGEem",
        "colab_type": "code",
        "outputId": "277a935c-6868-4c6d-d54d-ea8ad305e6df",
        "colab": {
          "base_uri": "https://localhost:8080/",
          "height": 85
        }
      },
      "source": [
        "encrypted_prediction.get().float_precision()"
      ],
      "execution_count": 13,
      "outputs": [
        {
          "output_type": "execute_result",
          "data": {
            "text/plain": [
              "tensor([[0.0090],\n",
              "        [0.0120],\n",
              "        [1.0120],\n",
              "        [0.9710]])"
            ]
          },
          "metadata": {
            "tags": []
          },
          "execution_count": 13
        }
      ]
    },
    {
      "cell_type": "markdown",
      "metadata": {
        "id": "6pkxGXlzGEen",
        "colab_type": "text"
      },
      "source": [
        "# Lesson: Encrypted Deep Learning in Keras\n"
      ]
    },
    {
      "cell_type": "markdown",
      "metadata": {
        "id": "OJBDcfqBGEen",
        "colab_type": "text"
      },
      "source": [
        "## Step 1: Public Training\n",
        "\n",
        "Welcome to this tutorial! In the following notebooks you will learn how to provide private predictions. By private predictions, we mean that the data is constantly encrypted throughout the entire process. At no point is the user sharing raw data, only encrypted (that is, secret shared) data. In order to provide these private predictions, Syft Keras uses a library called [TF Encrypted](https://github.com/tf-encrypted/tf-encrypted) under the hood. TF Encrypted combines cutting-edge cryptographic and machine learning techniques, but you don't have to worry about this and can focus on your machine learning application.\n",
        "\n",
        "You can start serving private predictions with only three steps:\n",
        "- **Step 1**: train your model with normal Keras.\n",
        "- **Step 2**: secure and serve your machine learning model (server).\n",
        "- **Step 3**: query the secured model to receive private predictions (client). \n",
        "\n",
        "Alright, let's go through these three steps so you can deploy impactful machine learning services without sacrificing user privacy or model security.\n",
        "\n",
        "Huge shoutout to the Dropout Labs ([@dropoutlabs](https://twitter.com/dropoutlabs)) and TF Encrypted ([@tf_encrypted](https://twitter.com/tf_encrypted)) teams for their great work which makes this demo possible, especially: Jason Mancuso ([@jvmancuso](https://twitter.com/jvmancuso)), Yann Dupis ([@YannDupis](https://twitter.com/YannDupis)), and Morten Dahl ([@mortendahlcs](https://github.com/mortendahlcs)). \n",
        "\n",
        "_Demo Ref: https://github.com/OpenMined/PySyft/tree/dev/examples/tutorials_"
      ]
    },
    {
      "cell_type": "markdown",
      "metadata": {
        "id": "9t0ZLm1-GEen",
        "colab_type": "text"
      },
      "source": [
        "## Train Your Model in Keras\n",
        "\n",
        "To use privacy-preserving machine learning techniques for your projects you should not have to learn a new machine learning framework. If you have basic [Keras](https://keras.io/) knowledge, you can start using these techniques with Syft Keras. If you have never used Keras before, you can learn a bit more about it through the [Keras documentation](https://keras.io). \n",
        "\n",
        "Before serving private predictions, the first step is to train your model with normal Keras. As an example, we will train a model to classify handwritten digits. To train this model we will use the canonical [MNIST dataset](http://yann.lecun.com/exdb/mnist/).\n",
        "\n",
        "We borrow [this example](https://github.com/keras-team/keras/blob/master/examples/mnist_cnn.py) from the reference Keras repository.  To train your classification model, you just run the cell below."
      ]
    },
    {
      "cell_type": "code",
      "metadata": {
        "id": "iIYLlY1CGEeo",
        "colab_type": "code",
        "outputId": "d605e4df-488f-426d-8f1c-9db3e810537e",
        "colab": {
          "base_uri": "https://localhost:8080/",
          "height": 1000
        }
      },
      "source": [
        "from __future__ import print_function\n",
        "import tensorflow.keras as keras\n",
        "from tensorflow.keras.datasets import mnist\n",
        "from tensorflow.keras.models import Sequential\n",
        "from tensorflow.keras.layers import Dense, Dropout, Flatten\n",
        "from tensorflow.keras.layers import Conv2D, AveragePooling2D\n",
        "from tensorflow.keras.layers import Activation\n",
        "\n",
        "batch_size = 128\n",
        "num_classes = 10\n",
        "epochs = 2\n",
        "\n",
        "# input image dimensions\n",
        "img_rows, img_cols = 28, 28\n",
        "\n",
        "# the data, split between train and test sets\n",
        "(x_train, y_train), (x_test, y_test) = mnist.load_data()\n",
        "\n",
        "x_train = x_train.reshape(x_train.shape[0], img_rows, img_cols, 1)\n",
        "x_test = x_test.reshape(x_test.shape[0], img_rows, img_cols, 1)\n",
        "input_shape = (img_rows, img_cols, 1)\n",
        "\n",
        "x_train = x_train.astype('float32')\n",
        "x_test = x_test.astype('float32')\n",
        "x_train /= 255\n",
        "x_test /= 255\n",
        "print('x_train shape:', x_train.shape)\n",
        "print(x_train.shape[0], 'train samples')\n",
        "print(x_test.shape[0], 'test samples')\n",
        "\n",
        "# convert class vectors to binary class matrices\n",
        "y_train = keras.utils.to_categorical(y_train, num_classes)\n",
        "y_test = keras.utils.to_categorical(y_test, num_classes)\n",
        "\n",
        "model = Sequential()\n",
        "\n",
        "model.add(Conv2D(10, (3, 3), input_shape=input_shape))\n",
        "model.add(AveragePooling2D((2, 2)))\n",
        "model.add(Activation('relu'))\n",
        "model.add(Conv2D(32, (3, 3)))\n",
        "model.add(AveragePooling2D((2, 2)))\n",
        "model.add(Activation('relu'))\n",
        "model.add(Conv2D(64, (3, 3)))\n",
        "model.add(AveragePooling2D((2, 2)))\n",
        "model.add(Activation('relu'))\n",
        "model.add(Flatten())\n",
        "model.add(Dense(num_classes, activation='softmax'))\n",
        "\n",
        "model.compile(loss=keras.losses.categorical_crossentropy,\n",
        "              optimizer=keras.optimizers.Adadelta(),\n",
        "              metrics=['accuracy'])\n",
        "\n",
        "model.fit(x_train, y_train,\n",
        "          batch_size=batch_size,\n",
        "          epochs=epochs,\n",
        "          verbose=1,\n",
        "          validation_data=(x_test, y_test))\n",
        "score = model.evaluate(x_test, y_test, verbose=0)\n",
        "print('Test loss:', score[0])\n",
        "print('Test accuracy:', score[1])"
      ],
      "execution_count": 63,
      "outputs": [
        {
          "output_type": "stream",
          "text": [
            "Downloading data from https://storage.googleapis.com/tensorflow/tf-keras-datasets/mnist.npz\n",
            "11493376/11490434 [==============================] - 0s 0us/step\n"
          ],
          "name": "stdout"
        },
        {
          "output_type": "stream",
          "text": [
            "W0828 05:43:03.273285 140219225651072 deprecation.py:506] From /usr/local/lib/python3.6/dist-packages/tensorflow/python/ops/init_ops.py:1251: calling VarianceScaling.__init__ (from tensorflow.python.ops.init_ops) with dtype is deprecated and will be removed in a future version.\n",
            "Instructions for updating:\n",
            "Call initializer instance with the dtype argument instead of passing it to the constructor\n"
          ],
          "name": "stderr"
        },
        {
          "output_type": "stream",
          "text": [
            "x_train shape: (60000, 28, 28, 1)\n",
            "60000 train samples\n",
            "10000 test samples\n",
            "Train on 60000 samples, validate on 10000 samples\n",
            "Epoch 1/2\n",
            "60000/60000 [==============================] - 16s 273us/sample - loss: 2.2963 - acc: 0.1557 - val_loss: 2.2955 - val_acc: 0.1611\n",
            "Epoch 2/2\n",
            "60000/60000 [==============================] - 16s 268us/sample - loss: 2.2941 - acc: 0.1676 - val_loss: 2.2933 - val_acc: 0.1768\n",
            "Test loss: 2.2932822425842283\n",
            "Test accuracy: 0.1768\n"
          ],
          "name": "stdout"
        }
      ]
    },
    {
      "cell_type": "code",
      "metadata": {
        "id": "eKb1cUEfGEep",
        "colab_type": "code",
        "colab": {}
      },
      "source": [
        "## Save your model's weights for future private prediction\n",
        "model.save('short-conv-mnist.h5')"
      ],
      "execution_count": 0,
      "outputs": []
    },
    {
      "cell_type": "markdown",
      "metadata": {
        "id": "8vsFzG4FGEep",
        "colab_type": "text"
      },
      "source": [
        "## Step 2: Load and Serve the Model"
      ]
    },
    {
      "cell_type": "markdown",
      "metadata": {
        "id": "muahK-grGEeq",
        "colab_type": "text"
      },
      "source": [
        "Now that you have a trained model with normal Keras, you are ready to serve some private predictions. We can do that using Syft Keras.\n",
        "\n",
        "To secure and serve this model, we will need three TFEWorkers (servers). This is because TF Encrypted under the hood uses an encryption technique called [multi-party computation (MPC)](https://en.wikipedia.org/wiki/Secure_multi-party_computation). The idea is to split the model weights and input data into shares, then send a share of each value to the different servers. The key property is that if you look at the share on one server, it reveals nothing about the original value (input data or model weights).\n",
        "\n",
        "We'll define a Syft Keras model like we did in the previous notebook. However, there is a trick: before instantiating this model, we'll run `hook = sy.KerasHook(tf.keras)`. This will add three important new methods to the Keras Sequential class:\n",
        " - `share`: will secure your model via secret sharing; by default, it will use the SecureNN protocol from TF Encrypted to secret share your model between each of the three TFEWorkers. Most importantly, this will add the capability of providing predictions on encrypted data.\n",
        " - `serve`: this function will launch a serving queue, so that the TFEWorkers can can accept prediction requests on the secured model from external clients.\n",
        " - `shutdown_workers`: once you are done providing private predictions, you can shut down your model by running this function. It will direct you to shutdown the server processes manually if you've opted to manually manage each worker.\n",
        "\n",
        "If you want learn more about MPC, you can read this excellent [blog](https://mortendahl.github.io/2017/04/17/private-deep-learning-with-mpc/)."
      ]
    },
    {
      "cell_type": "code",
      "metadata": {
        "id": "nCR21vt-GEer",
        "colab_type": "code",
        "colab": {}
      },
      "source": [
        "import numpy as np\n",
        "import tensorflow as tf\n",
        "from tensorflow.keras import Sequential\n",
        "from tensorflow.keras.layers import AveragePooling2D, Conv2D, Dense, Activation, Flatten, ReLU, Activation\n",
        "\n",
        "import syft as sy\n",
        "hook = sy.KerasHook(tf.keras)"
      ],
      "execution_count": 0,
      "outputs": []
    },
    {
      "cell_type": "markdown",
      "metadata": {
        "id": "DGYMU7P5GEer",
        "colab_type": "text"
      },
      "source": [
        "## Model\n",
        "\n",
        "As you can see, we define almost the exact same model as before, except we provide a `batch_input_shape`. This allows TF Encrypted to better optimize the secure computations via predefined tensor shapes. For this MNIST demo, we'll send input data with the shape of (1, 28, 28, 1). \n",
        "We also return the logit instead of softmax because this operation is complex to perform using MPC, and we don't need it to serve prediction requests."
      ]
    },
    {
      "cell_type": "code",
      "metadata": {
        "id": "iDG5Ki18GEes",
        "colab_type": "code",
        "colab": {}
      },
      "source": [
        "num_classes = 10\n",
        "input_shape = (1, 28, 28, 1)\n",
        "\n",
        "model = Sequential()\n",
        "\n",
        "model.add(Conv2D(10, (3, 3), batch_input_shape=input_shape))\n",
        "model.add(AveragePooling2D((2, 2)))\n",
        "model.add(Activation('relu'))\n",
        "model.add(Conv2D(32, (3, 3)))\n",
        "model.add(AveragePooling2D((2, 2)))\n",
        "model.add(Activation('relu'))\n",
        "model.add(Conv2D(64, (3, 3)))\n",
        "model.add(AveragePooling2D((2, 2)))\n",
        "model.add(Activation('relu'))\n",
        "model.add(Flatten())\n",
        "model.add(Dense(num_classes, name=\"logit\"))"
      ],
      "execution_count": 0,
      "outputs": []
    },
    {
      "cell_type": "markdown",
      "metadata": {
        "id": "r990_UyHGEeu",
        "colab_type": "text"
      },
      "source": [
        "### Load Pre-trained Weights\n",
        "\n",
        "With `load_weights` you can easily load the weights you have saved previously after training your model."
      ]
    },
    {
      "cell_type": "code",
      "metadata": {
        "id": "ax6tMd_YGEev",
        "colab_type": "code",
        "colab": {}
      },
      "source": [
        "pre_trained_weights = 'short-conv-mnist.h5'\n",
        "model.load_weights(pre_trained_weights)"
      ],
      "execution_count": 0,
      "outputs": []
    },
    {
      "cell_type": "code",
      "metadata": {
        "id": "Mpc-iRJpx1Ou",
        "colab_type": "code",
        "colab": {
          "base_uri": "https://localhost:8080/",
          "height": 1000
        },
        "outputId": "45d9af7e-4a62-4f22-c9ee-d3ddcedfa2cd"
      },
      "source": [
        "model.get_weights()"
      ],
      "execution_count": 75,
      "outputs": [
        {
          "output_type": "execute_result",
          "data": {
            "text/plain": [
              "[array([[[[ 0.16997302, -0.10012788, -0.09848329, -0.03805543,\n",
              "           -0.19417301,  0.01555248,  0.12617949,  0.1034378 ,\n",
              "           -0.07891086,  0.08319005]],\n",
              " \n",
              "         [[ 0.24361071,  0.04355459, -0.15437351, -0.0987631 ,\n",
              "           -0.05243522,  0.00425353, -0.09183071,  0.23973224,\n",
              "           -0.03722627,  0.05644536]],\n",
              " \n",
              "         [[ 0.19689958,  0.0172959 , -0.19439825,  0.12220646,\n",
              "           -0.21460335,  0.09588958,  0.1850097 , -0.02728491,\n",
              "           -0.01690078, -0.10095969]]],\n",
              " \n",
              " \n",
              "        [[[ 0.05659029,  0.09996666, -0.05483504,  0.1701781 ,\n",
              "           -0.13527001, -0.22588173, -0.02346605, -0.06620691,\n",
              "           -0.24597694,  0.16999246]],\n",
              " \n",
              "         [[ 0.12709324, -0.17099898,  0.09971355, -0.00117887,\n",
              "            0.18674321,  0.21778885, -0.15076643, -0.0798    ,\n",
              "            0.00701547, -0.10441826]],\n",
              " \n",
              "         [[ 0.03391118, -0.09952132,  0.03539088, -0.05995476,\n",
              "           -0.21305685,  0.09052165, -0.08462845,  0.02852991,\n",
              "            0.08288939,  0.08620854]]],\n",
              " \n",
              " \n",
              "        [[[-0.21520321, -0.09628075,  0.19981687,  0.2403821 ,\n",
              "           -0.12412055, -0.1624045 ,  0.21080424,  0.00686687,\n",
              "            0.17427109,  0.0773548 ]],\n",
              " \n",
              "         [[ 0.12330066,  0.01622418,  0.16147994,  0.00239555,\n",
              "            0.0265277 ,  0.21089232,  0.00813481,  0.10525718,\n",
              "           -0.16750446,  0.05048357]],\n",
              " \n",
              "         [[ 0.22710179,  0.21462327,  0.10594807, -0.05400758,\n",
              "            0.17355846,  0.00309086, -0.14111364, -0.03309286,\n",
              "            0.05764607, -0.15817706]]]], dtype=float32),\n",
              " array([ 3.6441804e-06,  1.6162975e-04,  8.0088450e-04, -4.4692319e-04,\n",
              "         1.5233286e-03,  1.1093182e-05, -8.1668145e-07,  8.0310769e-05,\n",
              "        -5.7481202e-07, -5.2431726e-04], dtype=float32),\n",
              " array([[[[ 0.05610633, -0.07233102,  0.06399912, ...,  0.08735123,\n",
              "            0.02367865, -0.05611143],\n",
              "          [ 0.01906898, -0.06315616, -0.05965962, ...,  0.04491178,\n",
              "            0.06270546,  0.11832546],\n",
              "          [-0.04041846,  0.08526489, -0.10827737, ..., -0.08551957,\n",
              "           -0.04144332,  0.02727963],\n",
              "          ...,\n",
              "          [-0.01667422, -0.09271889, -0.09057073, ..., -0.02125323,\n",
              "           -0.02629361,  0.11933053],\n",
              "          [-0.00054681, -0.04769586, -0.01926122, ...,  0.11049547,\n",
              "           -0.05566057,  0.00054075],\n",
              "          [-0.08965214,  0.11547023,  0.07026163, ..., -0.01138107,\n",
              "           -0.09636976, -0.12300585]],\n",
              " \n",
              "         [[-0.08467603,  0.00340959, -0.10139012, ...,  0.07886892,\n",
              "            0.09127628, -0.11037704],\n",
              "          [ 0.05638097,  0.09903921, -0.03128434, ..., -0.11518562,\n",
              "            0.07001624,  0.03937474],\n",
              "          [ 0.11859043,  0.00073885, -0.07061405, ..., -0.04165852,\n",
              "           -0.0679554 ,  0.0847596 ],\n",
              "          ...,\n",
              "          [ 0.06972758, -0.06582507,  0.02014453, ...,  0.11522868,\n",
              "            0.10235497,  0.11483499],\n",
              "          [ 0.05740812,  0.08254849,  0.09536947, ..., -0.02514836,\n",
              "            0.05395802, -0.02298751],\n",
              "          [-0.11943424, -0.07344583, -0.03612642, ...,  0.12412674,\n",
              "           -0.02252492, -0.02606426]],\n",
              " \n",
              "         [[ 0.06295204,  0.08051307, -0.03943085, ...,  0.1211387 ,\n",
              "            0.06893303,  0.07728268],\n",
              "          [-0.07391881,  0.03071825,  0.08311985, ...,  0.10264797,\n",
              "           -0.11940887,  0.01108315],\n",
              "          [-0.10025848,  0.00160551, -0.10979354, ..., -0.02463046,\n",
              "           -0.08638381, -0.11538801],\n",
              "          ...,\n",
              "          [-0.12474743,  0.0816626 ,  0.0256683 , ...,  0.01374948,\n",
              "            0.10053976,  0.08453043],\n",
              "          [-0.12471914,  0.09695215,  0.10072298, ...,  0.09826259,\n",
              "           -0.08372181,  0.04100763],\n",
              "          [ 0.04513193, -0.07240266, -0.06836636, ...,  0.1016114 ,\n",
              "            0.10689101, -0.01836782]]],\n",
              " \n",
              " \n",
              "        [[[ 0.06572512, -0.08617954,  0.07211936, ..., -0.08473489,\n",
              "            0.06259323,  0.02659707],\n",
              "          [-0.09644862, -0.04689974,  0.01166141, ...,  0.07252368,\n",
              "           -0.08023013, -0.02558521],\n",
              "          [ 0.03988218, -0.10355086, -0.02105199, ..., -0.10806592,\n",
              "            0.00795903,  0.0832882 ],\n",
              "          ...,\n",
              "          [-0.00337553, -0.02970296,  0.09973085, ..., -0.08638252,\n",
              "           -0.07690454, -0.01852666],\n",
              "          [ 0.04022124, -0.00932271, -0.08186565, ...,  0.10545075,\n",
              "            0.12311564,  0.08465259],\n",
              "          [-0.08400676, -0.06857305, -0.1241738 , ...,  0.07056003,\n",
              "           -0.09140009, -0.02317166]],\n",
              " \n",
              "         [[ 0.11552001, -0.04354202,  0.10696239, ..., -0.07270326,\n",
              "           -0.01576795, -0.01843287],\n",
              "          [-0.05823958,  0.10202279,  0.00186166, ...,  0.08174612,\n",
              "           -0.04993512, -0.10430416],\n",
              "          [-0.12594073,  0.0312875 ,  0.08350532, ...,  0.11981275,\n",
              "           -0.06582053,  0.06005549],\n",
              "          ...,\n",
              "          [ 0.05964785,  0.0445996 , -0.0369122 , ..., -0.12137076,\n",
              "           -0.08849966,  0.06877806],\n",
              "          [-0.04261323, -0.0304109 ,  0.05140108, ...,  0.07536934,\n",
              "           -0.04670272,  0.04907559],\n",
              "          [ 0.01898694, -0.01970053, -0.11836654, ..., -0.08673812,\n",
              "           -0.02801231,  0.07063969]],\n",
              " \n",
              "         [[-0.04458487, -0.08283568,  0.07360017, ..., -0.03861796,\n",
              "           -0.08942737,  0.06305992],\n",
              "          [-0.08169802,  0.11675102, -0.06268237, ..., -0.10552341,\n",
              "            0.02307065,  0.08761347],\n",
              "          [-0.03974218,  0.00493563,  0.09657777, ...,  0.04138554,\n",
              "            0.05504703,  0.01805248],\n",
              "          ...,\n",
              "          [-0.03254022, -0.08438963,  0.06954069, ..., -0.11481411,\n",
              "            0.08942416,  0.00771901],\n",
              "          [-0.04952586, -0.08779933, -0.0995276 , ...,  0.09376257,\n",
              "            0.00789449, -0.07807563],\n",
              "          [ 0.02301057,  0.03043178, -0.04748224, ..., -0.0798461 ,\n",
              "           -0.11431473, -0.10645036]]],\n",
              " \n",
              " \n",
              "        [[[-0.1137448 , -0.01981666, -0.03154367, ..., -0.07440621,\n",
              "            0.09149641, -0.03544435],\n",
              "          [-0.10662021, -0.0613274 ,  0.05914013, ...,  0.07987252,\n",
              "            0.04277162, -0.09062957],\n",
              "          [-0.1149443 ,  0.09392212, -0.06194062, ..., -0.06845485,\n",
              "           -0.08133607,  0.12244622],\n",
              "          ...,\n",
              "          [-0.01703794,  0.09626205, -0.02098521, ...,  0.07508766,\n",
              "            0.03313043, -0.01129488],\n",
              "          [-0.06231223,  0.03492152, -0.03208327, ...,  0.07945479,\n",
              "           -0.02750854, -0.11494469],\n",
              "          [ 0.04266876,  0.06033725,  0.09971116, ..., -0.01513071,\n",
              "            0.11192118,  0.06108735]],\n",
              " \n",
              "         [[ 0.1054995 ,  0.08323837,  0.07813504, ...,  0.07073931,\n",
              "            0.07628299, -0.02114182],\n",
              "          [ 0.10409293, -0.08357237, -0.04419585, ...,  0.02433347,\n",
              "           -0.10413584, -0.04967791],\n",
              "          [ 0.02049271,  0.07122108, -0.02351023, ..., -0.05579052,\n",
              "           -0.09259062,  0.10066782],\n",
              "          ...,\n",
              "          [ 0.04169845,  0.08736275,  0.09024321, ...,  0.01132546,\n",
              "           -0.04409403,  0.05131826],\n",
              "          [ 0.00891733, -0.04131166, -0.03102741, ...,  0.0581904 ,\n",
              "           -0.07329514,  0.12492082],\n",
              "          [ 0.11308869,  0.06102236,  0.00603896, ...,  0.0522471 ,\n",
              "            0.09952065,  0.05483646]],\n",
              " \n",
              "         [[ 0.05480384,  0.01876892, -0.00144336, ...,  0.09512408,\n",
              "           -0.07962745, -0.05085404],\n",
              "          [-0.10394401, -0.10304113,  0.06579165, ...,  0.10916334,\n",
              "           -0.08443366, -0.11917892],\n",
              "          [-0.0018906 ,  0.01748967, -0.0637954 , ...,  0.04933296,\n",
              "            0.1166875 , -0.01243008],\n",
              "          ...,\n",
              "          [ 0.1167574 ,  0.09992284,  0.11699138, ...,  0.06070682,\n",
              "           -0.03997984, -0.11877689],\n",
              "          [-0.06116375, -0.11173694, -0.12075447, ..., -0.04989415,\n",
              "           -0.10233548, -0.10735749],\n",
              "          [ 0.12367544,  0.07662403,  0.02552429, ...,  0.11334886,\n",
              "           -0.11976051,  0.0957498 ]]]], dtype=float32),\n",
              " array([-8.9155731e-04,  8.2913064e-04, -4.4273031e-05, -2.7004245e-04,\n",
              "         1.6713045e-04,  5.5599702e-04,  5.7206157e-04,  7.2150188e-04,\n",
              "         9.5726449e-05, -2.9743751e-04,  6.4421963e-04, -9.0810686e-04,\n",
              "         3.7271876e-04,  9.4313978e-04,  5.8066630e-04,  3.5777953e-04,\n",
              "         1.5951886e-03, -1.0920833e-03, -1.1102315e-03,  2.6948308e-04,\n",
              "         1.4705383e-04, -1.9992584e-04,  2.0428770e-04, -9.8368480e-05,\n",
              "         2.8551806e-04,  1.5000006e-03, -5.6393037e-04,  1.2791839e-03,\n",
              "        -1.5671461e-04, -1.3744790e-04,  2.6680378e-04, -4.9206341e-04],\n",
              "       dtype=float32),\n",
              " array([[[[ 0.02181293, -0.05655972,  0.0725643 , ...,  0.02338332,\n",
              "           -0.06202907,  0.06176104],\n",
              "          [-0.02771966,  0.00039382, -0.04186375, ..., -0.07550582,\n",
              "           -0.04103116, -0.00087258],\n",
              "          [-0.05247423,  0.04312843, -0.03820218, ..., -0.03505574,\n",
              "           -0.04416268,  0.01920075],\n",
              "          ...,\n",
              "          [ 0.02585565,  0.04989232, -0.02337857, ...,  0.06579027,\n",
              "            0.03444465, -0.07868794],\n",
              "          [-0.01807996,  0.04049695,  0.02809913, ...,  0.04713028,\n",
              "           -0.04778549, -0.05940323],\n",
              "          [ 0.01558723,  0.03438836,  0.02245483, ...,  0.06485599,\n",
              "            0.0303277 , -0.07174437]],\n",
              " \n",
              "         [[ 0.0030962 , -0.03815921, -0.01772149, ..., -0.00353058,\n",
              "           -0.0008207 , -0.06280348],\n",
              "          [-0.03081415,  0.08094421, -0.00377332, ..., -0.04678701,\n",
              "            0.02263785,  0.03398127],\n",
              "          [ 0.04206131,  0.04936629,  0.06972903, ...,  0.07255696,\n",
              "            0.04355809, -0.01487308],\n",
              "          ...,\n",
              "          [-0.04763051, -0.01821683, -0.02318062, ...,  0.07022666,\n",
              "           -0.04526705, -0.05068016],\n",
              "          [ 0.04382958,  0.02700487, -0.05488875, ...,  0.03789537,\n",
              "            0.0239906 , -0.06648497],\n",
              "          [ 0.01677716,  0.00874302,  0.00880773, ...,  0.01933711,\n",
              "            0.02672745,  0.05105256]],\n",
              " \n",
              "         [[-0.01251515, -0.04469156, -0.03041147, ..., -0.00744151,\n",
              "           -0.0207742 ,  0.07459779],\n",
              "          [-0.0067327 ,  0.00224947,  0.03822383, ..., -0.04444824,\n",
              "            0.06755158, -0.0512901 ],\n",
              "          [-0.01032094, -0.00078721, -0.02759639, ..., -0.04797286,\n",
              "            0.01872151, -0.06934492],\n",
              "          ...,\n",
              "          [-0.06978699, -0.05698535,  0.0723325 , ...,  0.04402306,\n",
              "            0.02479012, -0.0392856 ],\n",
              "          [-0.03696262,  0.0608987 ,  0.03534922, ...,  0.0585729 ,\n",
              "            0.05688358,  0.06756925],\n",
              "          [ 0.07100811, -0.05995304, -0.0791645 , ...,  0.00732037,\n",
              "            0.02406453, -0.07898766]]],\n",
              " \n",
              " \n",
              "        [[[ 0.03908782,  0.01330883,  0.00712737, ..., -0.02485109,\n",
              "           -0.00011467,  0.04639348],\n",
              "          [-0.02376614,  0.03899664,  0.07824257, ..., -0.0289688 ,\n",
              "           -0.04898855, -0.04094855],\n",
              "          [ 0.06624832,  0.03255228, -0.07250722, ...,  0.05440708,\n",
              "           -0.06327398, -0.04357627],\n",
              "          ...,\n",
              "          [ 0.00420261, -0.03878144, -0.06346501, ..., -0.07854464,\n",
              "           -0.06919206,  0.05210894],\n",
              "          [ 0.025536  ,  0.05191684, -0.07852299, ...,  0.06470224,\n",
              "           -0.04381787,  0.04146414],\n",
              "          [-0.08079909, -0.02609497, -0.06541243, ..., -0.05685083,\n",
              "           -0.06502157, -0.04890556]],\n",
              " \n",
              "         [[ 0.03042248, -0.03279458,  0.05464548, ..., -0.00540488,\n",
              "            0.0487572 ,  0.02151723],\n",
              "          [-0.07417914,  0.06652512,  0.03482978, ..., -0.03068366,\n",
              "           -0.0183367 ,  0.04791218],\n",
              "          [-0.07474478, -0.03015069, -0.00237844, ...,  0.03274314,\n",
              "            0.00183183,  0.01981277],\n",
              "          ...,\n",
              "          [-0.03739463, -0.06837354, -0.00598006, ...,  0.04380768,\n",
              "           -0.01264526, -0.08043629],\n",
              "          [-0.04564692, -0.0687458 ,  0.01154644, ...,  0.04144029,\n",
              "           -0.02478248, -0.03034872],\n",
              "          [ 0.07025576,  0.07637262,  0.01221162, ..., -0.07304113,\n",
              "            0.06128614, -0.04782682]],\n",
              " \n",
              "         [[ 0.05773567,  0.02074659,  0.01351892, ...,  0.04415067,\n",
              "           -0.01633655,  0.00319316],\n",
              "          [-0.0084317 ,  0.07536466,  0.02093632, ...,  0.0375129 ,\n",
              "            0.06362998,  0.07149594],\n",
              "          [-0.04510721, -0.05690895,  0.04444857, ..., -0.01431567,\n",
              "           -0.05222143, -0.02495185],\n",
              "          ...,\n",
              "          [ 0.02677026,  0.00526534, -0.06097291, ...,  0.01729657,\n",
              "            0.0684991 ,  0.0583682 ],\n",
              "          [ 0.07243787, -0.08206958,  0.07840341, ...,  0.08051015,\n",
              "            0.03092715, -0.05328282],\n",
              "          [-0.02415866,  0.03249646, -0.07462188, ...,  0.01960783,\n",
              "           -0.08097297, -0.03080404]]],\n",
              " \n",
              " \n",
              "        [[[ 0.02867571, -0.00858712, -0.01511538, ..., -0.07321038,\n",
              "           -0.03110811, -0.04371733],\n",
              "          [ 0.04311837,  0.02413668, -0.04594823, ..., -0.03823455,\n",
              "           -0.08084129,  0.05731603],\n",
              "          [-0.01769819,  0.0807627 , -0.00043801, ..., -0.06634267,\n",
              "           -0.05436592,  0.00205252],\n",
              "          ...,\n",
              "          [-0.02182635, -0.06056911, -0.07054447, ..., -0.00262635,\n",
              "           -0.06157492,  0.05726877],\n",
              "          [-0.05176121,  0.02348934, -0.04645099, ..., -0.01057353,\n",
              "            0.05632353,  0.02721103],\n",
              "          [ 0.06604242,  0.06541765, -0.08023512, ..., -0.00578918,\n",
              "           -0.02997649,  0.01384763]],\n",
              " \n",
              "         [[ 0.01871362,  0.03990172,  0.04444551, ..., -0.01085957,\n",
              "            0.06856636, -0.01759704],\n",
              "          [-0.02668148,  0.00489349,  0.03948683, ...,  0.01209344,\n",
              "           -0.05369002,  0.06911781],\n",
              "          [ 0.05667214,  0.08155923, -0.05593843, ...,  0.04183102,\n",
              "           -0.01368357,  0.07542911],\n",
              "          ...,\n",
              "          [ 0.05677486,  0.04493191, -0.06742798, ..., -0.02812052,\n",
              "            0.07087296,  0.05494432],\n",
              "          [-0.01759601, -0.04362554,  0.06142006, ...,  0.07804666,\n",
              "           -0.00942771, -0.07690154],\n",
              "          [-0.04577613, -0.07969417,  0.0108283 , ...,  0.06620719,\n",
              "            0.05921336, -0.04170935]],\n",
              " \n",
              "         [[ 0.02083324,  0.07338239, -0.03859024, ...,  0.01985192,\n",
              "            0.00899164, -0.07590469],\n",
              "          [-0.05582596, -0.01695551,  0.04809073, ..., -0.07410226,\n",
              "            0.01190592,  0.07204629],\n",
              "          [ 0.02442547, -0.08100766, -0.04717118, ..., -0.07398041,\n",
              "            0.02791878,  0.06448442],\n",
              "          ...,\n",
              "          [-0.02659744,  0.03562663, -0.00563819, ...,  0.03266786,\n",
              "            0.04804145, -0.01742419],\n",
              "          [-0.08251613,  0.04808779, -0.07406086, ..., -0.04693258,\n",
              "            0.07513016,  0.01077012],\n",
              "          [ 0.07668939,  0.01544449, -0.08192285, ...,  0.05872524,\n",
              "            0.05998914,  0.02578974]]]], dtype=float32),\n",
              " array([-2.4856583e-04,  9.1796083e-04,  5.3532328e-04,  9.4758120e-04,\n",
              "         0.0000000e+00,  3.2386481e-05, -3.1036930e-06, -5.8368716e-04,\n",
              "        -1.2054656e-04,  0.0000000e+00,  0.0000000e+00, -8.6174579e-05,\n",
              "        -5.6012138e-04,  1.2214120e-03,  1.2060815e-03, -4.7804137e-05,\n",
              "         1.1256846e-03,  5.4365344e-04, -3.3811352e-04,  2.2080600e-04,\n",
              "         4.1602220e-04,  9.2280260e-07,  2.0174568e-03, -3.3139528e-04,\n",
              "        -2.1677696e-04,  4.4243137e-04,  9.4643841e-04, -7.7554066e-04,\n",
              "         0.0000000e+00,  0.0000000e+00, -1.5336253e-04,  1.5425645e-03,\n",
              "         9.1059599e-04,  6.7154542e-05, -1.0625802e-04,  0.0000000e+00,\n",
              "        -7.7472586e-04,  1.0009418e-04, -2.5163247e-04, -7.7975105e-04,\n",
              "         2.3295493e-04, -9.5661462e-06,  9.2411134e-04, -4.2766471e-05,\n",
              "        -2.5711660e-04, -3.1011496e-04,  2.6463198e-05,  9.0270606e-04,\n",
              "        -2.0189398e-04,  5.8655639e-04, -3.3689477e-05, -2.4336456e-05,\n",
              "         0.0000000e+00,  2.9585973e-04,  0.0000000e+00,  4.6818328e-04,\n",
              "         3.6094880e-05,  7.2643867e-05,  3.7131942e-04,  7.8147702e-04,\n",
              "        -8.8185741e-04, -1.3881334e-04, -1.3536679e-04,  6.5506436e-04],\n",
              "       dtype=float32),\n",
              " array([[-2.77805567e-01, -2.04848424e-01,  2.32690811e-01,\n",
              "         -3.20976749e-02, -1.28884166e-01,  1.28334075e-01,\n",
              "          1.89781681e-01,  8.60625971e-03,  2.36339048e-02,\n",
              "          1.40384912e-01],\n",
              "        [-1.93924144e-01, -8.29651430e-02, -2.64134198e-01,\n",
              "          1.72472745e-02,  7.64411241e-02,  1.12676300e-01,\n",
              "         -7.55221173e-02,  1.65330097e-01, -4.60867025e-02,\n",
              "          4.10742164e-02],\n",
              "        [-2.37634927e-01,  4.22806405e-02, -1.73845902e-01,\n",
              "         -2.77380973e-01, -2.36404419e-01,  2.54578441e-01,\n",
              "          1.17105685e-01,  5.35733439e-02,  2.33506963e-01,\n",
              "         -2.36179084e-01],\n",
              "        [-2.36917555e-01,  9.12418291e-02,  8.31818059e-02,\n",
              "          7.54794925e-02,  1.18709952e-02,  4.02313694e-02,\n",
              "         -1.82944730e-01, -2.47103706e-01, -2.57091492e-01,\n",
              "         -2.34553516e-01],\n",
              "        [ 1.04280323e-01,  1.74574554e-01,  4.89398837e-02,\n",
              "         -5.93312383e-02,  1.99041992e-01,  4.92604971e-02,\n",
              "          6.30818307e-02, -2.39023834e-01,  2.04669595e-01,\n",
              "          2.55381763e-02],\n",
              "        [-9.57934707e-02,  2.37038970e-01,  1.69847684e-04,\n",
              "          1.85807064e-01, -2.55674928e-01,  2.60324568e-01,\n",
              "         -5.14557175e-02, -1.33850515e-01, -2.27977723e-01,\n",
              "          1.59488142e-01],\n",
              "        [-1.15261085e-01, -1.16149649e-01, -5.50464243e-02,\n",
              "          1.05606526e-01,  1.08577579e-01,  2.95632463e-02,\n",
              "          2.54178137e-01, -7.05745518e-02,  1.69598699e-01,\n",
              "         -2.48592660e-01],\n",
              "        [ 1.60264775e-01, -1.52207345e-01, -2.49827355e-01,\n",
              "         -1.21677294e-01,  2.74255592e-03,  2.38949820e-01,\n",
              "          1.80177853e-01,  2.30253220e-01,  2.16931343e-01,\n",
              "          2.02840254e-01],\n",
              "        [ 2.55590845e-02,  8.74036551e-02, -1.80134386e-01,\n",
              "          1.17847964e-03,  2.64951974e-01,  2.41079569e-01,\n",
              "         -2.66797870e-01,  2.17056587e-01, -1.90003648e-01,\n",
              "          2.59098094e-02],\n",
              "        [ 1.02245808e-02, -1.35093927e-02,  8.55208039e-02,\n",
              "          8.88305306e-02, -1.76435545e-01, -9.26529616e-02,\n",
              "          1.04272068e-02,  9.58503485e-02,  2.41699070e-01,\n",
              "          2.40804404e-01],\n",
              "        [ 1.40950412e-01,  2.82686502e-01,  1.13507807e-01,\n",
              "         -1.21400729e-01, -1.80427626e-01, -2.06652150e-01,\n",
              "          2.41128713e-01,  4.07012701e-02, -1.91012621e-02,\n",
              "         -8.89673829e-03],\n",
              "        [ 2.83710301e-01, -2.63021410e-01,  8.39666501e-02,\n",
              "          2.13239580e-01, -2.78899550e-01, -4.66105156e-02,\n",
              "          1.39221087e-01,  5.37217259e-02,  3.24592437e-03,\n",
              "         -1.10570252e-01],\n",
              "        [-2.06014588e-01, -4.03968580e-02,  2.34696612e-01,\n",
              "         -5.70177175e-02,  1.87755078e-01,  2.37099826e-01,\n",
              "          8.92360359e-02,  1.33419991e-01, -1.17547058e-01,\n",
              "          1.60833836e-01],\n",
              "        [ 1.33362740e-01, -1.14428408e-01, -7.07271025e-02,\n",
              "         -2.64699042e-01,  1.42729208e-01, -3.55490148e-02,\n",
              "          8.97354037e-02,  2.66293794e-01,  1.88377202e-02,\n",
              "         -1.76723853e-01],\n",
              "        [ 1.98769093e-01,  1.51237950e-01,  5.38732484e-02,\n",
              "          1.93779916e-01, -1.27950329e-02, -8.52699205e-02,\n",
              "          4.74456549e-02, -1.57280117e-01,  1.30152911e-01,\n",
              "         -1.72765315e-01],\n",
              "        [-9.82829258e-02,  1.80710793e-01,  2.40789980e-01,\n",
              "         -1.85257316e-01, -2.61076331e-01,  1.79876581e-01,\n",
              "          2.82453507e-01, -1.20959029e-01,  1.68081731e-01,\n",
              "         -9.61859077e-02],\n",
              "        [ 9.30080339e-02, -2.24238098e-01,  1.75683692e-01,\n",
              "         -4.92603928e-02, -2.14035824e-01,  1.29587427e-01,\n",
              "         -2.46037915e-01,  1.99761212e-01, -1.31889567e-01,\n",
              "          2.37379134e-01],\n",
              "        [-2.52119210e-02,  2.12817937e-01,  2.24144459e-01,\n",
              "         -7.41420090e-02, -1.84264511e-01, -2.83511370e-01,\n",
              "         -2.60448039e-01,  1.76686361e-01,  2.26346496e-02,\n",
              "          2.98769921e-02],\n",
              "        [ 1.74253523e-01,  7.70185962e-02,  1.28810838e-01,\n",
              "         -6.81848004e-02, -1.49902105e-02,  1.21435367e-01,\n",
              "          8.82352740e-02,  1.78449541e-01,  9.96318683e-02,\n",
              "          2.73808450e-01],\n",
              "        [-1.74809426e-01, -2.26327464e-01, -2.19998211e-01,\n",
              "         -6.73921555e-02, -1.14117101e-01,  2.71885872e-01,\n",
              "          1.42689243e-01,  2.27240220e-01,  1.00233935e-01,\n",
              "         -1.83773249e-01],\n",
              "        [ 2.23893479e-01, -1.46961762e-02, -1.55004993e-01,\n",
              "         -6.93206042e-02,  1.63070694e-01,  1.79240912e-01,\n",
              "          5.59456348e-02,  9.03712288e-02,  3.92968282e-02,\n",
              "         -8.06559771e-02],\n",
              "        [-1.62581831e-01, -1.45827413e-01, -7.61895180e-02,\n",
              "         -2.60001689e-01,  7.68278167e-02, -1.78458974e-01,\n",
              "         -2.74448752e-01, -5.99026009e-02, -1.64128020e-02,\n",
              "          9.34997424e-02],\n",
              "        [ 7.04383031e-02, -4.19550613e-02, -2.58902639e-01,\n",
              "          2.09005356e-01,  2.29770273e-01,  1.68940559e-01,\n",
              "          2.03498900e-01,  1.44421652e-01, -2.15542763e-02,\n",
              "          2.80440390e-01],\n",
              "        [-1.93277672e-01,  5.09361885e-02,  2.67903239e-01,\n",
              "          2.60583103e-01, -1.80059746e-01,  1.16366342e-01,\n",
              "         -1.52107224e-01, -1.21965505e-01, -2.49415562e-01,\n",
              "         -1.17023572e-01],\n",
              "        [ 1.31884366e-01, -2.16326520e-01, -2.31471270e-01,\n",
              "          8.95301774e-02,  2.02663913e-01, -1.41668871e-01,\n",
              "         -5.55648319e-02, -2.15502679e-01,  7.80008780e-03,\n",
              "         -6.32550940e-02],\n",
              "        [ 7.24088848e-02,  1.31229743e-01,  8.58515501e-02,\n",
              "         -2.17847124e-01, -2.50042398e-02, -1.09920993e-01,\n",
              "          1.87747270e-01,  2.54295647e-01,  2.65146762e-01,\n",
              "         -7.02421591e-02],\n",
              "        [-7.30007663e-02, -5.03625013e-02, -1.97200887e-02,\n",
              "         -4.41927873e-02,  6.85712025e-02, -1.11837044e-01,\n",
              "         -1.54972728e-02,  4.74016108e-02, -1.07164480e-01,\n",
              "          2.75173396e-01],\n",
              "        [-9.60066170e-02, -1.94359627e-02,  1.22322487e-02,\n",
              "         -4.36988510e-02, -8.07302147e-02,  1.15363747e-01,\n",
              "          1.45845458e-01, -1.14244618e-01,  1.81426585e-01,\n",
              "         -1.65254697e-01],\n",
              "        [-1.85104907e-02,  6.83579147e-02,  1.37654185e-01,\n",
              "         -2.32349321e-01, -8.10015649e-02, -2.84250855e-01,\n",
              "          5.69955111e-02,  1.98311239e-01,  1.97568744e-01,\n",
              "         -8.05209130e-02],\n",
              "        [ 1.66341335e-01, -6.23296350e-02,  1.26378626e-01,\n",
              "         -5.63430339e-02, -2.40018949e-01, -1.95520729e-01,\n",
              "          6.62737787e-02,  4.13060784e-02, -1.96235180e-01,\n",
              "         -2.59410858e-01],\n",
              "        [ 2.72836536e-01,  1.50827035e-01,  1.70376822e-01,\n",
              "         -1.02521956e-01, -1.74323738e-01,  1.33060455e-01,\n",
              "         -4.47153039e-02, -2.26048172e-01,  8.85310695e-02,\n",
              "          2.40421206e-01],\n",
              "        [ 5.44748381e-02, -1.89842686e-01,  9.00299922e-02,\n",
              "         -2.26280481e-01,  1.46948755e-01, -1.32565305e-01,\n",
              "         -8.99005383e-02, -1.06935374e-01,  7.45505989e-02,\n",
              "         -2.77821213e-01],\n",
              "        [ 6.02807365e-02, -7.32486993e-02,  2.21770048e-01,\n",
              "         -1.69203207e-01, -1.04680434e-01,  7.12530613e-02,\n",
              "          2.05622181e-01,  2.76200891e-01, -2.45090872e-01,\n",
              "          2.04416752e-01],\n",
              "        [ 7.94099942e-02,  7.61530921e-02, -7.79703036e-02,\n",
              "         -2.58009247e-02, -8.49241912e-02,  2.67285854e-01,\n",
              "         -1.93928033e-01, -5.58894463e-02, -1.09232239e-01,\n",
              "         -1.85167968e-01],\n",
              "        [ 2.66405910e-01,  2.05263793e-01,  2.03229710e-01,\n",
              "          2.81704426e-01,  1.11619323e-01,  5.47464155e-02,\n",
              "          2.22060699e-02, -2.26794302e-01,  5.23417518e-02,\n",
              "          1.80729285e-01],\n",
              "        [-1.60300761e-01, -3.67993414e-02, -1.46504000e-01,\n",
              "         -4.22639251e-02, -4.86301631e-02,  1.17666066e-01,\n",
              "         -1.64758146e-01,  1.23216212e-01,  1.21056110e-01,\n",
              "          2.86256969e-02],\n",
              "        [-2.07219034e-01,  1.57055065e-01, -1.15880840e-01,\n",
              "         -1.66091666e-01, -3.68599892e-02,  8.81389603e-02,\n",
              "          7.73856044e-03,  1.95546642e-01,  2.17090711e-01,\n",
              "          6.38680384e-02],\n",
              "        [-7.84469843e-02,  1.14093237e-01,  1.24331631e-01,\n",
              "          9.15609300e-03,  2.32546955e-01, -9.26908776e-02,\n",
              "         -2.41954818e-01,  1.84449945e-02, -7.74692968e-02,\n",
              "          1.10750914e-01],\n",
              "        [ 4.78019118e-02, -2.71628708e-01, -2.83898234e-01,\n",
              "          1.35605201e-01, -1.94789752e-01, -1.84888800e-03,\n",
              "          2.38660946e-01,  1.49420993e-02,  7.35829622e-02,\n",
              "          2.50668377e-01],\n",
              "        [-1.98062211e-02,  1.01976693e-02, -9.83861461e-03,\n",
              "         -2.84095466e-01,  2.01386184e-01, -4.80241664e-02,\n",
              "         -2.35848546e-01,  1.86627403e-01,  8.61488208e-02,\n",
              "          1.93139948e-02],\n",
              "        [-1.51642812e-02,  7.56595610e-03,  1.97545271e-02,\n",
              "          1.47205114e-01,  1.70712635e-01, -2.65298337e-01,\n",
              "         -1.13076337e-01,  7.19915926e-02, -5.63765503e-03,\n",
              "          8.54353085e-02],\n",
              "        [ 1.83445141e-01,  8.73846561e-02, -2.56044213e-02,\n",
              "          1.79215178e-01,  2.23697394e-01,  2.11072899e-03,\n",
              "         -1.37139201e-01, -1.58019587e-01, -1.12997860e-01,\n",
              "         -2.54618645e-01],\n",
              "        [ 1.59838796e-01,  1.03788100e-01, -2.10610241e-01,\n",
              "          2.69484464e-02, -1.63692459e-01, -1.76383317e-01,\n",
              "         -2.26577491e-01, -2.04406455e-01, -1.87104374e-01,\n",
              "         -7.40150511e-02],\n",
              "        [-1.95721045e-01,  1.42182857e-01, -1.80454850e-01,\n",
              "         -9.75985676e-02,  2.06256151e-01,  1.96376622e-01,\n",
              "         -4.45113108e-02,  1.74294844e-01,  5.98790422e-02,\n",
              "          1.64775997e-01],\n",
              "        [ 1.70287296e-01, -1.44433245e-01, -8.87567028e-02,\n",
              "         -2.68620610e-01,  2.38740817e-02, -3.12121343e-02,\n",
              "          1.11104198e-01,  2.89968159e-02,  1.28993303e-01,\n",
              "         -2.27110982e-01],\n",
              "        [ 1.18884116e-01, -2.35202491e-01,  2.08343148e-01,\n",
              "          2.47070432e-01, -7.97117203e-02, -1.39981508e-02,\n",
              "          1.29982695e-01, -5.86312413e-02,  5.17346933e-02,\n",
              "          7.79765770e-02],\n",
              "        [-2.09275693e-01, -2.38479614e-01,  2.90904641e-02,\n",
              "          4.81453873e-02, -2.12252378e-01, -9.10795256e-02,\n",
              "         -1.41475990e-01, -1.47782683e-01, -1.95963174e-01,\n",
              "         -2.51093894e-01],\n",
              "        [ 1.26611531e-01, -1.06393620e-01, -2.43719637e-01,\n",
              "          1.53373495e-01, -1.80169255e-01,  8.24129879e-02,\n",
              "          1.72233693e-02,  1.67644143e-01, -3.48214805e-02,\n",
              "         -1.86830088e-01],\n",
              "        [ 9.14398655e-02,  2.84545332e-01, -1.33606121e-01,\n",
              "         -7.76789784e-02,  2.03422159e-02, -2.65200585e-02,\n",
              "          1.91833153e-01,  3.61343585e-02, -1.83729813e-01,\n",
              "         -2.74762213e-01],\n",
              "        [ 2.16501858e-02, -1.76885769e-01,  2.12415203e-01,\n",
              "          1.68204024e-01,  2.21438989e-01,  2.11552382e-02,\n",
              "          8.95703882e-02, -2.11031362e-01,  1.45695254e-01,\n",
              "         -2.10800424e-01],\n",
              "        [ 5.01941219e-02, -6.39945194e-02, -1.49084628e-01,\n",
              "          2.83880681e-01,  1.29640579e-01, -1.59641460e-01,\n",
              "         -9.29042026e-02, -8.85761380e-02, -8.85039046e-02,\n",
              "         -1.49477005e-01],\n",
              "        [-3.67284007e-02, -1.12846710e-01, -1.90819055e-01,\n",
              "          1.24768063e-01,  6.63318858e-02, -1.58932835e-01,\n",
              "          1.26021743e-01, -2.00917676e-01, -1.70625195e-01,\n",
              "         -6.86008260e-02],\n",
              "        [-2.28362262e-01, -2.20350534e-01, -2.78027266e-01,\n",
              "          2.24196404e-01,  1.91500604e-01, -5.07195145e-02,\n",
              "          1.31768942e-01, -2.13015869e-01,  5.46900630e-02,\n",
              "          2.66608208e-01],\n",
              "        [-1.26312554e-01,  1.67263865e-01,  1.91943735e-01,\n",
              "         -1.46290377e-01, -1.06858097e-01, -1.81792095e-01,\n",
              "          1.32369444e-01, -1.94049999e-01,  1.44999672e-03,\n",
              "          1.87457457e-01],\n",
              "        [-1.44103169e-01, -2.38191098e-01, -2.34324485e-01,\n",
              "          1.65013403e-01, -1.67260677e-01, -2.37306505e-01,\n",
              "         -1.99987948e-01, -2.45801479e-01, -5.10083884e-02,\n",
              "         -7.69523233e-02],\n",
              "        [ 1.44582748e-01, -2.62955744e-02,  1.11139782e-01,\n",
              "         -1.19105577e-02,  1.00136250e-01,  1.08362390e-02,\n",
              "         -1.80315778e-01, -1.27544748e-02, -2.07773983e-01,\n",
              "          1.54382531e-02],\n",
              "        [-1.37513503e-01, -2.37246618e-01,  2.73038983e-01,\n",
              "         -1.68208152e-01,  2.81389326e-01, -2.59120166e-01,\n",
              "         -8.46334696e-02,  5.13168536e-02, -1.07787095e-01,\n",
              "          5.33396453e-02],\n",
              "        [ 1.82884008e-01,  2.51630932e-01, -2.14642197e-01,\n",
              "          2.45265186e-01,  1.81274861e-01,  2.23491043e-01,\n",
              "         -4.60421145e-02,  1.53143303e-02,  2.53339499e-01,\n",
              "         -2.01743498e-01],\n",
              "        [ 1.66138262e-01,  2.48283848e-01, -3.49917635e-02,\n",
              "          1.72419816e-01,  1.71339586e-01, -1.02216765e-01,\n",
              "          1.40727028e-01, -1.64693370e-01,  3.90399992e-03,\n",
              "          2.51742750e-01],\n",
              "        [-1.14713917e-02, -1.23054266e-01, -2.00227797e-01,\n",
              "         -1.89019397e-01,  2.09118992e-01,  2.46697254e-02,\n",
              "         -2.37713039e-01, -5.91900647e-02, -2.58807954e-03,\n",
              "         -1.97857231e-01],\n",
              "        [ 7.14152306e-02, -2.13422589e-02,  2.38712057e-01,\n",
              "          2.77919650e-01, -2.55631715e-01, -2.33211279e-01,\n",
              "         -6.45140782e-02, -2.65155792e-01, -2.55676657e-01,\n",
              "         -2.17761338e-01],\n",
              "        [-1.55393437e-01, -2.36558154e-01,  2.04007506e-01,\n",
              "         -2.17864420e-02, -1.75382614e-01,  2.20594600e-01,\n",
              "         -2.26997077e-01, -6.24814071e-02,  1.03523329e-01,\n",
              "          1.29437640e-01],\n",
              "        [ 5.05717173e-02, -2.29170606e-01, -1.15350157e-01,\n",
              "         -2.91961282e-02, -3.34785879e-02, -2.69423366e-01,\n",
              "         -1.14092089e-01, -4.10509147e-02,  1.67396978e-01,\n",
              "          1.41927339e-02],\n",
              "        [-7.51327127e-02,  2.23923221e-01, -1.83214799e-01,\n",
              "         -9.66920555e-02, -2.34865189e-01,  2.31650248e-01,\n",
              "          1.90959170e-01,  7.38196671e-02,  1.09567657e-01,\n",
              "         -1.13522774e-02]], dtype=float32),\n",
              " array([-1.3807940e-04,  4.9533549e-04,  3.9132567e-05,  6.5999993e-05,\n",
              "        -1.5469451e-04, -4.5997658e-04,  8.1284168e-05,  2.1635895e-04,\n",
              "        -3.4320812e-05, -2.5742207e-04], dtype=float32)]"
            ]
          },
          "metadata": {
            "tags": []
          },
          "execution_count": 75
        }
      ]
    },
    {
      "cell_type": "markdown",
      "metadata": {
        "id": "iAJo7K_7GEew",
        "colab_type": "text"
      },
      "source": [
        "## Step 3: Setup Your Worker Connectors\n",
        "\n",
        "Let's now connect to the TFEWorkers (`alice`, `bob`, and `carol`) required by TF Encrypted to perform private predictions. For each TFEWorker, you just have to specify a host.\n",
        "\n",
        "These workers run a [TensorFlow server](https://www.tensorflow.org/api_docs/python/tf/distribute/Server), which you can either manage manually (`AUTO = False`) or ask the workers to manage for you (`AUTO = True`). If choosing to manually manage them, you will be instructed to execute a terminal command on each worker's host device after calling `model.share()` below.  If all workers are hosted on a single device (e.g. `localhost`), you can choose to have Syft automatically manage the worker's TensorFlow server."
      ]
    },
    {
      "cell_type": "code",
      "metadata": {
        "id": "-zoGWFTnGEew",
        "colab_type": "code",
        "colab": {}
      },
      "source": [
        "AUTO = False\n",
        "\n",
        "alice = sy.TFEWorker(host='localhost:4000', auto_managed=AUTO)\n",
        "bob = sy.TFEWorker(host='localhost:4001', auto_managed=AUTO)\n",
        "carol = sy.TFEWorker(host='localhost:4002', auto_managed=AUTO)"
      ],
      "execution_count": 0,
      "outputs": []
    },
    {
      "cell_type": "code",
      "metadata": {
        "id": "0UlaIjYcykR0",
        "colab_type": "code",
        "colab": {}
      },
      "source": [
        ""
      ],
      "execution_count": 0,
      "outputs": []
    },
    {
      "cell_type": "markdown",
      "metadata": {
        "id": "2hSFvO31GEez",
        "colab_type": "text"
      },
      "source": [
        "## Step 4: Split the Model Into Shares\n",
        "\n",
        "Thanks to `sy.KerasHook(tf.keras)` you can call the `share` method to transform your model into a TF Encrypted Keras model.\n",
        "\n",
        "If you have asked to manually manage servers above then this step will not complete until they have all been launched. Note that your firewall may ask for Python to accept incoming connection."
      ]
    },
    {
      "cell_type": "code",
      "metadata": {
        "id": "Zpl4g6UYGEez",
        "colab_type": "code",
        "outputId": "fee2efe8-083d-44fe-9319-43225c40198b",
        "colab": {
          "base_uri": "https://localhost:8080/",
          "height": 164
        }
      },
      "source": [
        "model.share(alice, bob, carol)"
      ],
      "execution_count": 72,
      "outputs": [
        {
          "output_type": "error",
          "ename": "TypeError",
          "evalue": "ignored",
          "traceback": [
            "\u001b[0;31m---------------------------------------------------------------------------\u001b[0m",
            "\u001b[0;31mTypeError\u001b[0m                                 Traceback (most recent call last)",
            "\u001b[0;32m<ipython-input-72-5b486064ddb2>\u001b[0m in \u001b[0;36m<module>\u001b[0;34m()\u001b[0m\n\u001b[0;32m----> 1\u001b[0;31m \u001b[0mmodel\u001b[0m\u001b[0;34m.\u001b[0m\u001b[0mshare\u001b[0m\u001b[0;34m(\u001b[0m\u001b[0malice\u001b[0m\u001b[0;34m,\u001b[0m \u001b[0mbob\u001b[0m\u001b[0;34m,\u001b[0m \u001b[0mcarol\u001b[0m\u001b[0;34m)\u001b[0m\u001b[0;34m\u001b[0m\u001b[0;34m\u001b[0m\u001b[0m\n\u001b[0m",
            "\u001b[0;31mTypeError\u001b[0m: share() takes from 2 to 3 positional arguments but 4 were given"
          ]
        }
      ]
    },
    {
      "cell_type": "markdown",
      "metadata": {
        "id": "Hy47x4DLGEe0",
        "colab_type": "text"
      },
      "source": [
        "## Step 5: Launch 3 Servers\n",
        "\n",
        "```\n",
        "python -m tf_encrypted.player --config /tmp/tfe.config server0\n",
        "python -m tf_encrypted.player --config /tmp/tfe.config server1\n",
        "python -m tf_encrypted.player --config /tmp/tfe.config server2```"
      ]
    },
    {
      "cell_type": "markdown",
      "metadata": {
        "id": "bWq2-MnwGEe0",
        "colab_type": "text"
      },
      "source": [
        "## Step 6: Serve the Model\n",
        "\n",
        "Perfect! Now by calling `model.serve`, your model is ready to provide some private predictions. You can set `num_requests` to set a limit on the number of predictions requests served by the model; if not specified then the model will be served until interrupted."
      ]
    },
    {
      "cell_type": "code",
      "metadata": {
        "id": "tQAyhSJeGEe1",
        "colab_type": "code",
        "outputId": "8558879e-6524-4bdb-f3f2-e3542f54cf04",
        "colab": {}
      },
      "source": [
        "model.serve(num_requests=3)"
      ],
      "execution_count": 0,
      "outputs": [
        {
          "output_type": "stream",
          "text": [
            "Served encrypted prediction 1 to client.\n",
            "Served encrypted prediction 2 to client.\n",
            "Served encrypted prediction 3 to client.\n"
          ],
          "name": "stdout"
        }
      ]
    },
    {
      "cell_type": "markdown",
      "metadata": {
        "id": "e7Yf5sNmGEe2",
        "colab_type": "text"
      },
      "source": [
        "## Step 7: Run the Client\n",
        "\n",
        "At this point open up and run the companion notebook: Section 4b - Encrytped Keras Client"
      ]
    },
    {
      "cell_type": "markdown",
      "metadata": {
        "id": "ZNEEH_FBGEe2",
        "colab_type": "text"
      },
      "source": [
        "## Step 8: Shutdown the Servers\n",
        "\n",
        "Once your request limit above, the model will no longer be available for serving requests, but it's still secret shared between the three workers above. You can kill the workers by executing the cell below.\n",
        "\n",
        "**Congratulations** on finishing Part 12: Secure Classification with Syft Keras and TFE!"
      ]
    },
    {
      "cell_type": "code",
      "metadata": {
        "id": "jdOkyuvUGEe2",
        "colab_type": "code",
        "colab": {}
      },
      "source": [
        "model.shutdown_workers()\n",
        "\n",
        "if not AUTO:\n",
        "    process_ids = !ps aux | grep '[p]ython -m tf_encrypted.player --config /tmp/tfe.config' | awk '{print $2}'\n",
        "    for process_id in process_ids:\n",
        "        !kill {process_id}\n",
        "        print(\"Process ID {id} has been killed.\".format(id=process_id))"
      ],
      "execution_count": 0,
      "outputs": []
    },
    {
      "cell_type": "code",
      "metadata": {
        "id": "ZE4JQZY1GEe3",
        "colab_type": "code",
        "colab": {}
      },
      "source": [
        ""
      ],
      "execution_count": 0,
      "outputs": []
    },
    {
      "cell_type": "markdown",
      "metadata": {
        "id": "dgbP_hRlGEe4",
        "colab_type": "text"
      },
      "source": [
        "# Keystone Project - Mix and Match What You've Learned\n",
        "\n",
        "Description: Take two of the concepts you've learned about in this course (Encrypted Computation, Federated Learning, Differential Privacy) and combine them for a use case of your own design. Extra credit if you can get your demo working with [WebSocketWorkers](https://github.com/OpenMined/PySyft/tree/dev/examples/tutorials/advanced/websockets-example-MNIST) instead of VirtualWorkers! Then take your demo or example application, write a blogpost, and share that blogpost in #general-discussion on OpenMined's slack!!!\n",
        "\n",
        "Inspiration:\n",
        "- This Course's Code: https://github.com/Udacity/private-ai\n",
        "- OpenMined's Tutorials: https://github.com/OpenMined/PySyft/tree/dev/examples/tutorials\n",
        "- OpenMined's Blog: https://blog.openmined.org"
      ]
    },
    {
      "cell_type": "code",
      "metadata": {
        "id": "hdOZ63joGEe4",
        "colab_type": "code",
        "colab": {}
      },
      "source": [
        ""
      ],
      "execution_count": 0,
      "outputs": []
    },
    {
      "cell_type": "code",
      "metadata": {
        "id": "1ZtwujDKGEe5",
        "colab_type": "code",
        "colab": {}
      },
      "source": [
        ""
      ],
      "execution_count": 0,
      "outputs": []
    },
    {
      "cell_type": "code",
      "metadata": {
        "id": "L8Yxi7kTGEe6",
        "colab_type": "code",
        "colab": {}
      },
      "source": [
        ""
      ],
      "execution_count": 0,
      "outputs": []
    },
    {
      "cell_type": "code",
      "metadata": {
        "id": "GcWYVYNlGEe6",
        "colab_type": "code",
        "colab": {}
      },
      "source": [
        ""
      ],
      "execution_count": 0,
      "outputs": []
    },
    {
      "cell_type": "code",
      "metadata": {
        "id": "uWFk-dqEGEe7",
        "colab_type": "code",
        "colab": {}
      },
      "source": [
        ""
      ],
      "execution_count": 0,
      "outputs": []
    },
    {
      "cell_type": "code",
      "metadata": {
        "id": "zlHKqhjsGEe8",
        "colab_type": "code",
        "colab": {}
      },
      "source": [
        ""
      ],
      "execution_count": 0,
      "outputs": []
    },
    {
      "cell_type": "code",
      "metadata": {
        "id": "Qchm2_GDGEe8",
        "colab_type": "code",
        "colab": {}
      },
      "source": [
        ""
      ],
      "execution_count": 0,
      "outputs": []
    },
    {
      "cell_type": "code",
      "metadata": {
        "id": "ZmV5VMN5GEe9",
        "colab_type": "code",
        "colab": {}
      },
      "source": [
        ""
      ],
      "execution_count": 0,
      "outputs": []
    },
    {
      "cell_type": "code",
      "metadata": {
        "id": "OwF56ZDVGEe9",
        "colab_type": "code",
        "colab": {}
      },
      "source": [
        ""
      ],
      "execution_count": 0,
      "outputs": []
    },
    {
      "cell_type": "code",
      "metadata": {
        "id": "D9KwYqlpGEe-",
        "colab_type": "code",
        "colab": {}
      },
      "source": [
        ""
      ],
      "execution_count": 0,
      "outputs": []
    },
    {
      "cell_type": "code",
      "metadata": {
        "id": "LFLxfhAsGEe-",
        "colab_type": "code",
        "colab": {}
      },
      "source": [
        ""
      ],
      "execution_count": 0,
      "outputs": []
    },
    {
      "cell_type": "code",
      "metadata": {
        "id": "RBFdoteVGEe_",
        "colab_type": "code",
        "colab": {}
      },
      "source": [
        ""
      ],
      "execution_count": 0,
      "outputs": []
    },
    {
      "cell_type": "code",
      "metadata": {
        "id": "dtohxedXGEe_",
        "colab_type": "code",
        "colab": {}
      },
      "source": [
        ""
      ],
      "execution_count": 0,
      "outputs": []
    },
    {
      "cell_type": "code",
      "metadata": {
        "id": "pqXTCrUWGEfA",
        "colab_type": "code",
        "colab": {}
      },
      "source": [
        ""
      ],
      "execution_count": 0,
      "outputs": []
    },
    {
      "cell_type": "code",
      "metadata": {
        "id": "KDMdk1NnGEfB",
        "colab_type": "code",
        "colab": {}
      },
      "source": [
        ""
      ],
      "execution_count": 0,
      "outputs": []
    },
    {
      "cell_type": "code",
      "metadata": {
        "id": "7z_oMq4pGEfB",
        "colab_type": "code",
        "colab": {}
      },
      "source": [
        ""
      ],
      "execution_count": 0,
      "outputs": []
    },
    {
      "cell_type": "code",
      "metadata": {
        "id": "v-BTx1o0GEfC",
        "colab_type": "code",
        "colab": {}
      },
      "source": [
        ""
      ],
      "execution_count": 0,
      "outputs": []
    },
    {
      "cell_type": "code",
      "metadata": {
        "id": "3Zr6ARXiGEfC",
        "colab_type": "code",
        "colab": {}
      },
      "source": [
        ""
      ],
      "execution_count": 0,
      "outputs": []
    },
    {
      "cell_type": "code",
      "metadata": {
        "id": "Hbc77tnoGEfD",
        "colab_type": "code",
        "colab": {}
      },
      "source": [
        ""
      ],
      "execution_count": 0,
      "outputs": []
    }
  ]
}